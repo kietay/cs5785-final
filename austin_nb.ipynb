{
 "cells": [
  {
   "cell_type": "code",
   "execution_count": 1,
   "metadata": {},
   "outputs": [],
   "source": [
    "from utils.BoW_data import load_dataframe as ld"
   ]
  },
  {
   "cell_type": "code",
   "execution_count": 2,
   "metadata": {},
   "outputs": [],
   "source": [
    "classes, df = ld()"
   ]
  },
  {
   "cell_type": "code",
   "execution_count": 4,
   "metadata": {},
   "outputs": [
    {
     "data": {
      "text/plain": [
       "'11'"
      ]
     },
     "execution_count": 4,
     "metadata": {},
     "output_type": "execute_result"
    }
   ],
   "source": [
    "classes[0]"
   ]
  },
  {
   "cell_type": "code",
   "execution_count": 5,
   "metadata": {},
   "outputs": [
    {
     "data": {
      "text/html": [
       "<div>\n",
       "<style scoped>\n",
       "    .dataframe tbody tr th:only-of-type {\n",
       "        vertical-align: middle;\n",
       "    }\n",
       "\n",
       "    .dataframe tbody tr th {\n",
       "        vertical-align: top;\n",
       "    }\n",
       "\n",
       "    .dataframe thead th {\n",
       "        text-align: right;\n",
       "    }\n",
       "</style>\n",
       "<table border=\"1\" class=\"dataframe\">\n",
       "  <thead>\n",
       "    <tr style=\"text-align: right;\">\n",
       "      <th></th>\n",
       "      <th>image_file</th>\n",
       "      <th>resnet_vector</th>\n",
       "      <th>descriptions</th>\n",
       "      <th>tags</th>\n",
       "      <th>word_list</th>\n",
       "      <th>word_vector</th>\n",
       "    </tr>\n",
       "  </thead>\n",
       "  <tbody>\n",
       "    <tr>\n",
       "      <td>0</td>\n",
       "      <td>images_train/5373.jpg</td>\n",
       "      <td>[-0.8994496464729309, -0.9304700493812561, -2....</td>\n",
       "      <td>[a red train is docked at the station, Several...</td>\n",
       "      <td>[vehicle:train, person:person, indoor:clock, a...</td>\n",
       "      <td>[red, train, dock, station]</td>\n",
       "      <td>[0, 0, 0, 0, 0, 0, 0, 0, 0, 0, 0, 0, 0, 0, 0, ...</td>\n",
       "    </tr>\n",
       "    <tr>\n",
       "      <td>1</td>\n",
       "      <td>images_train/984.jpg</td>\n",
       "      <td>[-1.3469539880752563, -3.1194605827331543, -0....</td>\n",
       "      <td>[A man with blue jersey holding a baseball bat...</td>\n",
       "      <td>[person:person, sports:baseball bat]</td>\n",
       "      <td>[man, blue, jersey, hold, basebal, bat]</td>\n",
       "      <td>[0, 0, 0, 0, 0, 0, 0, 0, 0, 0, 0, 0, 0, 0, 0, ...</td>\n",
       "    </tr>\n",
       "    <tr>\n",
       "      <td>2</td>\n",
       "      <td>images_train/7127.jpg</td>\n",
       "      <td>[-3.44549822807312, -1.5245732069015503, -1.00...</td>\n",
       "      <td>[A kitchen decorated in red and white with acc...</td>\n",
       "      <td>[appliance:refrigerator, appliance:oven, appli...</td>\n",
       "      <td>[kitchen, decor, red, white, accessori]</td>\n",
       "      <td>[0, 0, 0, 0, 0, 0, 0, 0, 0, 0, 0, 0, 0, 0, 0, ...</td>\n",
       "    </tr>\n",
       "    <tr>\n",
       "      <td>3</td>\n",
       "      <td>images_train/9609.jpg</td>\n",
       "      <td>[1.1146496534347534, -2.1671018600463867, 0.09...</td>\n",
       "      <td>[A black and white dog chasing sheep in a fiel...</td>\n",
       "      <td>[animal:dog, animal:sheep]</td>\n",
       "      <td>[black, white, dog, chase, sheep, field]</td>\n",
       "      <td>[0, 0, 0, 0, 0, 0, 0, 0, 0, 0, 0, 0, 0, 0, 0, ...</td>\n",
       "    </tr>\n",
       "    <tr>\n",
       "      <td>4</td>\n",
       "      <td>images_train/5293.jpg</td>\n",
       "      <td>[1.6026496887207031, -1.5058174133300781, 3.02...</td>\n",
       "      <td>[Two bears with their mouths open in the water...</td>\n",
       "      <td>[animal:bear]</td>\n",
       "      <td>[two, bear, mouth, open, water]</td>\n",
       "      <td>[0, 0, 0, 0, 0, 0, 0, 0, 0, 0, 0, 0, 0, 0, 0, ...</td>\n",
       "    </tr>\n",
       "  </tbody>\n",
       "</table>\n",
       "</div>"
      ],
      "text/plain": [
       "              image_file                                      resnet_vector  \\\n",
       "0  images_train/5373.jpg  [-0.8994496464729309, -0.9304700493812561, -2....   \n",
       "1   images_train/984.jpg  [-1.3469539880752563, -3.1194605827331543, -0....   \n",
       "2  images_train/7127.jpg  [-3.44549822807312, -1.5245732069015503, -1.00...   \n",
       "3  images_train/9609.jpg  [1.1146496534347534, -2.1671018600463867, 0.09...   \n",
       "4  images_train/5293.jpg  [1.6026496887207031, -1.5058174133300781, 3.02...   \n",
       "\n",
       "                                        descriptions  \\\n",
       "0  [a red train is docked at the station, Several...   \n",
       "1  [A man with blue jersey holding a baseball bat...   \n",
       "2  [A kitchen decorated in red and white with acc...   \n",
       "3  [A black and white dog chasing sheep in a fiel...   \n",
       "4  [Two bears with their mouths open in the water...   \n",
       "\n",
       "                                                tags  \\\n",
       "0  [vehicle:train, person:person, indoor:clock, a...   \n",
       "1               [person:person, sports:baseball bat]   \n",
       "2  [appliance:refrigerator, appliance:oven, appli...   \n",
       "3                         [animal:dog, animal:sheep]   \n",
       "4                                      [animal:bear]   \n",
       "\n",
       "                                  word_list  \\\n",
       "0               [red, train, dock, station]   \n",
       "1   [man, blue, jersey, hold, basebal, bat]   \n",
       "2   [kitchen, decor, red, white, accessori]   \n",
       "3  [black, white, dog, chase, sheep, field]   \n",
       "4           [two, bear, mouth, open, water]   \n",
       "\n",
       "                                         word_vector  \n",
       "0  [0, 0, 0, 0, 0, 0, 0, 0, 0, 0, 0, 0, 0, 0, 0, ...  \n",
       "1  [0, 0, 0, 0, 0, 0, 0, 0, 0, 0, 0, 0, 0, 0, 0, ...  \n",
       "2  [0, 0, 0, 0, 0, 0, 0, 0, 0, 0, 0, 0, 0, 0, 0, ...  \n",
       "3  [0, 0, 0, 0, 0, 0, 0, 0, 0, 0, 0, 0, 0, 0, 0, ...  \n",
       "4  [0, 0, 0, 0, 0, 0, 0, 0, 0, 0, 0, 0, 0, 0, 0, ...  "
      ]
     },
     "execution_count": 5,
     "metadata": {},
     "output_type": "execute_result"
    }
   ],
   "source": [
    "df.head()"
   ]
  },
  {
   "cell_type": "code",
   "execution_count": null,
   "metadata": {},
   "outputs": [],
   "source": []
  }
 ],
 "metadata": {
  "kernelspec": {
   "display_name": "Python 3",
   "language": "python",
   "name": "python3"
  },
  "language_info": {
   "codemirror_mode": {
    "name": "ipython",
    "version": 3
   },
   "file_extension": ".py",
   "mimetype": "text/x-python",
   "name": "python",
   "nbconvert_exporter": "python",
   "pygments_lexer": "ipython3",
   "version": "3.6.5"
  }
 },
 "nbformat": 4,
 "nbformat_minor": 2
}
