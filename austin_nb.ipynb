{
 "cells": [
  {
   "cell_type": "code",
   "execution_count": 1,
   "metadata": {},
   "outputs": [],
   "source": [
    "from utils.BoW_data import load_dataframe as ld"
   ]
  },
  {
   "cell_type": "code",
   "execution_count": 2,
   "metadata": {},
   "outputs": [],
   "source": [
    "mlb_tags_train, mlb_words_train, df_train = ld()"
   ]
  },
  {
   "cell_type": "code",
   "execution_count": 3,
   "metadata": {},
   "outputs": [
    {
     "data": {
      "text/plain": [
       "'11'"
      ]
     },
     "execution_count": 3,
     "metadata": {},
     "output_type": "execute_result"
    }
   ],
   "source": [
    "mlb_words_train.classes_[0]"
   ]
  },
  {
   "cell_type": "code",
   "execution_count": 4,
   "metadata": {},
   "outputs": [
    {
     "data": {
      "text/html": [
       "<div>\n",
       "<style scoped>\n",
       "    .dataframe tbody tr th:only-of-type {\n",
       "        vertical-align: middle;\n",
       "    }\n",
       "\n",
       "    .dataframe tbody tr th {\n",
       "        vertical-align: top;\n",
       "    }\n",
       "\n",
       "    .dataframe thead th {\n",
       "        text-align: right;\n",
       "    }\n",
       "</style>\n",
       "<table border=\"1\" class=\"dataframe\">\n",
       "  <thead>\n",
       "    <tr style=\"text-align: right;\">\n",
       "      <th></th>\n",
       "      <th>image_file</th>\n",
       "      <th>resnet_vector</th>\n",
       "      <th>descriptions</th>\n",
       "      <th>tags</th>\n",
       "      <th>tags_values</th>\n",
       "      <th>tags_vec</th>\n",
       "      <th>word_list</th>\n",
       "      <th>word_vector</th>\n",
       "    </tr>\n",
       "  </thead>\n",
       "  <tbody>\n",
       "    <tr>\n",
       "      <td>0</td>\n",
       "      <td>images_train/5373.jpg</td>\n",
       "      <td>[-0.8994496464729309, -0.9304700493812561, -2....</td>\n",
       "      <td>[a red train is docked at the station, Several...</td>\n",
       "      <td>[vehicle:train, person:person, indoor:clock, a...</td>\n",
       "      <td>[train, person, clock, handbag]</td>\n",
       "      <td>[0, 0, 0, 0, 0, 0, 0, 0, 0, 0, 0, 0, 0, 0, 0, ...</td>\n",
       "      <td>[red, train, dock, station]</td>\n",
       "      <td>[0, 0, 0, 0, 0, 0, 0, 0, 0, 0, 0, 0, 0, 0, 0, ...</td>\n",
       "    </tr>\n",
       "    <tr>\n",
       "      <td>1</td>\n",
       "      <td>images_train/984.jpg</td>\n",
       "      <td>[-1.3469539880752563, -3.1194605827331543, -0....</td>\n",
       "      <td>[A man with blue jersey holding a baseball bat...</td>\n",
       "      <td>[person:person, sports:baseball bat]</td>\n",
       "      <td>[person, baseball bat]</td>\n",
       "      <td>[0, 0, 0, 0, 1, 0, 0, 0, 0, 0, 0, 0, 0, 0, 0, ...</td>\n",
       "      <td>[man, blue, jersey, hold, basebal, bat]</td>\n",
       "      <td>[0, 0, 0, 0, 0, 0, 0, 0, 0, 0, 0, 0, 0, 0, 0, ...</td>\n",
       "    </tr>\n",
       "    <tr>\n",
       "      <td>2</td>\n",
       "      <td>images_train/7127.jpg</td>\n",
       "      <td>[-3.44549822807312, -1.5245732069015503, -1.00...</td>\n",
       "      <td>[A kitchen decorated in red and white with acc...</td>\n",
       "      <td>[appliance:refrigerator, appliance:oven, appli...</td>\n",
       "      <td>[refriger, oven, sink, cup, cake, vase]</td>\n",
       "      <td>[0, 0, 0, 0, 0, 0, 0, 0, 0, 0, 0, 0, 0, 0, 0, ...</td>\n",
       "      <td>[kitchen, decor, red, white, accessori]</td>\n",
       "      <td>[0, 0, 0, 0, 0, 0, 0, 0, 0, 0, 0, 0, 0, 0, 0, ...</td>\n",
       "    </tr>\n",
       "    <tr>\n",
       "      <td>3</td>\n",
       "      <td>images_train/9609.jpg</td>\n",
       "      <td>[1.1146496534347534, -2.1671018600463867, 0.09...</td>\n",
       "      <td>[A black and white dog chasing sheep in a fiel...</td>\n",
       "      <td>[animal:dog, animal:sheep]</td>\n",
       "      <td>[dog, sheep]</td>\n",
       "      <td>[0, 0, 0, 0, 0, 0, 0, 0, 0, 0, 0, 0, 0, 0, 0, ...</td>\n",
       "      <td>[black, white, dog, chase, sheep, field]</td>\n",
       "      <td>[0, 0, 0, 0, 0, 0, 0, 0, 0, 0, 0, 0, 0, 0, 0, ...</td>\n",
       "    </tr>\n",
       "    <tr>\n",
       "      <td>4</td>\n",
       "      <td>images_train/5293.jpg</td>\n",
       "      <td>[1.6026496887207031, -1.5058174133300781, 3.02...</td>\n",
       "      <td>[Two bears with their mouths open in the water...</td>\n",
       "      <td>[animal:bear]</td>\n",
       "      <td>[bear]</td>\n",
       "      <td>[0, 0, 0, 0, 0, 0, 1, 0, 0, 0, 0, 0, 0, 0, 0, ...</td>\n",
       "      <td>[two, bear, mouth, open, water]</td>\n",
       "      <td>[0, 0, 0, 0, 0, 0, 0, 0, 0, 0, 0, 0, 0, 0, 0, ...</td>\n",
       "    </tr>\n",
       "  </tbody>\n",
       "</table>\n",
       "</div>"
      ],
      "text/plain": [
       "              image_file                                      resnet_vector  \\\n",
       "0  images_train/5373.jpg  [-0.8994496464729309, -0.9304700493812561, -2....   \n",
       "1   images_train/984.jpg  [-1.3469539880752563, -3.1194605827331543, -0....   \n",
       "2  images_train/7127.jpg  [-3.44549822807312, -1.5245732069015503, -1.00...   \n",
       "3  images_train/9609.jpg  [1.1146496534347534, -2.1671018600463867, 0.09...   \n",
       "4  images_train/5293.jpg  [1.6026496887207031, -1.5058174133300781, 3.02...   \n",
       "\n",
       "                                        descriptions  \\\n",
       "0  [a red train is docked at the station, Several...   \n",
       "1  [A man with blue jersey holding a baseball bat...   \n",
       "2  [A kitchen decorated in red and white with acc...   \n",
       "3  [A black and white dog chasing sheep in a fiel...   \n",
       "4  [Two bears with their mouths open in the water...   \n",
       "\n",
       "                                                tags  \\\n",
       "0  [vehicle:train, person:person, indoor:clock, a...   \n",
       "1               [person:person, sports:baseball bat]   \n",
       "2  [appliance:refrigerator, appliance:oven, appli...   \n",
       "3                         [animal:dog, animal:sheep]   \n",
       "4                                      [animal:bear]   \n",
       "\n",
       "                               tags_values  \\\n",
       "0          [train, person, clock, handbag]   \n",
       "1                   [person, baseball bat]   \n",
       "2  [refriger, oven, sink, cup, cake, vase]   \n",
       "3                             [dog, sheep]   \n",
       "4                                   [bear]   \n",
       "\n",
       "                                            tags_vec  \\\n",
       "0  [0, 0, 0, 0, 0, 0, 0, 0, 0, 0, 0, 0, 0, 0, 0, ...   \n",
       "1  [0, 0, 0, 0, 1, 0, 0, 0, 0, 0, 0, 0, 0, 0, 0, ...   \n",
       "2  [0, 0, 0, 0, 0, 0, 0, 0, 0, 0, 0, 0, 0, 0, 0, ...   \n",
       "3  [0, 0, 0, 0, 0, 0, 0, 0, 0, 0, 0, 0, 0, 0, 0, ...   \n",
       "4  [0, 0, 0, 0, 0, 0, 1, 0, 0, 0, 0, 0, 0, 0, 0, ...   \n",
       "\n",
       "                                  word_list  \\\n",
       "0               [red, train, dock, station]   \n",
       "1   [man, blue, jersey, hold, basebal, bat]   \n",
       "2   [kitchen, decor, red, white, accessori]   \n",
       "3  [black, white, dog, chase, sheep, field]   \n",
       "4           [two, bear, mouth, open, water]   \n",
       "\n",
       "                                         word_vector  \n",
       "0  [0, 0, 0, 0, 0, 0, 0, 0, 0, 0, 0, 0, 0, 0, 0, ...  \n",
       "1  [0, 0, 0, 0, 0, 0, 0, 0, 0, 0, 0, 0, 0, 0, 0, ...  \n",
       "2  [0, 0, 0, 0, 0, 0, 0, 0, 0, 0, 0, 0, 0, 0, 0, ...  \n",
       "3  [0, 0, 0, 0, 0, 0, 0, 0, 0, 0, 0, 0, 0, 0, 0, ...  \n",
       "4  [0, 0, 0, 0, 0, 0, 0, 0, 0, 0, 0, 0, 0, 0, 0, ...  "
      ]
     },
     "execution_count": 4,
     "metadata": {},
     "output_type": "execute_result"
    }
   ],
   "source": [
    "df_train.head()"
   ]
  },
  {
   "cell_type": "code",
   "execution_count": 5,
   "metadata": {},
   "outputs": [],
   "source": [
    "_,_, df_test = ld('test')"
   ]
  },
  {
   "cell_type": "code",
   "execution_count": 6,
   "metadata": {
    "scrolled": true
   },
   "outputs": [
    {
     "data": {
      "text/html": [
       "<div>\n",
       "<style scoped>\n",
       "    .dataframe tbody tr th:only-of-type {\n",
       "        vertical-align: middle;\n",
       "    }\n",
       "\n",
       "    .dataframe tbody tr th {\n",
       "        vertical-align: top;\n",
       "    }\n",
       "\n",
       "    .dataframe thead th {\n",
       "        text-align: right;\n",
       "    }\n",
       "</style>\n",
       "<table border=\"1\" class=\"dataframe\">\n",
       "  <thead>\n",
       "    <tr style=\"text-align: right;\">\n",
       "      <th></th>\n",
       "      <th>image_file</th>\n",
       "      <th>resnet_vector</th>\n",
       "      <th>descriptions</th>\n",
       "      <th>tags</th>\n",
       "      <th>tags_values</th>\n",
       "      <th>tags_vec</th>\n",
       "      <th>word_list</th>\n",
       "    </tr>\n",
       "  </thead>\n",
       "  <tbody>\n",
       "    <tr>\n",
       "      <td>0</td>\n",
       "      <td>images_test/152.jpg</td>\n",
       "      <td>[-0.148756742477417, -0.4813389182090759, -0.6...</td>\n",
       "      <td>[A sign sitting above a store front entrance.,...</td>\n",
       "      <td>[person:person]</td>\n",
       "      <td>[person]</td>\n",
       "      <td>[0, 0, 0, 0, 0, 0, 0, 0, 0, 0, 0, 0, 0, 0, 0, ...</td>\n",
       "      <td>[sign, sit, store, front, entranc]</td>\n",
       "    </tr>\n",
       "    <tr>\n",
       "      <td>1</td>\n",
       "      <td>images_test/901.jpg</td>\n",
       "      <td>[-2.7743351459503174, -2.609677791595459, -2.2...</td>\n",
       "      <td>[A steam locamotive passes by some houses on a...</td>\n",
       "      <td>[indoor:clock]</td>\n",
       "      <td>[clock]</td>\n",
       "      <td>[0, 0, 0, 0, 0, 0, 0, 0, 0, 0, 0, 0, 0, 0, 0, ...</td>\n",
       "      <td>[steam, locamot, pass, hous, track]</td>\n",
       "    </tr>\n",
       "    <tr>\n",
       "      <td>2</td>\n",
       "      <td>images_test/1609.jpg</td>\n",
       "      <td>[-4.7030134201049805, -3.1210086345672607, -0....</td>\n",
       "      <td>[a woman with purple hair is taking a picture ...</td>\n",
       "      <td>[animal:dog, animal:horse, person:person]</td>\n",
       "      <td>[dog, hors, person]</td>\n",
       "      <td>[0, 0, 0, 0, 0, 0, 0, 0, 0, 0, 0, 0, 0, 0, 0, ...</td>\n",
       "      <td>[woman, purpl, hair, take, pictur]</td>\n",
       "    </tr>\n",
       "    <tr>\n",
       "      <td>3</td>\n",
       "      <td>images_test/501.jpg</td>\n",
       "      <td>[-4.7203192710876465, -3.283935546875, -3.4253...</td>\n",
       "      <td>[A GREEN AND BROWN SUITCASE LYING UP ON A LEDG...</td>\n",
       "      <td>[furniture:toilet]</td>\n",
       "      <td>[toilet]</td>\n",
       "      <td>[0, 0, 0, 0, 0, 0, 0, 0, 0, 0, 0, 0, 0, 0, 0, ...</td>\n",
       "      <td>[green, brown, suitcas, lie, ledg]</td>\n",
       "    </tr>\n",
       "    <tr>\n",
       "      <td>4</td>\n",
       "      <td>images_test/517.jpg</td>\n",
       "      <td>[-2.5421407222747803, 0.7139833569526672, -4.4...</td>\n",
       "      <td>[A desk with a small white computer set up on ...</td>\n",
       "      <td>[animal:cat, kitchen:bowl, furniture:bed]</td>\n",
       "      <td>[cat, bowl, bed]</td>\n",
       "      <td>[0, 0, 0, 0, 0, 0, 0, 1, 0, 0, 0, 0, 0, 0, 1, ...</td>\n",
       "      <td>[desk, small, white, comput, set]</td>\n",
       "    </tr>\n",
       "  </tbody>\n",
       "</table>\n",
       "</div>"
      ],
      "text/plain": [
       "             image_file                                      resnet_vector  \\\n",
       "0   images_test/152.jpg  [-0.148756742477417, -0.4813389182090759, -0.6...   \n",
       "1   images_test/901.jpg  [-2.7743351459503174, -2.609677791595459, -2.2...   \n",
       "2  images_test/1609.jpg  [-4.7030134201049805, -3.1210086345672607, -0....   \n",
       "3   images_test/501.jpg  [-4.7203192710876465, -3.283935546875, -3.4253...   \n",
       "4   images_test/517.jpg  [-2.5421407222747803, 0.7139833569526672, -4.4...   \n",
       "\n",
       "                                        descriptions  \\\n",
       "0  [A sign sitting above a store front entrance.,...   \n",
       "1  [A steam locamotive passes by some houses on a...   \n",
       "2  [a woman with purple hair is taking a picture ...   \n",
       "3  [A GREEN AND BROWN SUITCASE LYING UP ON A LEDG...   \n",
       "4  [A desk with a small white computer set up on ...   \n",
       "\n",
       "                                        tags          tags_values  \\\n",
       "0                            [person:person]             [person]   \n",
       "1                             [indoor:clock]              [clock]   \n",
       "2  [animal:dog, animal:horse, person:person]  [dog, hors, person]   \n",
       "3                         [furniture:toilet]             [toilet]   \n",
       "4  [animal:cat, kitchen:bowl, furniture:bed]     [cat, bowl, bed]   \n",
       "\n",
       "                                            tags_vec  \\\n",
       "0  [0, 0, 0, 0, 0, 0, 0, 0, 0, 0, 0, 0, 0, 0, 0, ...   \n",
       "1  [0, 0, 0, 0, 0, 0, 0, 0, 0, 0, 0, 0, 0, 0, 0, ...   \n",
       "2  [0, 0, 0, 0, 0, 0, 0, 0, 0, 0, 0, 0, 0, 0, 0, ...   \n",
       "3  [0, 0, 0, 0, 0, 0, 0, 0, 0, 0, 0, 0, 0, 0, 0, ...   \n",
       "4  [0, 0, 0, 0, 0, 0, 0, 1, 0, 0, 0, 0, 0, 0, 1, ...   \n",
       "\n",
       "                             word_list  \n",
       "0   [sign, sit, store, front, entranc]  \n",
       "1  [steam, locamot, pass, hous, track]  \n",
       "2   [woman, purpl, hair, take, pictur]  \n",
       "3   [green, brown, suitcas, lie, ledg]  \n",
       "4    [desk, small, white, comput, set]  "
      ]
     },
     "execution_count": 6,
     "metadata": {},
     "output_type": "execute_result"
    }
   ],
   "source": [
    "df_test.head()"
   ]
  },
  {
   "cell_type": "code",
   "execution_count": 7,
   "metadata": {},
   "outputs": [],
   "source": [
    "from sklearn.naive_bayes import MultinomialNB"
   ]
  },
  {
   "cell_type": "code",
   "execution_count": 8,
   "metadata": {},
   "outputs": [],
   "source": [
    "num_classes_tags = len(mlb_tags_train.classes_)\n",
    "num_classes_words = len(mlb_words_train.classes_)"
   ]
  },
  {
   "cell_type": "code",
   "execution_count": 9,
   "metadata": {},
   "outputs": [],
   "source": [
    "def word_list_to_vector(mlb,word_list,num_classes):\n",
    "    r = [0]*num_classes\n",
    "    for i,w in enumerate(mlb.classes_):\n",
    "        if w in word_list:\n",
    "            r[i] = 1\n",
    "    return r"
   ]
  },
  {
   "cell_type": "code",
   "execution_count": 10,
   "metadata": {},
   "outputs": [],
   "source": [
    "def tags_list_to_vector(mlb,tags_list,num_classes):\n",
    "    r = [0]*num_classes\n",
    "    for i,t in enumerate(mlb.classes_):\n",
    "        if t in tags_list:\n",
    "            r[i] = 1\n",
    "    return r"
   ]
  },
  {
   "cell_type": "code",
   "execution_count": 33,
   "metadata": {},
   "outputs": [],
   "source": [
    "test_tags = df_test['tags_values'].apply(lambda x: tags_list_to_vector(mlb_tags_train,x,num_classes_tags))\n",
    "test_vectors = df_test['word_list'].apply(lambda x: word_list_to_vector(mlb_words_train,x,num_classes_words))"
   ]
  },
  {
   "cell_type": "code",
   "execution_count": 12,
   "metadata": {},
   "outputs": [
    {
     "data": {
      "text/plain": [
       "MultinomialNB(alpha=1.0, class_prior=None, fit_prior=True)"
      ]
     },
     "execution_count": 12,
     "metadata": {},
     "output_type": "execute_result"
    }
   ],
   "source": [
    "clf = MultinomialNB()\n",
    "x = df_train['word_vector'].tolist()\n",
    "y = df_train['image_file'].tolist()\n",
    "clf.fit(x, y)"
   ]
  },
  {
   "cell_type": "code",
   "execution_count": 55,
   "metadata": {},
   "outputs": [],
   "source": [
    "train_tags = df_train['tags_vec'].tolist()\n",
    "test_img_tags = list(zip(df_test['image_file'].tolist(),df_test['tags_vec'].tolist()))"
   ]
  },
  {
   "cell_type": "code",
   "execution_count": 14,
   "metadata": {},
   "outputs": [],
   "source": [
    "def euclidean_distance(v1,v2):\n",
    "    sum = 0\n",
    "    for x,y in zip(v1,v2):\n",
    "        sum += (x-y)**2\n",
    "    return sum**0.5"
   ]
  },
  {
   "cell_type": "code",
   "execution_count": 70,
   "metadata": {},
   "outputs": [],
   "source": [
    "def nearest20(training_tag,test_tags):\n",
    "    nearest_test_neighbors = []\n",
    "    for t in test_tags:\n",
    "        nearest_test_neighbors.append((t[0],euclidean_distance(training_tag,t[1])))\n",
    "    nearest_test_neighbors.sort(key=lambda x: x[1])\n",
    "    return nearest_test_neighbors[:20]"
   ]
  },
  {
   "cell_type": "code",
   "execution_count": 71,
   "metadata": {},
   "outputs": [],
   "source": [
    "predictions = df_train['tags_vec'].apply(lambda tags: nearest20(tags,test_img_tags))"
   ]
  },
  {
   "cell_type": "code",
   "execution_count": 153,
   "metadata": {},
   "outputs": [
    {
     "name": "stdout",
     "output_type": "stream",
     "text": [
      "[('images_test/382.jpg', 1.0), ('images_test/465.jpg', 1.0), ('images_test/1993.jpg', 1.4142135623730951), ('images_test/1209.jpg', 1.4142135623730951), ('images_test/769.jpg', 1.4142135623730951), ('images_test/63.jpg', 1.4142135623730951), ('images_test/602.jpg', 1.4142135623730951), ('images_test/1884.jpg', 1.4142135623730951), ('images_test/646.jpg', 1.4142135623730951), ('images_test/559.jpg', 1.4142135623730951), ('images_test/1186.jpg', 1.4142135623730951), ('images_test/892.jpg', 1.4142135623730951), ('images_test/1048.jpg', 1.4142135623730951), ('images_test/1946.jpg', 1.4142135623730951), ('images_test/679.jpg', 1.4142135623730951), ('images_test/1467.jpg', 1.4142135623730951), ('images_test/1283.jpg', 1.4142135623730951), ('images_test/690.jpg', 1.4142135623730951), ('images_test/403.jpg', 1.4142135623730951), ('images_test/284.jpg', 1.4142135623730951)]\n"
     ]
    }
   ],
   "source": [
    "print(predictions[0])"
   ]
  },
  {
   "cell_type": "code",
   "execution_count": 73,
   "metadata": {},
   "outputs": [],
   "source": [
    "train_to_test_dict = {}\n",
    "for idx, image_file in enumerate(df_train['image_file'].tolist()):\n",
    "    train_to_test_dict[image_file] = predictions[idx]"
   ]
  },
  {
   "cell_type": "code",
   "execution_count": 74,
   "metadata": {},
   "outputs": [],
   "source": [
    "predicted_training_classes = clf.predict(test_vectors.tolist())"
   ]
  },
  {
   "cell_type": "code",
   "execution_count": 75,
   "metadata": {},
   "outputs": [
    {
     "data": {
      "text/plain": [
       "'images_train/4980.jpg'"
      ]
     },
     "execution_count": 75,
     "metadata": {},
     "output_type": "execute_result"
    }
   ],
   "source": [
    "predicted_training_classes[0]"
   ]
  },
  {
   "cell_type": "code",
   "execution_count": 76,
   "metadata": {},
   "outputs": [],
   "source": [
    "predicted_test_classes = []\n",
    "for p in predicted_training_classes:\n",
    "    predicted_test_classes.append(train_to_test_dict[p])"
   ]
  },
  {
   "cell_type": "code",
   "execution_count": 154,
   "metadata": {},
   "outputs": [
    {
     "data": {
      "text/plain": [
       "[('images_test/955.jpg', 0.0),\n",
       " ('images_test/551.jpg', 0.0),\n",
       " ('images_test/477.jpg', 0.0),\n",
       " ('images_test/241.jpg', 0.0),\n",
       " ('images_test/1544.jpg', 0.0),\n",
       " ('images_test/558.jpg', 0.0),\n",
       " ('images_test/1604.jpg', 0.0),\n",
       " ('images_test/664.jpg', 0.0),\n",
       " ('images_test/1747.jpg', 0.0),\n",
       " ('images_test/277.jpg', 0.0),\n",
       " ('images_test/1583.jpg', 0.0),\n",
       " ('images_test/1766.jpg', 0.0),\n",
       " ('images_test/472.jpg', 0.0),\n",
       " ('images_test/195.jpg', 0.0),\n",
       " ('images_test/1244.jpg', 0.0),\n",
       " ('images_test/1947.jpg', 0.0),\n",
       " ('images_test/1829.jpg', 0.0),\n",
       " ('images_test/1993.jpg', 1.0),\n",
       " ('images_test/1209.jpg', 1.0),\n",
       " ('images_test/327.jpg', 1.0)]"
      ]
     },
     "execution_count": 154,
     "metadata": {},
     "output_type": "execute_result"
    }
   ],
   "source": [
    "predicted_test_classes[1]"
   ]
  },
  {
   "cell_type": "code",
   "execution_count": 139,
   "metadata": {},
   "outputs": [],
   "source": [
    "submission_images_list = [[p[0].split('/')[1] for p in l] for l in predicted_test_classes]"
   ]
  },
  {
   "cell_type": "code",
   "execution_count": 93,
   "metadata": {},
   "outputs": [],
   "source": [
    "submission_images_string = []\n",
    "for e in submission_images_list:\n",
    "    s = \"\"\n",
    "    for i in e:\n",
    "        s = s + i + \" \"\n",
    "    submission_images_string.append(s)"
   ]
  },
  {
   "cell_type": "code",
   "execution_count": 95,
   "metadata": {},
   "outputs": [
    {
     "name": "stdout",
     "output_type": "stream",
     "text": [
      "['1499.jpg 696.jpg 152.jpg 1653.jpg 1171.jpg 1705.jpg 1387.jpg 897.jpg 1535.jpg 244.jpg 1135.jpg 531.jpg 175.jpg 476.jpg 669.jpg 642.jpg 903.jpg 406.jpg 1700.jpg 871.jpg ', '955.jpg 551.jpg 477.jpg 241.jpg 1544.jpg 558.jpg 1604.jpg 664.jpg 1747.jpg 277.jpg 1583.jpg 1766.jpg 472.jpg 195.jpg 1244.jpg 1947.jpg 1829.jpg 1993.jpg 1209.jpg 327.jpg ']\n"
     ]
    }
   ],
   "source": [
    "print(submission_images_string[:2])"
   ]
  },
  {
   "cell_type": "code",
   "execution_count": 146,
   "metadata": {},
   "outputs": [],
   "source": [
    "image_indeces = df_test['image_file'].tolist()\n",
    "image_indeces = [(f.split('/')[1]).split('.')[0] + \".txt\" for f in image_indeces]"
   ]
  },
  {
   "cell_type": "code",
   "execution_count": 147,
   "metadata": {},
   "outputs": [
    {
     "data": {
      "text/plain": [
       "['152.txt',\n",
       " '901.txt',\n",
       " '1609.txt',\n",
       " '501.txt',\n",
       " '517.txt',\n",
       " '1822.txt',\n",
       " '1993.txt',\n",
       " '832.txt',\n",
       " '1462.txt',\n",
       " '1718.txt']"
      ]
     },
     "execution_count": 147,
     "metadata": {},
     "output_type": "execute_result"
    }
   ],
   "source": [
    "image_indeces[:10]"
   ]
  },
  {
   "cell_type": "code",
   "execution_count": 163,
   "metadata": {},
   "outputs": [
    {
     "data": {
      "text/plain": [
       "('0.txt',\n",
       " '1698.jpg 1258.jpg 1862.jpg 742.jpg 971.jpg 602.jpg 1743.jpg 999.jpg 1893.jpg 772.jpg 878.jpg 1203.jpg 110.jpg 292.jpg 1040.jpg 942.jpg 717.jpg 516.jpg 430.jpg 36.jpg ')"
      ]
     },
     "execution_count": 163,
     "metadata": {},
     "output_type": "execute_result"
    }
   ],
   "source": [
    "submission_list = list(zip(image_indeces,submission_images_string))\n",
    "submission_list.sort(key=lambda x: int(x[0].split('.')[0]))\n",
    "submission_list[0]"
   ]
  },
  {
   "cell_type": "code",
   "execution_count": 159,
   "metadata": {},
   "outputs": [],
   "source": [
    "import pandas as pd\n",
    "import numpy as np"
   ]
  },
  {
   "cell_type": "code",
   "execution_count": 160,
   "metadata": {},
   "outputs": [],
   "source": [
    "submission_df = pd.DataFrame(np.array(submission_list),columns=['Descritpion_ID','Top_20_Image_IDs'])"
   ]
  },
  {
   "cell_type": "code",
   "execution_count": 161,
   "metadata": {},
   "outputs": [],
   "source": [
    "submission_df.to_csv('submission.csv',index=False)"
   ]
  },
  {
   "cell_type": "code",
   "execution_count": 174,
   "metadata": {},
   "outputs": [],
   "source": [
    "x = [[1,2],[3,4]]\n",
    "r = []\n",
    "for e in x:\n",
    "    r = r + e"
   ]
  },
  {
   "cell_type": "code",
   "execution_count": null,
   "metadata": {},
   "outputs": [],
   "source": []
  }
 ],
 "metadata": {
  "kernelspec": {
   "display_name": "Python 3",
   "language": "python",
   "name": "python3"
  },
  "language_info": {
   "codemirror_mode": {
    "name": "ipython",
    "version": 3
   },
   "file_extension": ".py",
   "mimetype": "text/x-python",
   "name": "python",
   "nbconvert_exporter": "python",
   "pygments_lexer": "ipython3",
   "version": "3.6.5"
  }
 },
 "nbformat": 4,
 "nbformat_minor": 2
}
