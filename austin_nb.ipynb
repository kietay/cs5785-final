{
 "cells": [
  {
   "cell_type": "code",
   "execution_count": 1,
   "metadata": {},
   "outputs": [],
   "source": [
    "from utils.BoW_data import load_dataframe as ld"
   ]
  },
  {
   "cell_type": "code",
   "execution_count": 2,
   "metadata": {},
   "outputs": [],
   "source": [
    "mlb_tags_train, mlb_words_train, df_train = ld()"
   ]
  },
  {
   "cell_type": "code",
   "execution_count": 3,
   "metadata": {},
   "outputs": [
    {
     "data": {
      "text/plain": [
       "'11'"
      ]
     },
     "execution_count": 3,
     "metadata": {},
     "output_type": "execute_result"
    }
   ],
   "source": [
    "mlb_words_train.classes_[0]"
   ]
  },
  {
   "cell_type": "code",
   "execution_count": 4,
   "metadata": {},
   "outputs": [
    {
     "data": {
      "text/html": [
       "<div>\n",
       "<style scoped>\n",
       "    .dataframe tbody tr th:only-of-type {\n",
       "        vertical-align: middle;\n",
       "    }\n",
       "\n",
       "    .dataframe tbody tr th {\n",
       "        vertical-align: top;\n",
       "    }\n",
       "\n",
       "    .dataframe thead th {\n",
       "        text-align: right;\n",
       "    }\n",
       "</style>\n",
       "<table border=\"1\" class=\"dataframe\">\n",
       "  <thead>\n",
       "    <tr style=\"text-align: right;\">\n",
       "      <th></th>\n",
       "      <th>image_file</th>\n",
       "      <th>resnet_vector</th>\n",
       "      <th>descriptions</th>\n",
       "      <th>tags</th>\n",
       "      <th>tags_values</th>\n",
       "      <th>tags_vec</th>\n",
       "      <th>word_list</th>\n",
       "      <th>word_vector</th>\n",
       "    </tr>\n",
       "  </thead>\n",
       "  <tbody>\n",
       "    <tr>\n",
       "      <td>0</td>\n",
       "      <td>images_train/5373.jpg</td>\n",
       "      <td>[-0.8994496464729309, -0.9304700493812561, -2....</td>\n",
       "      <td>[a red train is docked at the station, Several...</td>\n",
       "      <td>[vehicle:train, person:person, indoor:clock, a...</td>\n",
       "      <td>[train, person, clock, handbag]</td>\n",
       "      <td>[0, 0, 0, 0, 0, 0, 0, 0, 0, 0, 0, 0, 0, 0, 0, ...</td>\n",
       "      <td>[red, train, dock, station]</td>\n",
       "      <td>[0, 0, 0, 0, 0, 0, 0, 0, 0, 0, 0, 0, 0, 0, 0, ...</td>\n",
       "    </tr>\n",
       "    <tr>\n",
       "      <td>1</td>\n",
       "      <td>images_train/984.jpg</td>\n",
       "      <td>[-1.3469539880752563, -3.1194605827331543, -0....</td>\n",
       "      <td>[A man with blue jersey holding a baseball bat...</td>\n",
       "      <td>[person:person, sports:baseball bat]</td>\n",
       "      <td>[person, baseball bat]</td>\n",
       "      <td>[0, 0, 0, 0, 1, 0, 0, 0, 0, 0, 0, 0, 0, 0, 0, ...</td>\n",
       "      <td>[man, blue, jersey, hold, basebal, bat]</td>\n",
       "      <td>[0, 0, 0, 0, 0, 0, 0, 0, 0, 0, 0, 0, 0, 0, 0, ...</td>\n",
       "    </tr>\n",
       "    <tr>\n",
       "      <td>2</td>\n",
       "      <td>images_train/7127.jpg</td>\n",
       "      <td>[-3.44549822807312, -1.5245732069015503, -1.00...</td>\n",
       "      <td>[A kitchen decorated in red and white with acc...</td>\n",
       "      <td>[appliance:refrigerator, appliance:oven, appli...</td>\n",
       "      <td>[refriger, oven, sink, cup, cake, vase]</td>\n",
       "      <td>[0, 0, 0, 0, 0, 0, 0, 0, 0, 0, 0, 0, 0, 0, 0, ...</td>\n",
       "      <td>[kitchen, decor, red, white, accessori]</td>\n",
       "      <td>[0, 0, 0, 0, 0, 0, 0, 0, 0, 0, 0, 0, 0, 0, 0, ...</td>\n",
       "    </tr>\n",
       "    <tr>\n",
       "      <td>3</td>\n",
       "      <td>images_train/9609.jpg</td>\n",
       "      <td>[1.1146496534347534, -2.1671018600463867, 0.09...</td>\n",
       "      <td>[A black and white dog chasing sheep in a fiel...</td>\n",
       "      <td>[animal:dog, animal:sheep]</td>\n",
       "      <td>[dog, sheep]</td>\n",
       "      <td>[0, 0, 0, 0, 0, 0, 0, 0, 0, 0, 0, 0, 0, 0, 0, ...</td>\n",
       "      <td>[black, white, dog, chase, sheep, field]</td>\n",
       "      <td>[0, 0, 0, 0, 0, 0, 0, 0, 0, 0, 0, 0, 0, 0, 0, ...</td>\n",
       "    </tr>\n",
       "    <tr>\n",
       "      <td>4</td>\n",
       "      <td>images_train/5293.jpg</td>\n",
       "      <td>[1.6026496887207031, -1.5058174133300781, 3.02...</td>\n",
       "      <td>[Two bears with their mouths open in the water...</td>\n",
       "      <td>[animal:bear]</td>\n",
       "      <td>[bear]</td>\n",
       "      <td>[0, 0, 0, 0, 0, 0, 1, 0, 0, 0, 0, 0, 0, 0, 0, ...</td>\n",
       "      <td>[two, bear, mouth, open, water]</td>\n",
       "      <td>[0, 0, 0, 0, 0, 0, 0, 0, 0, 0, 0, 0, 0, 0, 0, ...</td>\n",
       "    </tr>\n",
       "  </tbody>\n",
       "</table>\n",
       "</div>"
      ],
      "text/plain": [
       "              image_file                                      resnet_vector  \\\n",
       "0  images_train/5373.jpg  [-0.8994496464729309, -0.9304700493812561, -2....   \n",
       "1   images_train/984.jpg  [-1.3469539880752563, -3.1194605827331543, -0....   \n",
       "2  images_train/7127.jpg  [-3.44549822807312, -1.5245732069015503, -1.00...   \n",
       "3  images_train/9609.jpg  [1.1146496534347534, -2.1671018600463867, 0.09...   \n",
       "4  images_train/5293.jpg  [1.6026496887207031, -1.5058174133300781, 3.02...   \n",
       "\n",
       "                                        descriptions  \\\n",
       "0  [a red train is docked at the station, Several...   \n",
       "1  [A man with blue jersey holding a baseball bat...   \n",
       "2  [A kitchen decorated in red and white with acc...   \n",
       "3  [A black and white dog chasing sheep in a fiel...   \n",
       "4  [Two bears with their mouths open in the water...   \n",
       "\n",
       "                                                tags  \\\n",
       "0  [vehicle:train, person:person, indoor:clock, a...   \n",
       "1               [person:person, sports:baseball bat]   \n",
       "2  [appliance:refrigerator, appliance:oven, appli...   \n",
       "3                         [animal:dog, animal:sheep]   \n",
       "4                                      [animal:bear]   \n",
       "\n",
       "                               tags_values  \\\n",
       "0          [train, person, clock, handbag]   \n",
       "1                   [person, baseball bat]   \n",
       "2  [refriger, oven, sink, cup, cake, vase]   \n",
       "3                             [dog, sheep]   \n",
       "4                                   [bear]   \n",
       "\n",
       "                                            tags_vec  \\\n",
       "0  [0, 0, 0, 0, 0, 0, 0, 0, 0, 0, 0, 0, 0, 0, 0, ...   \n",
       "1  [0, 0, 0, 0, 1, 0, 0, 0, 0, 0, 0, 0, 0, 0, 0, ...   \n",
       "2  [0, 0, 0, 0, 0, 0, 0, 0, 0, 0, 0, 0, 0, 0, 0, ...   \n",
       "3  [0, 0, 0, 0, 0, 0, 0, 0, 0, 0, 0, 0, 0, 0, 0, ...   \n",
       "4  [0, 0, 0, 0, 0, 0, 1, 0, 0, 0, 0, 0, 0, 0, 0, ...   \n",
       "\n",
       "                                  word_list  \\\n",
       "0               [red, train, dock, station]   \n",
       "1   [man, blue, jersey, hold, basebal, bat]   \n",
       "2   [kitchen, decor, red, white, accessori]   \n",
       "3  [black, white, dog, chase, sheep, field]   \n",
       "4           [two, bear, mouth, open, water]   \n",
       "\n",
       "                                         word_vector  \n",
       "0  [0, 0, 0, 0, 0, 0, 0, 0, 0, 0, 0, 0, 0, 0, 0, ...  \n",
       "1  [0, 0, 0, 0, 0, 0, 0, 0, 0, 0, 0, 0, 0, 0, 0, ...  \n",
       "2  [0, 0, 0, 0, 0, 0, 0, 0, 0, 0, 0, 0, 0, 0, 0, ...  \n",
       "3  [0, 0, 0, 0, 0, 0, 0, 0, 0, 0, 0, 0, 0, 0, 0, ...  \n",
       "4  [0, 0, 0, 0, 0, 0, 0, 0, 0, 0, 0, 0, 0, 0, 0, ...  "
      ]
     },
     "execution_count": 4,
     "metadata": {},
     "output_type": "execute_result"
    }
   ],
   "source": [
    "df_train.head()"
   ]
  },
  {
   "cell_type": "code",
   "execution_count": 5,
   "metadata": {},
   "outputs": [],
   "source": [
    "_,_, df_test = ld('test')"
   ]
  },
  {
   "cell_type": "code",
   "execution_count": 6,
   "metadata": {
    "scrolled": true
   },
   "outputs": [
    {
     "data": {
      "text/html": [
       "<div>\n",
       "<style scoped>\n",
       "    .dataframe tbody tr th:only-of-type {\n",
       "        vertical-align: middle;\n",
       "    }\n",
       "\n",
       "    .dataframe tbody tr th {\n",
       "        vertical-align: top;\n",
       "    }\n",
       "\n",
       "    .dataframe thead th {\n",
       "        text-align: right;\n",
       "    }\n",
       "</style>\n",
       "<table border=\"1\" class=\"dataframe\">\n",
       "  <thead>\n",
       "    <tr style=\"text-align: right;\">\n",
       "      <th></th>\n",
       "      <th>image_file</th>\n",
       "      <th>resnet_vector</th>\n",
       "      <th>descriptions</th>\n",
       "      <th>tags</th>\n",
       "      <th>tags_values</th>\n",
       "      <th>tags_vec</th>\n",
       "      <th>word_list</th>\n",
       "    </tr>\n",
       "  </thead>\n",
       "  <tbody>\n",
       "    <tr>\n",
       "      <td>0</td>\n",
       "      <td>images_test/152.jpg</td>\n",
       "      <td>[-0.148756742477417, -0.4813389182090759, -0.6...</td>\n",
       "      <td>[A sign sitting above a store front entrance.,...</td>\n",
       "      <td>[person:person]</td>\n",
       "      <td>[person]</td>\n",
       "      <td>[0, 0, 0, 0, 0, 0, 0, 0, 0, 0, 0, 0, 0, 0, 0, ...</td>\n",
       "      <td>[sign, sit, store, front, entranc]</td>\n",
       "    </tr>\n",
       "    <tr>\n",
       "      <td>1</td>\n",
       "      <td>images_test/901.jpg</td>\n",
       "      <td>[-2.7743351459503174, -2.609677791595459, -2.2...</td>\n",
       "      <td>[A steam locamotive passes by some houses on a...</td>\n",
       "      <td>[indoor:clock]</td>\n",
       "      <td>[clock]</td>\n",
       "      <td>[0, 0, 0, 0, 0, 0, 0, 0, 0, 0, 0, 0, 0, 0, 0, ...</td>\n",
       "      <td>[steam, locamot, pass, hous, track]</td>\n",
       "    </tr>\n",
       "    <tr>\n",
       "      <td>2</td>\n",
       "      <td>images_test/1609.jpg</td>\n",
       "      <td>[-4.7030134201049805, -3.1210086345672607, -0....</td>\n",
       "      <td>[a woman with purple hair is taking a picture ...</td>\n",
       "      <td>[animal:dog, animal:horse, person:person]</td>\n",
       "      <td>[dog, hors, person]</td>\n",
       "      <td>[0, 0, 0, 0, 0, 0, 0, 0, 0, 0, 0, 0, 0, 0, 0, ...</td>\n",
       "      <td>[woman, purpl, hair, take, pictur]</td>\n",
       "    </tr>\n",
       "    <tr>\n",
       "      <td>3</td>\n",
       "      <td>images_test/501.jpg</td>\n",
       "      <td>[-4.7203192710876465, -3.283935546875, -3.4253...</td>\n",
       "      <td>[A GREEN AND BROWN SUITCASE LYING UP ON A LEDG...</td>\n",
       "      <td>[furniture:toilet]</td>\n",
       "      <td>[toilet]</td>\n",
       "      <td>[0, 0, 0, 0, 0, 0, 0, 0, 0, 0, 0, 0, 0, 0, 0, ...</td>\n",
       "      <td>[green, brown, suitcas, lie, ledg]</td>\n",
       "    </tr>\n",
       "    <tr>\n",
       "      <td>4</td>\n",
       "      <td>images_test/517.jpg</td>\n",
       "      <td>[-2.5421407222747803, 0.7139833569526672, -4.4...</td>\n",
       "      <td>[A desk with a small white computer set up on ...</td>\n",
       "      <td>[animal:cat, kitchen:bowl, furniture:bed]</td>\n",
       "      <td>[cat, bowl, bed]</td>\n",
       "      <td>[0, 0, 0, 0, 0, 0, 0, 1, 0, 0, 0, 0, 0, 0, 1, ...</td>\n",
       "      <td>[desk, small, white, comput, set]</td>\n",
       "    </tr>\n",
       "  </tbody>\n",
       "</table>\n",
       "</div>"
      ],
      "text/plain": [
       "             image_file                                      resnet_vector  \\\n",
       "0   images_test/152.jpg  [-0.148756742477417, -0.4813389182090759, -0.6...   \n",
       "1   images_test/901.jpg  [-2.7743351459503174, -2.609677791595459, -2.2...   \n",
       "2  images_test/1609.jpg  [-4.7030134201049805, -3.1210086345672607, -0....   \n",
       "3   images_test/501.jpg  [-4.7203192710876465, -3.283935546875, -3.4253...   \n",
       "4   images_test/517.jpg  [-2.5421407222747803, 0.7139833569526672, -4.4...   \n",
       "\n",
       "                                        descriptions  \\\n",
       "0  [A sign sitting above a store front entrance.,...   \n",
       "1  [A steam locamotive passes by some houses on a...   \n",
       "2  [a woman with purple hair is taking a picture ...   \n",
       "3  [A GREEN AND BROWN SUITCASE LYING UP ON A LEDG...   \n",
       "4  [A desk with a small white computer set up on ...   \n",
       "\n",
       "                                        tags          tags_values  \\\n",
       "0                            [person:person]             [person]   \n",
       "1                             [indoor:clock]              [clock]   \n",
       "2  [animal:dog, animal:horse, person:person]  [dog, hors, person]   \n",
       "3                         [furniture:toilet]             [toilet]   \n",
       "4  [animal:cat, kitchen:bowl, furniture:bed]     [cat, bowl, bed]   \n",
       "\n",
       "                                            tags_vec  \\\n",
       "0  [0, 0, 0, 0, 0, 0, 0, 0, 0, 0, 0, 0, 0, 0, 0, ...   \n",
       "1  [0, 0, 0, 0, 0, 0, 0, 0, 0, 0, 0, 0, 0, 0, 0, ...   \n",
       "2  [0, 0, 0, 0, 0, 0, 0, 0, 0, 0, 0, 0, 0, 0, 0, ...   \n",
       "3  [0, 0, 0, 0, 0, 0, 0, 0, 0, 0, 0, 0, 0, 0, 0, ...   \n",
       "4  [0, 0, 0, 0, 0, 0, 0, 1, 0, 0, 0, 0, 0, 0, 1, ...   \n",
       "\n",
       "                             word_list  \n",
       "0   [sign, sit, store, front, entranc]  \n",
       "1  [steam, locamot, pass, hous, track]  \n",
       "2   [woman, purpl, hair, take, pictur]  \n",
       "3   [green, brown, suitcas, lie, ledg]  \n",
       "4    [desk, small, white, comput, set]  "
      ]
     },
     "execution_count": 6,
     "metadata": {},
     "output_type": "execute_result"
    }
   ],
   "source": [
    "df_test.head()"
   ]
  },
  {
   "cell_type": "code",
   "execution_count": 7,
   "metadata": {},
   "outputs": [],
   "source": [
    "from sklearn.naive_bayes import MultinomialNB"
   ]
  },
  {
   "cell_type": "code",
   "execution_count": 8,
   "metadata": {},
   "outputs": [],
   "source": [
    "num_classes_tags = len(mlb_tags_train.classes_)\n",
    "num_classes_words = len(mlb_words_train.classes_)"
   ]
  },
  {
   "cell_type": "code",
   "execution_count": 9,
   "metadata": {},
   "outputs": [],
   "source": [
    "def word_list_to_vector(mlb,word_list,num_classes):\n",
    "    r = [0]*num_classes\n",
    "    for i,w in enumerate(mlb.classes_):\n",
    "        if w in word_list:\n",
    "            r[i] = 1\n",
    "    return r"
   ]
  },
  {
   "cell_type": "code",
   "execution_count": 10,
   "metadata": {},
   "outputs": [],
   "source": [
    "def tags_list_to_vector(mlb,tags_list,num_classes):\n",
    "    r = [0]*num_classes\n",
    "    for i,t in enumerate(mlb.classes_):\n",
    "        if t in tags_list:\n",
    "            r[i] = 1\n",
    "    return r"
   ]
  },
  {
   "cell_type": "code",
   "execution_count": 11,
   "metadata": {},
   "outputs": [],
   "source": [
    "test_tags = df_test['tags_values'].apply(lambda x: tags_list_to_vector(mlb_tags_train,x,num_classes_tags))\n",
    "test_vectors = df_test['word_list'].apply(lambda x: word_list_to_vector(mlb_words_train,x,num_classes_words))"
   ]
  },
  {
   "cell_type": "code",
   "execution_count": 12,
   "metadata": {},
   "outputs": [
    {
     "data": {
      "text/plain": [
       "MultinomialNB(alpha=1.0, class_prior=None, fit_prior=True)"
      ]
     },
     "execution_count": 12,
     "metadata": {},
     "output_type": "execute_result"
    }
   ],
   "source": [
    "clf = MultinomialNB()\n",
    "x = df_train['word_vector'].tolist()\n",
    "y = df_train['image_file'].tolist()\n",
    "clf.fit(x, y)"
   ]
  },
  {
   "cell_type": "code",
   "execution_count": 13,
   "metadata": {},
   "outputs": [],
   "source": [
    "train_tags = df_train['tags_vec'].tolist()\n",
    "test_tags = list(zip(df_test['image_file'].tolist(),df_test['tags_vec'].tolist()))"
   ]
  },
  {
   "cell_type": "code",
   "execution_count": 14,
   "metadata": {},
   "outputs": [],
   "source": [
    "def euclidean_distance(v1,v2):\n",
    "    sum = 0\n",
    "    for x,y in zip(v1,v2):\n",
    "        sum += (x-y)**2\n",
    "    return sum**0.5"
   ]
  },
  {
   "cell_type": "code",
   "execution_count": 15,
   "metadata": {},
   "outputs": [],
   "source": [
    "def nearest20(training_tag,test_tags):\n",
    "    nearest_test_neighbors = []\n",
    "    for t in test_tags:\n",
    "        nearest_test_neighbors.append((t[0],euclidean_distance(training_tag,t[1])))\n",
    "    nearest_test_neighbors.sort(key=lambda x: x[1])\n",
    "    return nearest_test_neighbors[:20]"
   ]
  },
  {
   "cell_type": "code",
   "execution_count": 16,
   "metadata": {},
   "outputs": [],
   "source": [
    "predictions = df_train['tags_vec'].apply(lambda tags: nearest20(tags,test_tags))"
   ]
  },
  {
   "cell_type": "code",
   "execution_count": 17,
   "metadata": {},
   "outputs": [
    {
     "name": "stdout",
     "output_type": "stream",
     "text": [
      "[('images_test/906.jpg', 0.0), ('images_test/1568.jpg', 0.0), ('images_test/28.jpg', 0.0), ('images_test/1400.jpg', 0.0), ('images_test/152.jpg', 1.0), ('images_test/1722.jpg', 1.0), ('images_test/1115.jpg', 1.0), ('images_test/1074.jpg', 1.0), ('images_test/1350.jpg', 1.0), ('images_test/897.jpg', 1.0), ('images_test/1535.jpg', 1.0), ('images_test/1135.jpg', 1.0), ('images_test/1520.jpg', 1.0), ('images_test/1224.jpg', 1.0), ('images_test/1036.jpg', 1.0), ('images_test/1610.jpg', 1.0), ('images_test/1406.jpg', 1.0), ('images_test/1218.jpg', 1.0), ('images_test/1217.jpg', 1.0), ('images_test/1725.jpg', 1.0), ('images_test/684.jpg', 1.0), ('images_test/512.jpg', 1.0), ('images_test/1974.jpg', 1.0), ('images_test/522.jpg', 1.0), ('images_test/141.jpg', 1.0), ('images_test/1633.jpg', 1.0), ('images_test/1429.jpg', 1.0), ('images_test/101.jpg', 1.0), ('images_test/1660.jpg', 1.0), ('images_test/1993.jpg', 1.4142135623730951), ('images_test/1718.jpg', 1.4142135623730951), ('images_test/1209.jpg', 1.4142135623730951), ('images_test/1005.jpg', 1.4142135623730951), ('images_test/422.jpg', 1.4142135623730951), ('images_test/848.jpg', 1.4142135623730951), ('images_test/1795.jpg', 1.4142135623730951), ('images_test/1357.jpg', 1.4142135623730951), ('images_test/350.jpg', 1.4142135623730951), ('images_test/1433.jpg', 1.4142135623730951), ('images_test/1012.jpg', 1.4142135623730951), ('images_test/618.jpg', 1.4142135623730951), ('images_test/1481.jpg', 1.4142135623730951), ('images_test/1385.jpg', 1.4142135623730951), ('images_test/126.jpg', 1.4142135623730951), ('images_test/37.jpg', 1.4142135623730951), ('images_test/1731.jpg', 1.4142135623730951), ('images_test/1607.jpg', 1.4142135623730951), ('images_test/637.jpg', 1.4142135623730951), ('images_test/1566.jpg', 1.4142135623730951), ('images_test/1547.jpg', 1.4142135623730951), ('images_test/805.jpg', 1.4142135623730951), ('images_test/151.jpg', 1.4142135623730951), ('images_test/1215.jpg', 1.4142135623730951), ('images_test/233.jpg', 1.4142135623730951), ('images_test/64.jpg', 1.4142135623730951), ('images_test/262.jpg', 1.4142135623730951), ('images_test/1195.jpg', 1.4142135623730951), ('images_test/1655.jpg', 1.4142135623730951), ('images_test/1745.jpg', 1.4142135623730951), ('images_test/267.jpg', 1.4142135623730951), ('images_test/1335.jpg', 1.4142135623730951), ('images_test/1625.jpg', 1.4142135623730951), ('images_test/55.jpg', 1.4142135623730951), ('images_test/258.jpg', 1.4142135623730951), ('images_test/1930.jpg', 1.4142135623730951), ('images_test/565.jpg', 1.4142135623730951), ('images_test/1681.jpg', 1.4142135623730951), ('images_test/354.jpg', 1.4142135623730951), ('images_test/887.jpg', 1.4142135623730951), ('images_test/194.jpg', 1.4142135623730951), ('images_test/153.jpg', 1.4142135623730951), ('images_test/1426.jpg', 1.4142135623730951), ('images_test/138.jpg', 1.4142135623730951), ('images_test/116.jpg', 1.4142135623730951), ('images_test/1423.jpg', 1.4142135623730951), ('images_test/374.jpg', 1.4142135623730951), ('images_test/836.jpg', 1.4142135623730951), ('images_test/246.jpg', 1.4142135623730951), ('images_test/1599.jpg', 1.4142135623730951), ('images_test/63.jpg', 1.4142135623730951), ('images_test/1238.jpg', 1.4142135623730951), ('images_test/1513.jpg', 1.4142135623730951), ('images_test/226.jpg', 1.4142135623730951), ('images_test/1287.jpg', 1.4142135623730951), ('images_test/1972.jpg', 1.4142135623730951), ('images_test/1847.jpg', 1.4142135623730951), ('images_test/402.jpg', 1.4142135623730951), ('images_test/93.jpg', 1.4142135623730951), ('images_test/1018.jpg', 1.4142135623730951), ('images_test/573.jpg', 1.4142135623730951), ('images_test/1903.jpg', 1.4142135623730951), ('images_test/1743.jpg', 1.4142135623730951), ('images_test/1261.jpg', 1.4142135623730951), ('images_test/651.jpg', 1.4142135623730951), ('images_test/74.jpg', 1.4142135623730951), ('images_test/273.jpg', 1.4142135623730951), ('images_test/1758.jpg', 1.4142135623730951), ('images_test/486.jpg', 1.4142135623730951), ('images_test/1063.jpg', 1.4142135623730951), ('images_test/94.jpg', 1.4142135623730951), ('images_test/1364.jpg', 1.4142135623730951), ('images_test/1504.jpg', 1.4142135623730951), ('images_test/1415.jpg', 1.4142135623730951), ('images_test/1078.jpg', 1.4142135623730951), ('images_test/33.jpg', 1.4142135623730951), ('images_test/140.jpg', 1.4142135623730951), ('images_test/1591.jpg', 1.4142135623730951), ('images_test/1045.jpg', 1.4142135623730951), ('images_test/1101.jpg', 1.4142135623730951), ('images_test/817.jpg', 1.4142135623730951), ('images_test/1414.jpg', 1.4142135623730951), ('images_test/1774.jpg', 1.4142135623730951), ('images_test/732.jpg', 1.4142135623730951), ('images_test/1879.jpg', 1.4142135623730951), ('images_test/797.jpg', 1.4142135623730951), ('images_test/1206.jpg', 1.4142135623730951), ('images_test/1696.jpg', 1.4142135623730951), ('images_test/1240.jpg', 1.4142135623730951), ('images_test/905.jpg', 1.4142135623730951), ('images_test/582.jpg', 1.4142135623730951), ('images_test/330.jpg', 1.4142135623730951), ('images_test/26.jpg', 1.4142135623730951), ('images_test/824.jpg', 1.4142135623730951), ('images_test/1693.jpg', 1.4142135623730951), ('images_test/269.jpg', 1.4142135623730951), ('images_test/421.jpg', 1.4142135623730951), ('images_test/478.jpg', 1.4142135623730951), ('images_test/1825.jpg', 1.4142135623730951), ('images_test/87.jpg', 1.4142135623730951), ('images_test/1132.jpg', 1.4142135623730951), ('images_test/1662.jpg', 1.4142135623730951), ('images_test/1472.jpg', 1.4142135623730951), ('images_test/1706.jpg', 1.4142135623730951), ('images_test/1035.jpg', 1.4142135623730951), ('images_test/498.jpg', 1.4142135623730951), ('images_test/237.jpg', 1.4142135623730951), ('images_test/1727.jpg', 1.4142135623730951), ('images_test/1574.jpg', 1.4142135623730951), ('images_test/972.jpg', 1.4142135623730951), ('images_test/257.jpg', 1.4142135623730951), ('images_test/1918.jpg', 1.4142135623730951), ('images_test/1884.jpg', 1.4142135623730951), ('images_test/1991.jpg', 1.4142135623730951), ('images_test/1413.jpg', 1.4142135623730951), ('images_test/1676.jpg', 1.4142135623730951), ('images_test/52.jpg', 1.4142135623730951), ('images_test/1595.jpg', 1.4142135623730951), ('images_test/646.jpg', 1.4142135623730951), ('images_test/1288.jpg', 1.4142135623730951), ('images_test/910.jpg', 1.4142135623730951), ('images_test/275.jpg', 1.4142135623730951), ('images_test/274.jpg', 1.4142135623730951), ('images_test/1874.jpg', 1.4142135623730951), ('images_test/1971.jpg', 1.4142135623730951), ('images_test/292.jpg', 1.4142135623730951), ('images_test/1475.jpg', 1.4142135623730951), ('images_test/172.jpg', 1.4142135623730951), ('images_test/502.jpg', 1.4142135623730951), ('images_test/559.jpg', 1.4142135623730951), ('images_test/1924.jpg', 1.4142135623730951), ('images_test/1865.jpg', 1.4142135623730951), ('images_test/1755.jpg', 1.4142135623730951), ('images_test/1186.jpg', 1.4142135623730951), ('images_test/1821.jpg', 1.4142135623730951), ('images_test/1345.jpg', 1.4142135623730951), ('images_test/1128.jpg', 1.4142135623730951), ('images_test/1458.jpg', 1.4142135623730951), ('images_test/203.jpg', 1.4142135623730951), ('images_test/1165.jpg', 1.4142135623730951), ('images_test/1187.jpg', 1.4142135623730951), ('images_test/1922.jpg', 1.4142135623730951), ('images_test/1352.jpg', 1.4142135623730951), ('images_test/437.jpg', 1.4142135623730951), ('images_test/892.jpg', 1.4142135623730951), ('images_test/1960.jpg', 1.4142135623730951), ('images_test/1342.jpg', 1.4142135623730951), ('images_test/654.jpg', 1.4142135623730951), ('images_test/207.jpg', 1.4142135623730951), ('images_test/893.jpg', 1.4142135623730951), ('images_test/989.jpg', 1.4142135623730951), ('images_test/1153.jpg', 1.4142135623730951), ('images_test/16.jpg', 1.4142135623730951), ('images_test/1127.jpg', 1.4142135623730951), ('images_test/653.jpg', 1.4142135623730951), ('images_test/1437.jpg', 1.4142135623730951), ('images_test/734.jpg', 1.4142135623730951), ('images_test/1318.jpg', 1.4142135623730951), ('images_test/1518.jpg', 1.4142135623730951), ('images_test/1180.jpg', 1.4142135623730951), ('images_test/1066.jpg', 1.4142135623730951), ('images_test/1679.jpg', 1.4142135623730951), ('images_test/716.jpg', 1.4142135623730951), ('images_test/1126.jpg', 1.4142135623730951), ('images_test/784.jpg', 1.4142135623730951), ('images_test/908.jpg', 1.4142135623730951), ('images_test/397.jpg', 1.4142135623730951), ('images_test/1616.jpg', 1.4142135623730951), ('images_test/576.jpg', 1.4142135623730951), ('images_test/1189.jpg', 1.4142135623730951), ('images_test/763.jpg', 1.4142135623730951), ('images_test/31.jpg', 1.4142135623730951), ('images_test/214.jpg', 1.4142135623730951), ('images_test/1888.jpg', 1.4142135623730951), ('images_test/942.jpg', 1.4142135623730951), ('images_test/452.jpg', 1.4142135623730951), ('images_test/2.jpg', 1.4142135623730951), ('images_test/243.jpg', 1.4142135623730951), ('images_test/1996.jpg', 1.4142135623730951), ('images_test/1701.jpg', 1.4142135623730951), ('images_test/47.jpg', 1.4142135623730951), ('images_test/1207.jpg', 1.4142135623730951), ('images_test/77.jpg', 1.4142135623730951), ('images_test/950.jpg', 1.4142135623730951), ('images_test/156.jpg', 1.4142135623730951), ('images_test/656.jpg', 1.4142135623730951), ('images_test/593.jpg', 1.4142135623730951), ('images_test/1420.jpg', 1.4142135623730951), ('images_test/914.jpg', 1.4142135623730951), ('images_test/506.jpg', 1.4142135623730951), ('images_test/921.jpg', 1.4142135623730951), ('images_test/51.jpg', 1.4142135623730951), ('images_test/1637.jpg', 1.4142135623730951), ('images_test/190.jpg', 1.4142135623730951), ('images_test/1322.jpg', 1.4142135623730951), ('images_test/995.jpg', 1.4142135623730951), ('images_test/1276.jpg', 1.4142135623730951), ('images_test/383.jpg', 1.4142135623730951), ('images_test/1620.jpg', 1.4142135623730951), ('images_test/1048.jpg', 1.4142135623730951), ('images_test/1033.jpg', 1.4142135623730951), ('images_test/708.jpg', 1.4142135623730951), ('images_test/983.jpg', 1.4142135623730951), ('images_test/1885.jpg', 1.4142135623730951), ('images_test/1511.jpg', 1.4142135623730951), ('images_test/1098.jpg', 1.4142135623730951), ('images_test/1307.jpg', 1.4142135623730951), ('images_test/770.jpg', 1.4142135623730951), ('images_test/1465.jpg', 1.4142135623730951), ('images_test/1492.jpg', 1.4142135623730951), ('images_test/1646.jpg', 1.4142135623730951), ('images_test/620.jpg', 1.4142135623730951), ('images_test/1738.jpg', 1.4142135623730951), ('images_test/699.jpg', 1.4142135623730951), ('images_test/1946.jpg', 1.4142135623730951), ('images_test/1576.jpg', 1.4142135623730951), ('images_test/948.jpg', 1.4142135623730951), ('images_test/1801.jpg', 1.4142135623730951), ('images_test/1815.jpg', 1.4142135623730951), ('images_test/996.jpg', 1.4142135623730951), ('images_test/36.jpg', 1.4142135623730951), ('images_test/157.jpg', 1.4142135623730951), ('images_test/70.jpg', 1.4142135623730951), ('images_test/1571.jpg', 1.4142135623730951), ('images_test/712.jpg', 1.4142135623730951), ('images_test/518.jpg', 1.4142135623730951), ('images_test/1790.jpg', 1.4142135623730951), ('images_test/1200.jpg', 1.4142135623730951), ('images_test/936.jpg', 1.4142135623730951), ('images_test/1936.jpg', 1.4142135623730951), ('images_test/970.jpg', 1.4142135623730951), ('images_test/474.jpg', 1.4142135623730951), ('images_test/128.jpg', 1.4142135623730951), ('images_test/1131.jpg', 1.4142135623730951), ('images_test/1250.jpg', 1.4142135623730951), ('images_test/1136.jpg', 1.4142135623730951), ('images_test/771.jpg', 1.4142135623730951), ('images_test/1059.jpg', 1.4142135623730951), ('images_test/434.jpg', 1.4142135623730951), ('images_test/853.jpg', 1.4142135623730951), ('images_test/1404.jpg', 1.4142135623730951), ('images_test/679.jpg', 1.4142135623730951), ('images_test/1445.jpg', 1.4142135623730951), ('images_test/966.jpg', 1.4142135623730951), ('images_test/1231.jpg', 1.4142135623730951), ('images_test/1208.jpg', 1.4142135623730951), ('images_test/441.jpg', 1.4142135623730951), ('images_test/1454.jpg', 1.4142135623730951), ('images_test/1151.jpg', 1.4142135623730951), ('images_test/1047.jpg', 1.4142135623730951), ('images_test/1236.jpg', 1.4142135623730951), ('images_test/536.jpg', 1.4142135623730951), ('images_test/414.jpg', 1.4142135623730951), ('images_test/1082.jpg', 1.4142135623730951), ('images_test/1320.jpg', 1.4142135623730951), ('images_test/1263.jpg', 1.4142135623730951), ('images_test/739.jpg', 1.4142135623730951), ('images_test/550.jpg', 1.4142135623730951), ('images_test/75.jpg', 1.4142135623730951), ('images_test/1975.jpg', 1.4142135623730951), ('images_test/862.jpg', 1.4142135623730951), ('images_test/1746.jpg', 1.4142135623730951), ('images_test/902.jpg', 1.4142135623730951), ('images_test/212.jpg', 1.4142135623730951), ('images_test/650.jpg', 1.4142135623730951), ('images_test/1340.jpg', 1.4142135623730951), ('images_test/1467.jpg', 1.4142135623730951), ('images_test/554.jpg', 1.4142135623730951), ('images_test/307.jpg', 1.4142135623730951), ('images_test/413.jpg', 1.4142135623730951), ('images_test/1213.jpg', 1.4142135623730951), ('images_test/693.jpg', 1.4142135623730951), ('images_test/1944.jpg', 1.4142135623730951), ('images_test/371.jpg', 1.4142135623730951), ('images_test/432.jpg', 1.4142135623730951), ('images_test/1968.jpg', 1.4142135623730951), ('images_test/1584.jpg', 1.4142135623730951), ('images_test/521.jpg', 1.4142135623730951), ('images_test/715.jpg', 1.4142135623730951), ('images_test/122.jpg', 1.4142135623730951), ('images_test/514.jpg', 1.4142135623730951), ('images_test/1283.jpg', 1.4142135623730951), ('images_test/1552.jpg', 1.4142135623730951), ('images_test/964.jpg', 1.4142135623730951), ('images_test/1831.jpg', 1.4142135623730951), ('images_test/599.jpg', 1.4142135623730951), ('images_test/1237.jpg', 1.4142135623730951), ('images_test/71.jpg', 1.4142135623730951), ('images_test/489.jpg', 1.4142135623730951), ('images_test/1050.jpg', 1.4142135623730951), ('images_test/943.jpg', 1.4142135623730951), ('images_test/1024.jpg', 1.4142135623730951), ('images_test/325.jpg', 1.4142135623730951), ('images_test/88.jpg', 1.4142135623730951), ('images_test/358.jpg', 1.4142135623730951), ('images_test/1895.jpg', 1.4142135623730951), ('images_test/328.jpg', 1.4142135623730951), ('images_test/670.jpg', 1.4142135623730951), ('images_test/605.jpg', 1.4142135623730951), ('images_test/1632.jpg', 1.4142135623730951), ('images_test/1145.jpg', 1.4142135623730951), ('images_test/1486.jpg', 1.4142135623730951), ('images_test/440.jpg', 1.4142135623730951), ('images_test/880.jpg', 1.4142135623730951), ('images_test/1216.jpg', 1.4142135623730951), ('images_test/1648.jpg', 1.4142135623730951), ('images_test/786.jpg', 1.4142135623730951), ('images_test/1802.jpg', 1.4142135623730951), ('images_test/1140.jpg', 1.4142135623730951), ('images_test/750.jpg', 1.4142135623730951), ('images_test/1139.jpg', 1.4142135623730951), ('images_test/1030.jpg', 1.4142135623730951), ('images_test/690.jpg', 1.4142135623730951), ('images_test/210.jpg', 1.4142135623730951), ('images_test/1118.jpg', 1.4142135623730951), ('images_test/403.jpg', 1.4142135623730951), ('images_test/284.jpg', 1.4142135623730951), ('images_test/1499.jpg', 1.4142135623730951), ('images_test/359.jpg', 1.4142135623730951), ('images_test/1782.jpg', 1.4142135623730951), ('images_test/1398.jpg', 1.4142135623730951), ('images_test/581.jpg', 1.4142135623730951), ('images_test/147.jpg', 1.4142135623730951), ('images_test/1765.jpg', 1.4142135623730951), ('images_test/1179.jpg', 1.4142135623730951), ('images_test/860.jpg', 1.4142135623730951), ('images_test/1373.jpg', 1.4142135623730951), ('images_test/1289.jpg', 1.4142135623730951), ('images_test/535.jpg', 1.4142135623730951), ('images_test/718.jpg', 1.4142135623730951), ('images_test/1761.jpg', 1.4142135623730951), ('images_test/1430.jpg', 1.4142135623730951), ('images_test/1830.jpg', 1.4142135623730951), ('images_test/1069.jpg', 1.4142135623730951), ('images_test/655.jpg', 1.4142135623730951), ('images_test/1254.jpg', 1.4142135623730951), ('images_test/1502.jpg', 1.4142135623730951), ('images_test/696.jpg', 1.4142135623730951), ('images_test/729.jpg', 1.4142135623730951), ('images_test/1416.jpg', 1.4142135623730951), ('images_test/1710.jpg', 1.4142135623730951), ('images_test/1771.jpg', 1.4142135623730951), ('images_test/1020.jpg', 1.4142135623730951), ('images_test/1556.jpg', 1.4142135623730951), ('images_test/825.jpg', 1.4142135623730951), ('images_test/1265.jpg', 1.4142135623730951), ('images_test/416.jpg', 1.4142135623730951), ('images_test/933.jpg', 1.4142135623730951), ('images_test/1804.jpg', 1.4142135623730951), ('images_test/1436.jpg', 1.4142135623730951), ('images_test/1734.jpg', 1.4142135623730951), ('images_test/1678.jpg', 1.4142135623730951), ('images_test/202.jpg', 1.4142135623730951), ('images_test/145.jpg', 1.4142135623730951), ('images_test/607.jpg', 1.4142135623730951), ('images_test/777.jpg', 1.4142135623730951), ('images_test/778.jpg', 1.4142135623730951), ('images_test/1027.jpg', 1.4142135623730951), ('images_test/1122.jpg', 1.4142135623730951), ('images_test/1949.jpg', 1.4142135623730951), ('images_test/438.jpg', 1.4142135623730951), ('images_test/1517.jpg', 1.4142135623730951), ('images_test/555.jpg', 1.4142135623730951), ('images_test/1715.jpg', 1.4142135623730951), ('images_test/981.jpg', 1.4142135623730951), ('images_test/721.jpg', 1.4142135623730951), ('images_test/1817.jpg', 1.4142135623730951), ('images_test/1358.jpg', 1.4142135623730951), ('images_test/78.jpg', 1.4142135623730951), ('images_test/1690.jpg', 1.4142135623730951), ('images_test/458.jpg', 1.4142135623730951), ('images_test/761.jpg', 1.4142135623730951), ('images_test/643.jpg', 1.4142135623730951), ('images_test/614.jpg', 1.4142135623730951), ('images_test/1732.jpg', 1.4142135623730951), ('images_test/711.jpg', 1.4142135623730951), ('images_test/46.jpg', 1.4142135623730951), ('images_test/743.jpg', 1.4142135623730951), ('images_test/1457.jpg', 1.4142135623730951), ('images_test/1826.jpg', 1.4142135623730951), ('images_test/926.jpg', 1.4142135623730951), ('images_test/1421.jpg', 1.4142135623730951), ('images_test/843.jpg', 1.4142135623730951), ('images_test/1889.jpg', 1.4142135623730951), ('images_test/334.jpg', 1.4142135623730951), ('images_test/586.jpg', 1.4142135623730951), ('images_test/1009.jpg', 1.4142135623730951), ('images_test/344.jpg', 1.4142135623730951), ('images_test/1540.jpg', 1.4142135623730951), ('images_test/1768.jpg', 1.4142135623730951), ('images_test/57.jpg', 1.4142135623730951), ('images_test/1301.jpg', 1.4142135623730951), ('images_test/1297.jpg', 1.4142135623730951), ('images_test/1650.jpg', 1.4142135623730951), ('images_test/1152.jpg', 1.4142135623730951), ('images_test/1855.jpg', 1.4142135623730951), ('images_test/217.jpg', 1.4142135623730951), ('images_test/800.jpg', 1.4142135623730951), ('images_test/864.jpg', 1.4142135623730951), ('images_test/373.jpg', 1.4142135623730951), ('images_test/939.jpg', 1.4142135623730951), ('images_test/799.jpg', 1.4142135623730951), ('images_test/859.jpg', 1.4142135623730951), ('images_test/703.jpg', 1.4142135623730951), ('images_test/884.jpg', 1.4142135623730951), ('images_test/7.jpg', 1.4142135623730951), ('images_test/379.jpg', 1.4142135623730951), ('images_test/1983.jpg', 1.4142135623730951), ('images_test/492.jpg', 1.4142135623730951), ('images_test/420.jpg', 1.4142135623730951), ('images_test/1984.jpg', 1.4142135623730951), ('images_test/1275.jpg', 1.4142135623730951), ('images_test/375.jpg', 1.4142135623730951), ('images_test/435.jpg', 1.4142135623730951), ('images_test/814.jpg', 1.4142135623730951), ('images_test/1434.jpg', 1.4142135623730951), ('images_test/471.jpg', 1.4142135623730951), ('images_test/526.jpg', 1.4142135623730951), ('images_test/1736.jpg', 1.4142135623730951), ('images_test/1042.jpg', 1.4142135623730951), ('images_test/1937.jpg', 1.4142135623730951), ('images_test/12.jpg', 1.4142135623730951), ('images_test/259.jpg', 1.4142135623730951), ('images_test/901.jpg', 1.7320508075688772), ('images_test/1609.jpg', 1.7320508075688772), ('images_test/501.jpg', 1.7320508075688772), ('images_test/874.jpg', 1.7320508075688772), ('images_test/1169.jpg', 1.7320508075688772), ('images_test/725.jpg', 1.7320508075688772), ('images_test/1162.jpg', 1.7320508075688772), ('images_test/1909.jpg', 1.7320508075688772), ('images_test/15.jpg', 1.7320508075688772), ('images_test/1367.jpg', 1.7320508075688772), ('images_test/1380.jpg', 1.7320508075688772), ('images_test/687.jpg', 1.7320508075688772), ('images_test/1973.jpg', 1.7320508075688772), ('images_test/835.jpg', 1.7320508075688772), ('images_test/723.jpg', 1.7320508075688772), ('images_test/704.jpg', 1.7320508075688772), ('images_test/1056.jpg', 1.7320508075688772), ('images_test/528.jpg', 1.7320508075688772), ('images_test/1653.jpg', 1.7320508075688772), ('images_test/168.jpg', 1.7320508075688772), ('images_test/997.jpg', 1.7320508075688772), ('images_test/349.jpg', 1.7320508075688772), ('images_test/183.jpg', 1.7320508075688772), ('images_test/1853.jpg', 1.7320508075688772), ('images_test/85.jpg', 1.7320508075688772), ('images_test/1674.jpg', 1.7320508075688772), ('images_test/279.jpg', 1.7320508075688772), ('images_test/1171.jpg', 1.7320508075688772), ('images_test/1763.jpg', 1.7320508075688772), ('images_test/1698.jpg', 1.7320508075688772), ('images_test/20.jpg', 1.7320508075688772), ('images_test/955.jpg', 1.7320508075688772), ('images_test/694.jpg', 1.7320508075688772), ('images_test/688.jpg', 1.7320508075688772), ('images_test/187.jpg', 1.7320508075688772), ('images_test/1705.jpg', 1.7320508075688772), ('images_test/228.jpg', 1.7320508075688772), ('images_test/97.jpg', 1.7320508075688772), ('images_test/1387.jpg', 1.7320508075688772), ('images_test/500.jpg', 1.7320508075688772), ('images_test/755.jpg', 1.7320508075688772), ('images_test/1051.jpg', 1.7320508075688772), ('images_test/639.jpg', 1.7320508075688772), ('images_test/1424.jpg', 1.7320508075688772), ('images_test/247.jpg', 1.7320508075688772), ('images_test/1298.jpg', 1.7320508075688772), ('images_test/603.jpg', 1.7320508075688772), ('images_test/798.jpg', 1.7320508075688772), ('images_test/146.jpg', 1.7320508075688772), ('images_test/1894.jpg', 1.7320508075688772), ('images_test/680.jpg', 1.7320508075688772), ('images_test/1149.jpg', 1.7320508075688772), ('images_test/409.jpg', 1.7320508075688772), ('images_test/768.jpg', 1.7320508075688772), ('images_test/412.jpg', 1.7320508075688772), ('images_test/1214.jpg', 1.7320508075688772), ('images_test/244.jpg', 1.7320508075688772), ('images_test/381.jpg', 1.7320508075688772), ('images_test/445.jpg', 1.7320508075688772), ('images_test/254.jpg', 1.7320508075688772), ('images_test/954.jpg', 1.7320508075688772), ('images_test/339.jpg', 1.7320508075688772), ('images_test/541.jpg', 1.7320508075688772), ('images_test/1037.jpg', 1.7320508075688772), ('images_test/180.jpg', 1.7320508075688772), ('images_test/1634.jpg', 1.7320508075688772), ('images_test/1606.jpg', 1.7320508075688772), ('images_test/1280.jpg', 1.7320508075688772), ('images_test/627.jpg', 1.7320508075688772), ('images_test/1708.jpg', 1.7320508075688772), ('images_test/922.jpg', 1.7320508075688772), ('images_test/148.jpg', 1.7320508075688772), ('images_test/978.jpg', 1.7320508075688772), ('images_test/1333.jpg', 1.7320508075688772), ('images_test/551.jpg', 1.7320508075688772), ('images_test/1277.jpg', 1.7320508075688772), ('images_test/181.jpg', 1.7320508075688772), ('images_test/1560.jpg', 1.7320508075688772), ('images_test/1775.jpg', 1.7320508075688772), ('images_test/1882.jpg', 1.7320508075688772), ('images_test/1150.jpg', 1.7320508075688772), ('images_test/759.jpg', 1.7320508075688772), ('images_test/1412.jpg', 1.7320508075688772), ('images_test/109.jpg', 1.7320508075688772), ('images_test/1841.jpg', 1.7320508075688772), ('images_test/384.jpg', 1.7320508075688772), ('images_test/1004.jpg', 1.7320508075688772), ('images_test/229.jpg', 1.7320508075688772), ('images_test/641.jpg', 1.7320508075688772), ('images_test/1902.jpg', 1.7320508075688772), ('images_test/477.jpg', 1.7320508075688772), ('images_test/1157.jpg', 1.7320508075688772), ('images_test/700.jpg', 1.7320508075688772), ('images_test/1363.jpg', 1.7320508075688772), ('images_test/335.jpg', 1.7320508075688772), ('images_test/1623.jpg', 1.7320508075688772), ('images_test/531.jpg', 1.7320508075688772), ('images_test/1008.jpg', 1.7320508075688772), ('images_test/818.jpg', 1.7320508075688772), ('images_test/1448.jpg', 1.7320508075688772), ('images_test/1409.jpg', 1.7320508075688772), ('images_test/1103.jpg', 1.7320508075688772), ('images_test/980.jpg', 1.7320508075688772), ('images_test/1759.jpg', 1.7320508075688772), ('images_test/405.jpg', 1.7320508075688772), ('images_test/469.jpg', 1.7320508075688772), ('images_test/241.jpg', 1.7320508075688772), ('images_test/1640.jpg', 1.7320508075688772), ('images_test/691.jpg', 1.7320508075688772), ('images_test/1341.jpg', 1.7320508075688772), ('images_test/762.jpg', 1.7320508075688772), ('images_test/1286.jpg', 1.7320508075688772), ('images_test/756.jpg', 1.7320508075688772), ('images_test/1995.jpg', 1.7320508075688772), ('images_test/648.jpg', 1.7320508075688772), ('images_test/667.jpg', 1.7320508075688772), ('images_test/1431.jpg', 1.7320508075688772), ('images_test/632.jpg', 1.7320508075688772), ('images_test/709.jpg', 1.7320508075688772), ('images_test/1441.jpg', 1.7320508075688772), ('images_test/65.jpg', 1.7320508075688772), ('images_test/1166.jpg', 1.7320508075688772), ('images_test/311.jpg', 1.7320508075688772), ('images_test/186.jpg', 1.7320508075688772), ('images_test/1544.jpg', 1.7320508075688772), ('images_test/177.jpg', 1.7320508075688772), ('images_test/1840.jpg', 1.7320508075688772), ('images_test/1402.jpg', 1.7320508075688772), ('images_test/1980.jpg', 1.7320508075688772), ('images_test/1117.jpg', 1.7320508075688772), ('images_test/1784.jpg', 1.7320508075688772), ('images_test/308.jpg', 1.7320508075688772), ('images_test/205.jpg', 1.7320508075688772), ('images_test/1100.jpg', 1.7320508075688772), ('images_test/668.jpg', 1.7320508075688772), ('images_test/792.jpg', 1.7320508075688772), ('images_test/1469.jpg', 1.7320508075688772), ('images_test/1521.jpg', 1.7320508075688772), ('images_test/987.jpg', 1.7320508075688772), ('images_test/558.jpg', 1.7320508075688772), ('images_test/324.jpg', 1.7320508075688772), ('images_test/1123.jpg', 1.7320508075688772), ('images_test/1450.jpg', 1.7320508075688772), ('images_test/1622.jpg', 1.7320508075688772), ('images_test/272.jpg', 1.7320508075688772), ('images_test/523.jpg', 1.7320508075688772), ('images_test/439.jpg', 1.7320508075688772), ('images_test/1392.jpg', 1.7320508075688772), ('images_test/1557.jpg', 1.7320508075688772), ('images_test/175.jpg', 1.7320508075688772), ('images_test/250.jpg', 1.7320508075688772), ('images_test/59.jpg', 1.7320508075688772), ('images_test/1764.jpg', 1.7320508075688772), ('images_test/1496.jpg', 1.7320508075688772), ('images_test/604.jpg', 1.7320508075688772), ('images_test/1480.jpg', 1.7320508075688772), ('images_test/1553.jpg', 1.7320508075688772), ('images_test/1505.jpg', 1.7320508075688772), ('images_test/457.jpg', 1.7320508075688772), ('images_test/1204.jpg', 1.7320508075688772), ('images_test/268.jpg', 1.7320508075688772), ('images_test/1138.jpg', 1.7320508075688772), ('images_test/134.jpg', 1.7320508075688772), ('images_test/1176.jpg', 1.7320508075688772), ('images_test/24.jpg', 1.7320508075688772), ('images_test/155.jpg', 1.7320508075688772), ('images_test/1672.jpg', 1.7320508075688772), ('images_test/1953.jpg', 1.7320508075688772), ('images_test/1233.jpg', 1.7320508075688772), ('images_test/1666.jpg', 1.7320508075688772), ('images_test/1575.jpg', 1.7320508075688772), ('images_test/1545.jpg', 1.7320508075688772), ('images_test/1388.jpg', 1.7320508075688772), ('images_test/303.jpg', 1.7320508075688772), ('images_test/467.jpg', 1.7320508075688772), ('images_test/286.jpg', 1.7320508075688772), ('images_test/1668.jpg', 1.7320508075688772), ('images_test/1319.jpg', 1.7320508075688772), ('images_test/1326.jpg', 1.7320508075688772), ('images_test/1232.jpg', 1.7320508075688772), ('images_test/53.jpg', 1.7320508075688772), ('images_test/932.jpg', 1.7320508075688772), ('images_test/346.jpg', 1.7320508075688772), ('images_test/466.jpg', 1.7320508075688772), ('images_test/1684.jpg', 1.7320508075688772), ('images_test/1394.jpg', 1.7320508075688772), ('images_test/476.jpg', 1.7320508075688772), ('images_test/1744.jpg', 1.7320508075688772), ('images_test/733.jpg', 1.7320508075688772), ('images_test/669.jpg', 1.7320508075688772), ('images_test/1310.jpg', 1.7320508075688772), ('images_test/1729.jpg', 1.7320508075688772), ('images_test/1460.jpg', 1.7320508075688772), ('images_test/343.jpg', 1.7320508075688772), ('images_test/95.jpg', 1.7320508075688772), ('images_test/642.jpg', 1.7320508075688772), ('images_test/545.jpg', 1.7320508075688772), ('images_test/1062.jpg', 1.7320508075688772), ('images_test/575.jpg', 1.7320508075688772), ('images_test/1683.jpg', 1.7320508075688772), ('images_test/1932.jpg', 1.7320508075688772), ('images_test/1461.jpg', 1.7320508075688772), ('images_test/861.jpg', 1.7320508075688772), ('images_test/58.jpg', 1.7320508075688772), ('images_test/1887.jpg', 1.7320508075688772), ('images_test/215.jpg', 1.7320508075688772), ('images_test/903.jpg', 1.7320508075688772), ('images_test/773.jpg', 1.7320508075688772), ('images_test/1329.jpg', 1.7320508075688772), ('images_test/388.jpg', 1.7320508075688772), ('images_test/406.jpg', 1.7320508075688772), ('images_test/1657.jpg', 1.7320508075688772), ('images_test/1245.jpg', 1.7320508075688772), ('images_test/481.jpg', 1.7320508075688772), ('images_test/1490.jpg', 1.7320508075688772), ('images_test/719.jpg', 1.7320508075688772), ('images_test/1626.jpg', 1.7320508075688772), ('images_test/389.jpg', 1.7320508075688772), ('images_test/111.jpg', 1.7320508075688772), ('images_test/1093.jpg', 1.7320508075688772), ('images_test/1529.jpg', 1.7320508075688772), ('images_test/189.jpg', 1.7320508075688772), ('images_test/990.jpg', 1.7320508075688772), ('images_test/1844.jpg', 1.7320508075688772), ('images_test/1700.jpg', 1.7320508075688772), ('images_test/1427.jpg', 1.7320508075688772), ('images_test/1092.jpg', 1.7320508075688772), ('images_test/785.jpg', 1.7320508075688772), ('images_test/82.jpg', 1.7320508075688772), ('images_test/616.jpg', 1.7320508075688772), ('images_test/1296.jpg', 1.7320508075688772), ('images_test/43.jpg', 1.7320508075688772), ('images_test/960.jpg', 1.7320508075688772), ('images_test/1148.jpg', 1.7320508075688772), ('images_test/871.jpg', 1.7320508075688772), ('images_test/1814.jpg', 1.7320508075688772), ('images_test/1389.jpg', 1.7320508075688772), ('images_test/549.jpg', 1.7320508075688772), ('images_test/1638.jpg', 1.7320508075688772), ('images_test/1401.jpg', 1.7320508075688772), ('images_test/509.jpg', 1.7320508075688772), ('images_test/1011.jpg', 1.7320508075688772), ('images_test/319.jpg', 1.7320508075688772), ('images_test/248.jpg', 1.7320508075688772), ('images_test/1234.jpg', 1.7320508075688772), ('images_test/752.jpg', 1.7320508075688772), ('images_test/213.jpg', 1.7320508075688772), ('images_test/220.jpg', 1.7320508075688772), ('images_test/1651.jpg', 1.7320508075688772), ('images_test/1379.jpg', 1.7320508075688772), ('images_test/494.jpg', 1.7320508075688772), ('images_test/822.jpg', 1.7320508075688772), ('images_test/1361.jpg', 1.7320508075688772), ('images_test/1621.jpg', 1.7320508075688772), ('images_test/1210.jpg', 1.7320508075688772), ('images_test/1786.jpg', 1.7320508075688772), ('images_test/1161.jpg', 1.7320508075688772), ('images_test/17.jpg', 1.7320508075688772), ('images_test/1982.jpg', 1.7320508075688772), ('images_test/1285.jpg', 1.7320508075688772), ('images_test/963.jpg', 1.7320508075688772), ('images_test/493.jpg', 1.7320508075688772), ('images_test/1321.jpg', 1.7320508075688772), ('images_test/1491.jpg', 1.7320508075688772), ('images_test/1579.jpg', 1.7320508075688772), ('images_test/1604.jpg', 1.7320508075688772), ('images_test/1739.jpg', 1.7320508075688772), ('images_test/1541.jpg', 1.7320508075688772), ('images_test/455.jpg', 1.7320508075688772), ('images_test/1488.jpg', 1.7320508075688772), ('images_test/938.jpg', 1.7320508075688772), ('images_test/1290.jpg', 1.7320508075688772), ('images_test/235.jpg', 1.7320508075688772), ('images_test/56.jpg', 1.7320508075688772), ('images_test/1724.jpg', 1.7320508075688772), ('images_test/1110.jpg', 1.7320508075688772), ('images_test/1618.jpg', 1.7320508075688772), ('images_test/1605.jpg', 1.7320508075688772), ('images_test/701.jpg', 1.7320508075688772), ('images_test/894.jpg', 1.7320508075688772), ('images_test/197.jpg', 1.7320508075688772), ('images_test/673.jpg', 1.7320508075688772), ('images_test/508.jpg', 1.7320508075688772), ('images_test/735.jpg', 1.7320508075688772), ('images_test/216.jpg', 1.7320508075688772), ('images_test/67.jpg', 1.7320508075688772), ('images_test/1096.jpg', 1.7320508075688772), ('images_test/1563.jpg', 1.7320508075688772), ('images_test/746.jpg', 1.7320508075688772), ('images_test/1466.jpg', 1.7320508075688772), ('images_test/652.jpg', 1.7320508075688772), ('images_test/449.jpg', 1.7320508075688772), ('images_test/1665.jpg', 1.7320508075688772), ('images_test/1390.jpg', 1.7320508075688772), ('images_test/1323.jpg', 1.7320508075688772), ('images_test/184.jpg', 1.7320508075688772), ('images_test/382.jpg', 1.7320508075688772), ('images_test/1532.jpg', 1.7320508075688772), ('images_test/448.jpg', 1.7320508075688772), ('images_test/1852.jpg', 1.7320508075688772), ('images_test/594.jpg', 1.7320508075688772), ('images_test/790.jpg', 1.7320508075688772), ('images_test/1917.jpg', 1.7320508075688772), ('images_test/683.jpg', 1.7320508075688772), ('images_test/993.jpg', 1.7320508075688772), ('images_test/664.jpg', 1.7320508075688772), ('images_test/988.jpg', 1.7320508075688772), ('images_test/577.jpg', 1.7320508075688772), ('images_test/585.jpg', 1.7320508075688772), ('images_test/425.jpg', 1.7320508075688772), ('images_test/975.jpg', 1.7320508075688772), ('images_test/443.jpg', 1.7320508075688772), ('images_test/1464.jpg', 1.7320508075688772), ('images_test/1377.jpg', 1.7320508075688772), ('images_test/1463.jpg', 1.7320508075688772), ('images_test/1602.jpg', 1.7320508075688772), ('images_test/25.jpg', 1.7320508075688772), ('images_test/1899.jpg', 1.7320508075688772), ('images_test/1366.jpg', 1.7320508075688772), ('images_test/557.jpg', 1.7320508075688772), ('images_test/1827.jpg', 1.7320508075688772), ('images_test/1931.jpg', 1.7320508075688772), ('images_test/840.jpg', 1.7320508075688772), ('images_test/941.jpg', 1.7320508075688772), ('images_test/947.jpg', 1.7320508075688772), ('images_test/294.jpg', 1.7320508075688772), ('images_test/1870.jpg', 1.7320508075688772), ('images_test/1528.jpg', 1.7320508075688772), ('images_test/454.jpg', 1.7320508075688772), ('images_test/1154.jpg', 1.7320508075688772), ('images_test/795.jpg', 1.7320508075688772), ('images_test/583.jpg', 1.7320508075688772), ('images_test/1586.jpg', 1.7320508075688772), ('images_test/1747.jpg', 1.7320508075688772), ('images_test/1444.jpg', 1.7320508075688772), ('images_test/1220.jpg', 1.7320508075688772), ('images_test/1330.jpg', 1.7320508075688772), ('images_test/1097.jpg', 1.7320508075688772), ('images_test/470.jpg', 1.7320508075688772), ('images_test/519.jpg', 1.7320508075688772), ('images_test/920.jpg', 1.7320508075688772), ('images_test/1534.jpg', 1.7320508075688772), ('images_test/1694.jpg', 1.7320508075688772), ('images_test/1842.jpg', 1.7320508075688772), ('images_test/804.jpg', 1.7320508075688772), ('images_test/277.jpg', 1.7320508075688772), ('images_test/821.jpg', 1.7320508075688772), ('images_test/45.jpg', 1.7320508075688772), ('images_test/351.jpg', 1.7320508075688772), ('images_test/323.jpg', 1.7320508075688772), ('images_test/1998.jpg', 1.7320508075688772), ('images_test/1023.jpg', 1.7320508075688772), ('images_test/1613.jpg', 1.7320508075688772), ('images_test/408.jpg', 1.7320508075688772), ('images_test/1589.jpg', 1.7320508075688772), ('images_test/266.jpg', 1.7320508075688772), ('images_test/332.jpg', 1.7320508075688772), ('images_test/426.jpg', 1.7320508075688772), ('images_test/695.jpg', 1.7320508075688772), ('images_test/731.jpg', 1.7320508075688772), ('images_test/1211.jpg', 1.7320508075688772), ('images_test/223.jpg', 1.7320508075688772), ('images_test/949.jpg', 1.7320508075688772), ('images_test/1630.jpg', 1.7320508075688772), ('images_test/1060.jpg', 1.7320508075688772), ('images_test/1911.jpg', 1.7320508075688772), ('images_test/780.jpg', 1.7320508075688772), ('images_test/1109.jpg', 1.7320508075688772), ('images_test/984.jpg', 1.7320508075688772), ('images_test/255.jpg', 1.7320508075688772), ('images_test/1569.jpg', 1.7320508075688772), ('images_test/1869.jpg', 1.7320508075688772), ('images_test/1832.jpg', 1.7320508075688772), ('images_test/1493.jpg', 1.7320508075688772), ('images_test/913.jpg', 1.7320508075688772), ('images_test/1248.jpg', 1.7320508075688772), ('images_test/433.jpg', 1.7320508075688772), ('images_test/1697.jpg', 1.7320508075688772), ('images_test/370.jpg', 1.7320508075688772), ('images_test/236.jpg', 1.7320508075688772), ('images_test/1702.jpg', 1.7320508075688772), ('images_test/644.jpg', 1.7320508075688772), ('images_test/875.jpg', 1.7320508075688772), ('images_test/1501.jpg', 1.7320508075688772), ('images_test/1249.jpg', 1.7320508075688772), ('images_test/1778.jpg', 1.7320508075688772), ('images_test/1720.jpg', 1.7320508075688772), ('images_test/713.jpg', 1.7320508075688772), ('images_test/1816.jpg', 1.7320508075688772), ('images_test/976.jpg', 1.7320508075688772), ('images_test/170.jpg', 1.7320508075688772), ('images_test/41.jpg', 1.7320508075688772), ('images_test/1054.jpg', 1.7320508075688772), ('images_test/1685.jpg', 1.7320508075688772), ('images_test/676.jpg', 1.7320508075688772), ('images_test/1837.jpg', 1.7320508075688772), ('images_test/760.jpg', 1.7320508075688772), ('images_test/677.jpg', 1.7320508075688772), ('images_test/647.jpg', 1.7320508075688772), ('images_test/1581.jpg', 1.7320508075688772), ('images_test/1355.jpg', 1.7320508075688772), ('images_test/968.jpg', 1.7320508075688772), ('images_test/1719.jpg', 1.7320508075688772), ('images_test/468.jpg', 1.7320508075688772), ('images_test/118.jpg', 1.7320508075688772), ('images_test/1279.jpg', 1.7320508075688772), ('images_test/1721.jpg', 1.7320508075688772), ('images_test/802.jpg', 1.7320508075688772), ('images_test/767.jpg', 1.7320508075688772), ('images_test/1833.jpg', 1.7320508075688772), ('images_test/1194.jpg', 1.7320508075688772), ('images_test/1267.jpg', 1.7320508075688772), ('images_test/1370.jpg', 1.7320508075688772), ('images_test/658.jpg', 1.7320508075688772), ('images_test/1239.jpg', 1.7320508075688772), ('images_test/579.jpg', 1.7320508075688772), ('images_test/692.jpg', 1.7320508075688772), ('images_test/491.jpg', 1.7320508075688772), ('images_test/1866.jpg', 1.7320508075688772), ('images_test/678.jpg', 1.7320508075688772), ('images_test/736.jpg', 1.7320508075688772), ('images_test/1703.jpg', 1.7320508075688772), ('images_test/1951.jpg', 1.7320508075688772), ('images_test/1988.jpg', 1.7320508075688772), ('images_test/1712.jpg', 1.7320508075688772), ('images_test/54.jpg', 1.7320508075688772), ('images_test/1680.jpg', 1.7320508075688772), ('images_test/1530.jpg', 1.7320508075688772), ('images_test/1478.jpg', 1.7320508075688772), ('images_test/1583.jpg', 1.7320508075688772), ('images_test/1954.jpg', 1.7320508075688772), ('images_test/1766.jpg', 1.7320508075688772), ('images_test/1362.jpg', 1.7320508075688772), ('images_test/1403.jpg', 1.7320508075688772), ('images_test/398.jpg', 1.7320508075688772), ('images_test/281.jpg', 1.7320508075688772), ('images_test/1940.jpg', 1.7320508075688772), ('images_test/1582.jpg', 1.7320508075688772), ('images_test/1085.jpg', 1.7320508075688772), ('images_test/1258.jpg', 1.7320508075688772), ('images_test/560.jpg', 1.7320508075688772), ('images_test/1598.jpg', 1.7320508075688772), ('images_test/886.jpg', 1.7320508075688772), ('images_test/977.jpg', 1.7320508075688772), ('images_test/278.jpg', 1.7320508075688772), ('images_test/1001.jpg', 1.7320508075688772), ('images_test/1397.jpg', 1.7320508075688772), ('images_test/1962.jpg', 1.7320508075688772), ('images_test/544.jpg', 1.7320508075688772), ('images_test/1477.jpg', 1.7320508075688772), ('images_test/944.jpg', 1.7320508075688772), ('images_test/689.jpg', 1.7320508075688772), ('images_test/485.jpg', 1.7320508075688772), ('images_test/479.jpg', 1.7320508075688772), ('images_test/747.jpg', 1.7320508075688772), ('images_test/1921.jpg', 1.7320508075688772), ('images_test/854.jpg', 1.7320508075688772), ('images_test/590.jpg', 1.7320508075688772), ('images_test/19.jpg', 1.7320508075688772), ('images_test/1260.jpg', 1.7320508075688772), ('images_test/1508.jpg', 1.7320508075688772), ('images_test/176.jpg', 1.7320508075688772), ('images_test/649.jpg', 1.7320508075688772), ('images_test/1994.jpg', 1.7320508075688772), ('images_test/472.jpg', 1.7320508075688772), ('images_test/306.jpg', 1.7320508075688772), ('images_test/1304.jpg', 1.7320508075688772), ('images_test/1716.jpg', 1.7320508075688772), ('images_test/779.jpg', 1.7320508075688772), ('images_test/1799.jpg', 1.7320508075688772), ('images_test/1156.jpg', 1.7320508075688772), ('images_test/336.jpg', 1.7320508075688772), ('images_test/1440.jpg', 1.7320508075688772), ('images_test/1590.jpg', 1.7320508075688772), ('images_test/1760.jpg', 1.7320508075688772), ('images_test/801.jpg', 1.7320508075688772), ('images_test/838.jpg', 1.7320508075688772), ('images_test/60.jpg', 1.7320508075688772), ('images_test/1711.jpg', 1.7320508075688772), ('images_test/1543.jpg', 1.7320508075688772), ('images_test/640.jpg', 1.7320508075688772), ('images_test/1767.jpg', 1.7320508075688772), ('images_test/697.jpg', 1.7320508075688772), ('images_test/72.jpg', 1.7320508075688772), ('images_test/1861.jpg', 1.7320508075688772), ('images_test/615.jpg', 1.7320508075688772), ('images_test/460.jpg', 1.7320508075688772), ('images_test/865.jpg', 1.7320508075688772), ('images_test/1222.jpg', 1.7320508075688772), ('images_test/192.jpg', 1.7320508075688772), ('images_test/399.jpg', 1.7320508075688772), ('images_test/1393.jpg', 1.7320508075688772), ('images_test/962.jpg', 1.7320508075688772), ('images_test/748.jpg', 1.7320508075688772), ('images_test/1471.jpg', 1.7320508075688772), ('images_test/1105.jpg', 1.7320508075688772), ('images_test/1.jpg', 1.7320508075688772), ('images_test/1225.jpg', 1.7320508075688772), ('images_test/1079.jpg', 1.7320508075688772), ('images_test/543.jpg', 1.7320508075688772), ('images_test/1270.jpg', 1.7320508075688772), ('images_test/99.jpg', 1.7320508075688772), ('images_test/1819.jpg', 1.7320508075688772), ('images_test/1641.jpg', 1.7320508075688772), ('images_test/1948.jpg', 1.7320508075688772), ('images_test/353.jpg', 1.7320508075688772), ('images_test/1418.jpg', 1.7320508075688772), ('images_test/930.jpg', 1.7320508075688772), ('images_test/1933.jpg', 1.7320508075688772), ('images_test/1913.jpg', 1.7320508075688772), ('images_test/994.jpg', 1.7320508075688772), ('images_test/1818.jpg', 1.7320508075688772), ('images_test/271.jpg', 1.7320508075688772), ('images_test/1039.jpg', 1.7320508075688772), ('images_test/1596.jpg', 1.7320508075688772), ('images_test/986.jpg', 1.7320508075688772), ('images_test/1124.jpg', 1.7320508075688772), ('images_test/807.jpg', 1.7320508075688772), ('images_test/1428.jpg', 1.7320508075688772), ('images_test/866.jpg', 1.7320508075688772), ('images_test/1328.jpg', 1.7320508075688772), ('images_test/1669.jpg', 1.7320508075688772), ('images_test/419.jpg', 1.7320508075688772), ('images_test/852.jpg', 1.7320508075688772), ('images_test/951.jpg', 1.7320508075688772), ('images_test/10.jpg', 1.7320508075688772), ('images_test/390.jpg', 1.7320508075688772), ('images_test/1451.jpg', 1.7320508075688772), ('images_test/1468.jpg', 1.7320508075688772), ('images_test/534.jpg', 1.7320508075688772), ('images_test/290.jpg', 1.7320508075688772), ('images_test/288.jpg', 1.7320508075688772), ('images_test/757.jpg', 1.7320508075688772), ('images_test/1344.jpg', 1.7320508075688772), ('images_test/1046.jpg', 1.7320508075688772), ('images_test/1860.jpg', 1.7320508075688772), ('images_test/256.jpg', 1.7320508075688772), ('images_test/1580.jpg', 1.7320508075688772), ('images_test/1970.jpg', 1.7320508075688772), ('images_test/1578.jpg', 1.7320508075688772), ('images_test/417.jpg', 1.7320508075688772), ('images_test/1900.jpg', 1.7320508075688772), ('images_test/285.jpg', 1.7320508075688772), ('images_test/1820.jpg', 1.7320508075688772), ('images_test/1859.jpg', 1.7320508075688772), ('images_test/195.jpg', 1.7320508075688772), ('images_test/909.jpg', 1.7320508075688772), ('images_test/1346.jpg', 1.7320508075688772), ('images_test/1007.jpg', 1.7320508075688772), ('images_test/1453.jpg', 1.7320508075688772), ('images_test/624.jpg', 1.7320508075688772), ('images_test/90.jpg', 1.7320508075688772), ('images_test/302.jpg', 1.7320508075688772), ('images_test/427.jpg', 1.7320508075688772), ('images_test/925.jpg', 1.7320508075688772), ('images_test/418.jpg', 1.7320508075688772), ('images_test/165.jpg', 1.7320508075688772), ('images_test/1372.jpg', 1.7320508075688772), ('images_test/992.jpg', 1.7320508075688772), ('images_test/1880.jpg', 1.7320508075688772), ('images_test/1010.jpg', 1.7320508075688772), ('images_test/1028.jpg', 1.7320508075688772), ('images_test/1438.jpg', 1.7320508075688772), ('images_test/1864.jpg', 1.7320508075688772), ('images_test/1129.jpg', 1.7320508075688772), ('images_test/1485.jpg', 1.7320508075688772), ('images_test/120.jpg', 1.7320508075688772), ('images_test/1343.jpg', 1.7320508075688772), ('images_test/66.jpg', 1.7320508075688772), ('images_test/1537.jpg', 1.7320508075688772), ('images_test/1391.jpg', 1.7320508075688772), ('images_test/376.jpg', 1.7320508075688772), ('images_test/1125.jpg', 1.7320508075688772), ('images_test/1244.jpg', 1.7320508075688772), ('images_test/1644.jpg', 1.7320508075688772), ('images_test/745.jpg', 1.7320508075688772), ('images_test/1070.jpg', 1.7320508075688772), ('images_test/645.jpg', 1.7320508075688772), ('images_test/1961.jpg', 1.7320508075688772), ('images_test/623.jpg', 1.7320508075688772), ('images_test/304.jpg', 1.7320508075688772), ('images_test/1661.jpg', 1.7320508075688772), ('images_test/1088.jpg', 1.7320508075688772), ('images_test/776.jpg', 1.7320508075688772), ('images_test/1026.jpg', 1.7320508075688772), ('images_test/1452.jpg', 1.7320508075688772), ('images_test/625.jpg', 1.7320508075688772), ('images_test/429.jpg', 1.7320508075688772), ('images_test/1032.jpg', 1.7320508075688772), ('images_test/484.jpg', 1.7320508075688772), ('images_test/320.jpg', 1.7320508075688772), ('images_test/841.jpg', 1.7320508075688772), ('images_test/846.jpg', 1.7320508075688772), ('images_test/69.jpg', 1.7320508075688772), ('images_test/546.jpg', 1.7320508075688772), ('images_test/1898.jpg', 1.7320508075688772), ('images_test/662.jpg', 1.7320508075688772), ('images_test/1306.jpg', 1.7320508075688772), ('images_test/249.jpg', 1.7320508075688772), ('images_test/84.jpg', 1.7320508075688772), ('images_test/321.jpg', 1.7320508075688772), ('images_test/239.jpg', 1.7320508075688772), ('images_test/867.jpg', 1.7320508075688772), ('images_test/143.jpg', 1.7320508075688772), ('images_test/475.jpg', 1.7320508075688772), ('images_test/1155.jpg', 1.7320508075688772), ('images_test/613.jpg', 1.7320508075688772), ('images_test/1442.jpg', 1.7320508075688772), ('images_test/1577.jpg', 1.7320508075688772), ('images_test/221.jpg', 1.7320508075688772), ('images_test/1295.jpg', 1.7320508075688772), ('images_test/1167.jpg', 1.7320508075688772), ('images_test/744.jpg', 1.7320508075688772), ('images_test/293.jpg', 1.7320508075688772), ('images_test/1787.jpg', 1.7320508075688772), ('images_test/1862.jpg', 1.7320508075688772), ('images_test/686.jpg', 1.7320508075688772), ('images_test/1483.jpg', 1.7320508075688772), ('images_test/1038.jpg', 1.7320508075688772), ('images_test/1538.jpg', 1.7320508075688772), ('images_test/630.jpg', 1.7320508075688772), ('images_test/1106.jpg', 1.7320508075688772), ('images_test/728.jpg', 1.7320508075688772), ('images_test/1269.jpg', 1.7320508075688772), ('images_test/1926.jpg', 1.7320508075688772), ('images_test/1612.jpg', 1.7320508075688772), ('images_test/1514.jpg', 1.7320508075688772), ('images_test/1190.jpg', 1.7320508075688772), ('images_test/937.jpg', 1.7320508075688772), ('images_test/1378.jpg', 1.7320508075688772), ('images_test/224.jpg', 1.7320508075688772), ('images_test/1539.jpg', 1.7320508075688772), ('images_test/609.jpg', 1.7320508075688772), ('images_test/982.jpg', 1.7320508075688772), ('images_test/1619.jpg', 1.7320508075688772), ('images_test/50.jpg', 1.7320508075688772), ('images_test/775.jpg', 1.7320508075688772), ('images_test/136.jpg', 1.7320508075688772), ('images_test/1274.jpg', 1.7320508075688772), ('images_test/1058.jpg', 1.7320508075688772), ('images_test/1689.jpg', 1.7320508075688772), ('images_test/1331.jpg', 1.7320508075688772), ('images_test/973.jpg', 1.7320508075688772), ('images_test/783.jpg', 1.7320508075688772), ('images_test/915.jpg', 1.7320508075688772), ('images_test/1147.jpg', 1.7320508075688772), ('images_test/1325.jpg', 1.7320508075688772), ('images_test/364.jpg', 1.7320508075688772), ('images_test/595.jpg', 1.7320508075688772), ('images_test/1405.jpg', 1.7320508075688772), ('images_test/1470.jpg', 1.7320508075688772), ('images_test/727.jpg', 1.7320508075688772), ('images_test/1947.jpg', 1.7320508075688772), ('images_test/465.jpg', 1.7320508075688772), ('images_test/289.jpg', 1.7320508075688772), ('images_test/1108.jpg', 1.7320508075688772), ('images_test/326.jpg', 1.7320508075688772), ('images_test/685.jpg', 1.7320508075688772), ('images_test/1829.jpg', 1.7320508075688772), ('images_test/1890.jpg', 1.7320508075688772), ('images_test/73.jpg', 1.7320508075688772), ('images_test/724.jpg', 1.7320508075688772), ('images_test/451.jpg', 1.7320508075688772), ('images_test/1086.jpg', 1.7320508075688772), ('images_test/1164.jpg', 1.7320508075688772), ('images_test/1507.jpg', 2.0), ('images_test/1756.jpg', 2.0), ('images_test/1943.jpg', 2.0), ('images_test/1230.jpg', 2.0), ('images_test/940.jpg', 2.0), ('images_test/1107.jpg', 2.0), ('images_test/1908.jpg', 2.0), ('images_test/367.jpg', 2.0), ('images_test/338.jpg', 2.0), ('images_test/1081.jpg', 2.0), ('images_test/240.jpg', 2.0), ('images_test/1212.jpg', 2.0), ('images_test/1699.jpg', 2.0), ('images_test/705.jpg', 2.0), ('images_test/1432.jpg', 2.0), ('images_test/1313.jpg', 2.0), ('images_test/340.jpg', 2.0), ('images_test/394.jpg', 2.0), ('images_test/626.jpg', 2.0), ('images_test/1002.jpg', 2.0), ('images_test/322.jpg', 2.0), ('images_test/1686.jpg', 2.0), ('images_test/758.jpg', 2.0), ('images_test/969.jpg', 2.0), ('images_test/769.jpg', 2.0), ('images_test/1273.jpg', 2.0), ('images_test/842.jpg', 2.0), ('images_test/1928.jpg', 2.0), ('images_test/742.jpg', 2.0), ('images_test/1608.jpg', 2.0), ('images_test/895.jpg', 2.0), ('images_test/333.jpg', 2.0), ('images_test/1811.jpg', 2.0), ('images_test/32.jpg', 2.0), ('images_test/1849.jpg', 2.0), ('images_test/1555.jpg', 2.0), ('images_test/1549.jpg', 2.0), ('images_test/131.jpg', 2.0), ('images_test/539.jpg', 2.0), ('images_test/971.jpg', 2.0), ('images_test/1652.jpg', 2.0), ('images_test/666.jpg', 2.0), ('images_test/1846.jpg', 2.0), ('images_test/578.jpg', 2.0), ('images_test/657.jpg', 2.0), ('images_test/92.jpg', 2.0), ('images_test/636.jpg', 2.0), ('images_test/62.jpg', 2.0), ('images_test/1920.jpg', 2.0), ('images_test/796.jpg', 2.0), ('images_test/96.jpg', 2.0), ('images_test/602.jpg', 2.0), ('images_test/991.jpg', 2.0), ('images_test/706.jpg', 2.0), ('images_test/1717.jpg', 2.0), ('images_test/159.jpg', 2.0), ('images_test/1753.jpg', 2.0), ('images_test/1257.jpg', 2.0), ('images_test/154.jpg', 2.0), ('images_test/98.jpg', 2.0), ('images_test/1498.jpg', 2.0), ('images_test/999.jpg', 2.0), ('images_test/327.jpg', 2.0), ('images_test/1282.jpg', 2.0), ('images_test/1302.jpg', 2.0), ('images_test/1808.jpg', 2.0), ('images_test/1223.jpg', 2.0), ('images_test/1044.jpg', 2.0), ('images_test/934.jpg', 2.0), ('images_test/103.jpg', 2.0), ('images_test/8.jpg', 2.0), ('images_test/1121.jpg', 2.0), ('images_test/1524.jpg', 2.0), ('images_test/1654.jpg', 2.0), ('images_test/1793.jpg', 2.0), ('images_test/1726.jpg', 2.0), ('images_test/1945.jpg', 2.0), ('images_test/316.jpg', 2.0), ('images_test/787.jpg', 2.0), ('images_test/591.jpg', 2.0), ('images_test/1875.jpg', 2.0), ('images_test/1375.jpg', 2.0), ('images_test/1019.jpg', 2.0), ('images_test/929.jpg', 2.0), ('images_test/337.jpg', 2.0), ('images_test/42.jpg', 2.0), ('images_test/1299.jpg', 2.0), ('images_test/1728.jpg', 2.0), ('images_test/574.jpg', 2.0), ('images_test/828.jpg', 2.0), ('images_test/1893.jpg', 2.0), ('images_test/931.jpg', 2.0), ('images_test/1509.jpg', 2.0), ('images_test/1497.jpg', 2.0), ('images_test/1905.jpg', 2.0), ('images_test/1834.jpg', 2.0), ('images_test/245.jpg', 2.0), ('images_test/899.jpg', 2.0), ('images_test/1525.jpg', 2.0), ('images_test/772.jpg', 2.0), ('images_test/198.jpg', 2.0), ('images_test/1305.jpg', 2.0), ('images_test/1203.jpg', 2.0), ('images_test/1160.jpg', 2.0), ('images_test/945.jpg', 2.0), ('images_test/110.jpg', 2.0), ('images_test/1396.jpg', 2.0), ('images_test/1205.jpg', 2.0), ('images_test/182.jpg', 2.0), ('images_test/837.jpg', 2.0), ('images_test/1327.jpg', 2.0), ('images_test/1446.jpg', 2.0), ('images_test/162.jpg', 2.0), ('images_test/1851.jpg', 2.0), ('images_test/1072.jpg', 2.0), ('images_test/1611.jpg', 2.0), ('images_test/459.jpg', 2.0), ('images_test/1925.jpg', 2.0), ('images_test/1987.jpg', 2.0), ('images_test/463.jpg', 2.0), ('images_test/1886.jpg', 2.0), ('images_test/1664.jpg', 2.0), ('images_test/121.jpg', 2.0), ('images_test/629.jpg', 2.0), ('images_test/342.jpg', 2.0), ('images_test/199.jpg', 2.0), ('images_test/298.jpg', 2.0), ('images_test/22.jpg', 2.0), ('images_test/1997.jpg', 2.0), ('images_test/911.jpg', 2.0), ('images_test/104.jpg', 2.0), ('images_test/1593.jpg', 2.0), ('images_test/1417.jpg', 2.0), ('images_test/1952.jpg', 2.0), ('images_test/305.jpg', 2.0), ('images_test/601.jpg', 2.0), ('images_test/1300.jpg', 2.0), ('images_test/1073.jpg', 2.0), ('images_test/781.jpg', 2.0), ('images_test/1601.jpg', 2.0), ('images_test/173.jpg', 2.0), ('images_test/1901.jpg', 2.0), ('images_test/714.jpg', 2.0), ('images_test/956.jpg', 2.0), ('images_test/30.jpg', 2.0), ('images_test/1443.jpg', 2.0), ('images_test/1791.jpg', 2.0), ('images_test/1772.jpg', 2.0), ('images_test/1484.jpg', 2.0), ('images_test/1977.jpg', 2.0), ('images_test/167.jpg', 2.0), ('images_test/1923.jpg', 2.0), ('images_test/1040.jpg', 2.0), ('images_test/1016.jpg', 2.0), ('images_test/4.jpg', 2.0), ('images_test/407.jpg', 2.0), ('images_test/1691.jpg', 2.0), ('images_test/1776.jpg', 2.0), ('images_test/1526.jpg', 2.0), ('images_test/720.jpg', 2.0), ('images_test/431.jpg', 2.0), ('images_test/1229.jpg', 2.0), ('images_test/400.jpg', 2.0), ('images_test/717.jpg', 2.0), ('images_test/998.jpg', 2.0), ('images_test/1191.jpg', 2.0), ('images_test/1796.jpg', 2.0), ('images_test/740.jpg', 2.0), ('images_test/1309.jpg', 2.0), ('images_test/1600.jpg', 2.0), ('images_test/1838.jpg', 2.0), ('images_test/1741.jpg', 2.0), ('images_test/1797.jpg', 2.0), ('images_test/1091.jpg', 2.0), ('images_test/1235.jpg', 2.0), ('images_test/1740.jpg', 2.0), ('images_test/1181.jpg', 2.0), ('images_test/753.jpg', 2.0), ('images_test/1338.jpg', 2.0), ('images_test/1163.jpg', 2.0), ('images_test/516.jpg', 2.0), ('images_test/499.jpg', 2.0), ('images_test/730.jpg', 2.0), ('images_test/1337.jpg', 2.0), ('images_test/1137.jpg', 2.0), ('images_test/1714.jpg', 2.0), ('images_test/1536.jpg', 2.0), ('images_test/1587.jpg', 2.0), ('images_test/352.jpg', 2.0), ('images_test/890.jpg', 2.0), ('images_test/527.jpg', 2.0), ('images_test/872.jpg', 2.0), ('images_test/430.jpg', 2.0), ('images_test/952.jpg', 2.0), ('images_test/612.jpg', 2.0), ('images_test/1978.jpg', 2.0), ('images_test/907.jpg', 2.0), ('images_test/1349.jpg', 2.0), ('images_test/1052.jpg', 2.0), ('images_test/885.jpg', 2.0), ('images_test/1022.jpg', 2.0), ('images_test/563.jpg', 2.0), ('images_test/1927.jpg', 2.0), ('images_test/896.jpg', 2.0), ('images_test/1368.jpg', 2.0), ('images_test/446.jpg', 2.0), ('images_test/1425.jpg', 2.0), ('images_test/1489.jpg', 2.0), ('images_test/1614.jpg', 2.0), ('images_test/1347.jpg', 2.0), ('images_test/129.jpg', 2.0), ('images_test/764.jpg', 2.0), ('images_test/317.jpg', 2.0), ('images_test/1656.jpg', 2.0), ('images_test/35.jpg', 2.0), ('images_test/1278.jpg', 2.0), ('images_test/315.jpg', 2.0), ('images_test/287.jpg', 2.0), ('images_test/301.jpg', 2.0), ('images_test/1713.jpg', 2.0), ('images_test/1567.jpg', 2.0), ('images_test/621.jpg', 2.0), ('images_test/14.jpg', 2.0), ('images_test/1476.jpg', 2.0), ('images_test/1807.jpg', 2.0), ('images_test/827.jpg', 2.0), ('images_test/1910.jpg', 2.0), ('images_test/946.jpg', 2.0), ('images_test/276.jpg', 2.0), ('images_test/967.jpg', 2.0), ('images_test/1955.jpg', 2.0), ('images_test/149.jpg', 2.0), ('images_test/834.jpg', 2.0), ('images_test/1624.jpg', 2.0), ('images_test/1013.jpg', 2.0), ('images_test/562.jpg', 2.0), ('images_test/707.jpg', 2.0), ('images_test/1130.jpg', 2.0), ('images_test/395.jpg', 2.0), ('images_test/113.jpg', 2.0), ('images_test/833.jpg', 2.0), ('images_test/1312.jpg', 2.0), ('images_test/879.jpg', 2.0), ('images_test/803.jpg', 2.0), ('images_test/1193.jpg', 2.0), ('images_test/1487.jpg', 2.0), ('images_test/496.jpg', 2.0), ('images_test/1449.jpg', 2.0), ('images_test/513.jpg', 2.0), ('images_test/1929.jpg', 2.0), ('images_test/1950.jpg', 2.0), ('images_test/633.jpg', 2.0), ('images_test/598.jpg', 2.0), ('images_test/1076.jpg', 2.0), ('images_test/1856.jpg', 2.0), ('images_test/1041.jpg', 2.0), ('images_test/547.jpg', 2.0), ('images_test/1246.jpg', 2.0), ('images_test/1752.jpg', 2.0), ('images_test/171.jpg', 2.0), ('images_test/123.jpg', 2.0), ('images_test/1158.jpg', 2.0), ('images_test/1334.jpg', 2.0), ('images_test/1382.jpg', 2.0), ('images_test/1594.jpg', 2.0), ('images_test/280.jpg', 2.0), ('images_test/904.jpg', 2.0), ('images_test/380.jpg', 2.0), ('images_test/309.jpg', 2.0), ('images_test/1376.jpg', 2.0), ('images_test/1159.jpg', 2.0), ('images_test/611.jpg', 2.0), ('images_test/1241.jpg', 2.0), ('images_test/1031.jpg', 2.0), ('images_test/1014.jpg', 2.0), ('images_test/1677.jpg', 2.0), ('images_test/1956.jpg', 2.0), ('images_test/1798.jpg', 2.0), ('images_test/1748.jpg', 2.0), ('images_test/1617.jpg', 2.0), ('images_test/1292.jpg', 2.0), ('images_test/1177.jpg', 2.0), ('images_test/1077.jpg', 2.0), ('images_test/1754.jpg', 2.0), ('images_test/1479.jpg', 2.0), ('images_test/857.jpg', 2.0), ('images_test/953.jpg', 2.0), ('images_test/1365.jpg', 2.0), ('images_test/1084.jpg', 2.0), ('images_test/1805.jpg', 2.0), ('images_test/809.jpg', 2.0), ('images_test/1850.jpg', 2.0), ('images_test/1183.jpg', 2.0), ('images_test/415.jpg', 2.0), ('images_test/1629.jpg', 2.0), ('images_test/124.jpg', 2.0), ('images_test/504.jpg', 2.0), ('images_test/1858.jpg', 2.0), ('images_test/1986.jpg', 2.0), ('images_test/698.jpg', 2.0), ('images_test/556.jpg', 2.0), ('images_test/1964.jpg', 2.0), ('images_test/206.jpg', 2.0), ('images_test/1374.jpg', 2.0), ('images_test/283.jpg', 2.0), ('images_test/1709.jpg', 2.0), ('images_test/661.jpg', 2.0), ('images_test/80.jpg', 2.0), ('images_test/91.jpg', 2.0), ('images_test/396.jpg', 2.0), ('images_test/6.jpg', 2.0), ('images_test/561.jpg', 2.0), ('images_test/881.jpg', 2.0), ('images_test/597.jpg', 2.0), ('images_test/385.jpg', 2.0), ('images_test/331.jpg', 2.0), ('images_test/1813.jpg', 2.0), ('images_test/361.jpg', 2.0), ('images_test/813.jpg', 2.0), ('images_test/1095.jpg', 2.0), ('images_test/710.jpg', 2.0), ('images_test/357.jpg', 2.0), ('images_test/1185.jpg', 2.0), ('images_test/1202.jpg', 2.0), ('images_test/830.jpg', 2.0), ('images_test/264.jpg', 2.0), ('images_test/1133.jpg', 2.0), ('images_test/135.jpg', 2.0), ('images_test/234.jpg', 2.0), ('images_test/391.jpg', 2.0), ('images_test/1089.jpg', 2.0), ('images_test/1360.jpg', 2.0), ('images_test/1407.jpg', 2.0), ('images_test/48.jpg', 2.0), ('images_test/1459.jpg', 2.0), ('images_test/164.jpg', 2.0), ('images_test/844.jpg', 2.0), ('images_test/1473.jpg', 2.0), ('images_test/1967.jpg', 2.0), ('images_test/511.jpg', 2.0), ('images_test/1252.jpg', 2.0), ('images_test/869.jpg', 2.0), ('images_test/542.jpg', 2.0), ('images_test/79.jpg', 2.0), ('images_test/1675.jpg', 2.0), ('images_test/436.jpg', 2.0), ('images_test/1682.jpg', 2.0), ('images_test/318.jpg', 2.0), ('images_test/1143.jpg', 2.0), ('images_test/1503.jpg', 2.0), ('images_test/295.jpg', 2.0), ('images_test/567.jpg', 2.0), ('images_test/883.jpg', 2.0), ('images_test/495.jpg', 2.0), ('images_test/300.jpg', 2.0), ('images_test/1863.jpg', 2.0), ('images_test/1173.jpg', 2.0), ('images_test/356.jpg', 2.0), ('images_test/1919.jpg', 2.0), ('images_test/188.jpg', 2.0), ('images_test/410.jpg', 2.0), ('images_test/1395.jpg', 2.0), ('images_test/961.jpg', 2.0), ('images_test/793.jpg', 2.0), ('images_test/1966.jpg', 2.0), ('images_test/196.jpg', 2.0), ('images_test/1255.jpg', 2.0), ('images_test/1112.jpg', 2.0), ('images_test/589.jpg', 2.0), ('images_test/464.jpg', 2.0), ('images_test/806.jpg', 2.0), ('images_test/845.jpg', 2.0), ('images_test/1017.jpg', 2.0), ('images_test/372.jpg', 2.0), ('images_test/1043.jpg', 2.0), ('images_test/891.jpg', 2.0), ('images_test/166.jpg', 2.0), ('images_test/1533.jpg', 2.0), ('images_test/377.jpg', 2.0), ('images_test/617.jpg', 2.0), ('images_test/1500.jpg', 2.0), ('images_test/1410.jpg', 2.0), ('images_test/1639.jpg', 2.0), ('images_test/1294.jpg', 2.0), ('images_test/1916.jpg', 2.0), ('images_test/392.jpg', 2.0), ('images_test/823.jpg', 2.0), ('images_test/568.jpg', 2.0), ('images_test/665.jpg', 2.0), ('images_test/1906.jpg', 2.0), ('images_test/1688.jpg', 2.0), ('images_test/1251.jpg', 2.0), ('images_test/453.jpg', 2.0), ('images_test/1854.jpg', 2.0), ('images_test/923.jpg', 2.0), ('images_test/369.jpg', 2.0), ('images_test/169.jpg', 2.0), ('images_test/672.jpg', 2.0), ('images_test/985.jpg', 2.0), ('images_test/1104.jpg', 2.0), ('images_test/1810.jpg', 2.0), ('images_test/912.jpg', 2.0), ('images_test/517.jpg', 2.23606797749979), ('images_test/1303.jpg', 2.23606797749979), ('images_test/261.jpg', 2.23606797749979), ('images_test/423.jpg', 2.23606797749979), ('images_test/1198.jpg', 2.23606797749979), ('images_test/1551.jpg', 2.23606797749979), ('images_test/393.jpg', 2.23606797749979), ('images_test/1780.jpg', 2.23606797749979), ('images_test/1369.jpg', 2.23606797749979), ('images_test/774.jpg', 2.23606797749979), ('images_test/263.jpg', 2.23606797749979), ('images_test/497.jpg', 2.23606797749979), ('images_test/1226.jpg', 2.23606797749979), ('images_test/355.jpg', 2.23606797749979), ('images_test/488.jpg', 2.23606797749979), ('images_test/1757.jpg', 2.23606797749979), ('images_test/819.jpg', 2.23606797749979), ('images_test/1435.jpg', 2.23606797749979), ('images_test/222.jpg', 2.23606797749979), ('images_test/1877.jpg', 2.23606797749979), ('images_test/5.jpg', 2.23606797749979), ('images_test/1247.jpg', 2.23606797749979), ('images_test/1510.jpg', 2.23606797749979), ('images_test/572.jpg', 2.23606797749979), ('images_test/1892.jpg', 2.23606797749979), ('images_test/882.jpg', 2.23606797749979), ('images_test/674.jpg', 2.23606797749979), ('images_test/487.jpg', 2.23606797749979), ('images_test/1848.jpg', 2.23606797749979), ('images_test/1354.jpg', 2.23606797749979), ('images_test/174.jpg', 2.23606797749979), ('images_test/132.jpg', 2.23606797749979), ('images_test/1904.jpg', 2.23606797749979), ('images_test/584.jpg', 2.23606797749979), ('images_test/1989.jpg', 2.23606797749979), ('images_test/1915.jpg', 2.23606797749979), ('images_test/788.jpg', 2.23606797749979), ('images_test/1386.jpg', 2.23606797749979), ('images_test/9.jpg', 2.23606797749979), ('images_test/660.jpg', 2.23606797749979), ('images_test/1667.jpg', 2.23606797749979), ('images_test/1000.jpg', 2.23606797749979), ('images_test/1182.jpg', 2.23606797749979), ('images_test/1065.jpg', 2.23606797749979), ('images_test/503.jpg', 2.23606797749979), ('images_test/628.jpg', 2.23606797749979), ('images_test/1094.jpg', 2.23606797749979), ('images_test/600.jpg', 2.23606797749979), ('images_test/675.jpg', 2.23606797749979), ('images_test/61.jpg', 2.23606797749979), ('images_test/1371.jpg', 2.23606797749979), ('images_test/1178.jpg', 2.23606797749979), ('images_test/270.jpg', 2.23606797749979), ('images_test/1558.jpg', 2.23606797749979), ('images_test/44.jpg', 2.23606797749979), ('images_test/634.jpg', 2.23606797749979), ('images_test/231.jpg', 2.23606797749979), ('images_test/1527.jpg', 2.23606797749979), ('images_test/1783.jpg', 2.23606797749979), ('images_test/1359.jpg', 2.23606797749979), ('images_test/851.jpg', 2.23606797749979), ('images_test/142.jpg', 2.23606797749979), ('images_test/1835.jpg', 2.23606797749979), ('images_test/1695.jpg', 2.23606797749979), ('images_test/1873.jpg', 2.23606797749979), ('images_test/1573.jpg', 2.23606797749979), ('images_test/1264.jpg', 2.23606797749979), ('images_test/1562.jpg', 2.23606797749979), ('images_test/291.jpg', 2.23606797749979), ('images_test/571.jpg', 2.23606797749979), ('images_test/1053.jpg', 2.23606797749979), ('images_test/682.jpg', 2.23606797749979), ('images_test/1006.jpg', 2.23606797749979), ('images_test/1188.jpg', 2.23606797749979), ('images_test/133.jpg', 2.23606797749979), ('images_test/18.jpg', 2.23606797749979), ('images_test/1071.jpg', 2.23606797749979), ('images_test/810.jpg', 2.23606797749979), ('images_test/849.jpg', 2.23606797749979), ('images_test/218.jpg', 2.23606797749979), ('images_test/1642.jpg', 2.23606797749979), ('images_test/1348.jpg', 2.23606797749979), ('images_test/1942.jpg', 2.23606797749979), ('images_test/1324.jpg', 2.23606797749979), ('images_test/548.jpg', 2.23606797749979), ('images_test/1506.jpg', 2.23606797749979), ('images_test/378.jpg', 2.23606797749979), ('images_test/1769.jpg', 2.23606797749979), ('images_test/1242.jpg', 2.23606797749979), ('images_test/1636.jpg', 2.23606797749979), ('images_test/900.jpg', 2.23606797749979), ('images_test/1730.jpg', 2.23606797749979), ('images_test/1823.jpg', 2.23606797749979), ('images_test/260.jpg', 2.23606797749979), ('images_test/1168.jpg', 2.23606797749979), ('images_test/606.jpg', 2.23606797749979), ('images_test/1199.jpg', 2.23606797749979), ('images_test/482.jpg', 2.23606797749979), ('images_test/127.jpg', 2.23606797749979), ('images_test/314.jpg', 2.23606797749979), ('images_test/105.jpg', 2.23606797749979), ('images_test/81.jpg', 2.23606797749979), ('images_test/363.jpg', 2.23606797749979), ('images_test/1083.jpg', 2.23606797749979), ('images_test/1196.jpg', 2.23606797749979), ('images_test/1891.jpg', 2.23606797749979), ('images_test/738.jpg', 2.23606797749979), ('images_test/1907.jpg', 2.23606797749979), ('images_test/150.jpg', 2.23606797749979), ('images_test/345.jpg', 2.23606797749979), ('images_test/1515.jpg', 2.23606797749979), ('images_test/1057.jpg', 2.23606797749979), ('images_test/1687.jpg', 2.23606797749979), ('images_test/538.jpg', 2.23606797749979), ('images_test/1336.jpg', 2.23606797749979), ('images_test/1144.jpg', 2.23606797749979), ('images_test/1794.jpg', 2.23606797749979), ('images_test/1134.jpg', 2.23606797749979), ('images_test/826.jpg', 2.23606797749979), ('images_test/137.jpg', 2.23606797749979), ('images_test/1603.jpg', 2.23606797749979), ('images_test/924.jpg', 2.23606797749979), ('images_test/1256.jpg', 2.23606797749979), ('images_test/1554.jpg', 2.23606797749979), ('images_test/114.jpg', 2.23606797749979), ('images_test/530.jpg', 2.23606797749979), ('images_test/1025.jpg', 2.23606797749979), ('images_test/1315.jpg', 2.23606797749979), ('images_test/1671.jpg', 2.23606797749979), ('images_test/1659.jpg', 2.23606797749979), ('images_test/1542.jpg', 2.23606797749979), ('images_test/1422.jpg', 2.23606797749979), ('images_test/1455.jpg', 2.23606797749979), ('images_test/404.jpg', 2.23606797749979), ('images_test/13.jpg', 2.23606797749979), ('images_test/1192.jpg', 2.23606797749979), ('images_test/83.jpg', 2.23606797749979), ('images_test/1857.jpg', 2.23606797749979), ('images_test/737.jpg', 2.23606797749979), ('images_test/1785.jpg', 2.23606797749979), ('images_test/115.jpg', 2.23606797749979), ('images_test/1383.jpg', 2.23606797749979), ('images_test/1792.jpg', 2.23606797749979), ('images_test/622.jpg', 2.23606797749979), ('images_test/1271.jpg', 2.23606797749979), ('images_test/928.jpg', 2.23606797749979), ('images_test/1116.jpg', 2.23606797749979), ('images_test/1749.jpg', 2.23606797749979), ('images_test/117.jpg', 2.23606797749979), ('images_test/1845.jpg', 2.23606797749979), ('images_test/898.jpg', 2.23606797749979), ('images_test/347.jpg', 2.23606797749979), ('images_test/29.jpg', 2.23606797749979), ('images_test/532.jpg', 2.23606797749979), ('images_test/1957.jpg', 2.23606797749979), ('images_test/570.jpg', 2.23606797749979), ('images_test/1067.jpg', 2.23606797749979), ('images_test/1253.jpg', 2.23606797749979), ('images_test/1872.jpg', 2.23606797749979), ('images_test/411.jpg', 2.23606797749979), ('images_test/1896.jpg', 2.23606797749979), ('images_test/1439.jpg', 2.23606797749979), ('images_test/208.jpg', 2.23606797749979), ('images_test/741.jpg', 2.23606797749979), ('images_test/1777.jpg', 2.23606797749979), ('images_test/1111.jpg', 2.23606797749979), ('images_test/1990.jpg', 2.23606797749979), ('images_test/185.jpg', 2.23606797749979), ('images_test/1243.jpg', 2.23606797749979), ('images_test/49.jpg', 2.23606797749979), ('images_test/919.jpg', 2.23606797749979), ('images_test/23.jpg', 2.23606797749979), ('images_test/507.jpg', 2.23606797749979), ('images_test/161.jpg', 2.23606797749979), ('images_test/1087.jpg', 2.23606797749979), ('images_test/681.jpg', 2.23606797749979), ('images_test/139.jpg', 2.23606797749979), ('images_test/1272.jpg', 2.23606797749979), ('images_test/447.jpg', 2.23606797749979), ('images_test/456.jpg', 2.23606797749979), ('images_test/794.jpg', 2.23606797749979), ('images_test/957.jpg', 2.23606797749979), ('images_test/200.jpg', 2.23606797749979), ('images_test/3.jpg', 2.23606797749979), ('images_test/1351.jpg', 2.23606797749979), ('images_test/1291.jpg', 2.23606797749979), ('images_test/1658.jpg', 2.23606797749979), ('images_test/631.jpg', 2.23606797749979), ('images_test/856.jpg', 2.23606797749979), ('images_test/1384.jpg', 2.23606797749979), ('images_test/191.jpg', 2.23606797749979), ('images_test/588.jpg', 2.23606797749979), ('images_test/1512.jpg', 2.23606797749979), ('images_test/1356.jpg', 2.23606797749979), ('images_test/832.jpg', 2.449489742783178), ('images_test/1381.jpg', 2.449489742783178), ('images_test/1482.jpg', 2.449489742783178), ('images_test/659.jpg', 2.449489742783178), ('images_test/1268.jpg', 2.449489742783178), ('images_test/112.jpg', 2.449489742783178), ('images_test/362.jpg', 2.449489742783178), ('images_test/1643.jpg', 2.449489742783178), ('images_test/1531.jpg', 2.449489742783178), ('images_test/749.jpg', 2.449489742783178), ('images_test/722.jpg', 2.449489742783178), ('images_test/540.jpg', 2.449489742783178), ('images_test/766.jpg', 2.449489742783178), ('images_test/1670.jpg', 2.449489742783178), ('images_test/329.jpg', 2.449489742783178), ('images_test/1266.jpg', 2.449489742783178), ('images_test/297.jpg', 2.449489742783178), ('images_test/1868.jpg', 2.449489742783178), ('images_test/1969.jpg', 2.449489742783178), ('images_test/1803.jpg', 2.449489742783178), ('images_test/230.jpg', 2.449489742783178), ('images_test/450.jpg', 2.449489742783178), ('images_test/1585.jpg', 2.449489742783178), ('images_test/1064.jpg', 2.449489742783178), ('images_test/296.jpg', 2.449489742783178), ('images_test/751.jpg', 2.449489742783178), ('images_test/89.jpg', 2.449489742783178), ('images_test/299.jpg', 2.449489742783178), ('images_test/878.jpg', 2.449489742783178), ('images_test/935.jpg', 2.449489742783178), ('images_test/1663.jpg', 2.449489742783178), ('images_test/1812.jpg', 2.449489742783178), ('images_test/0.jpg', 2.449489742783178), ('images_test/831.jpg', 2.449489742783178), ('images_test/1311.jpg', 2.449489742783178), ('images_test/1049.jpg', 2.449489742783178), ('images_test/580.jpg', 2.449489742783178), ('images_test/312.jpg', 2.449489742783178), ('images_test/1592.jpg', 2.449489742783178), ('images_test/870.jpg', 2.449489742783178), ('images_test/726.jpg', 2.449489742783178), ('images_test/1976.jpg', 2.449489742783178), ('images_test/1704.jpg', 2.449489742783178), ('images_test/765.jpg', 2.449489742783178), ('images_test/847.jpg', 2.449489742783178), ('images_test/1495.jpg', 2.449489742783178), ('images_test/619.jpg', 2.449489742783178), ('images_test/1723.jpg', 2.449489742783178), ('images_test/119.jpg', 2.449489742783178), ('images_test/1939.jpg', 2.449489742783178), ('images_test/553.jpg', 2.449489742783178), ('images_test/1021.jpg', 2.449489742783178), ('images_test/791.jpg', 2.449489742783178), ('images_test/424.jpg', 2.449489742783178), ('images_test/201.jpg', 2.449489742783178), ('images_test/1227.jpg', 2.449489742783178), ('images_test/1197.jpg', 2.449489742783178), ('images_test/663.jpg', 2.449489742783178), ('images_test/1572.jpg', 2.449489742783178), ('images_test/368.jpg', 2.449489742783178), ('images_test/979.jpg', 2.449489742783178), ('images_test/483.jpg', 2.449489742783178), ('images_test/1080.jpg', 2.449489742783178), ('images_test/1938.jpg', 2.449489742783178), ('images_test/1308.jpg', 2.449489742783178), ('images_test/1897.jpg', 2.449489742783178), ('images_test/1779.jpg', 2.449489742783178), ('images_test/829.jpg', 2.449489742783178), ('images_test/1628.jpg', 2.449489742783178), ('images_test/1867.jpg', 2.449489742783178), ('images_test/1806.jpg', 2.449489742783178), ('images_test/211.jpg', 2.449489742783178), ('images_test/227.jpg', 2.449489742783178), ('images_test/1635.jpg', 2.449489742783178), ('images_test/125.jpg', 2.449489742783178), ('images_test/958.jpg', 2.449489742783178), ('images_test/610.jpg', 2.449489742783178), ('images_test/1878.jpg', 2.449489742783178), ('images_test/515.jpg', 2.449489742783178), ('images_test/1447.jpg', 2.449489742783178), ('images_test/251.jpg', 2.449489742783178), ('images_test/808.jpg', 2.449489742783178), ('images_test/918.jpg', 2.449489742783178), ('images_test/144.jpg', 2.449489742783178), ('images_test/1992.jpg', 2.449489742783178), ('images_test/1456.jpg', 2.449489742783178), ('images_test/816.jpg', 2.449489742783178), ('images_test/811.jpg', 2.449489742783178), ('images_test/21.jpg', 2.449489742783178), ('images_test/1588.jpg', 2.449489742783178), ('images_test/1965.jpg', 2.449489742783178), ('images_test/1645.jpg', 2.449489742783178), ('images_test/1788.jpg', 2.449489742783178), ('images_test/1627.jpg', 2.449489742783178), ('images_test/38.jpg', 2.449489742783178), ('images_test/1522.jpg', 2.449489742783178), ('images_test/158.jpg', 2.449489742783178), ('images_test/592.jpg', 2.449489742783178), ('images_test/265.jpg', 2.449489742783178), ('images_test/569.jpg', 2.449489742783178), ('images_test/1339.jpg', 2.449489742783178), ('images_test/552.jpg', 2.449489742783178), ('images_test/253.jpg', 2.449489742783178), ('images_test/1789.jpg', 2.449489742783178), ('images_test/815.jpg', 2.449489742783178), ('images_test/566.jpg', 2.449489742783178), ('images_test/537.jpg', 2.449489742783178), ('images_test/68.jpg', 2.449489742783178), ('images_test/1523.jpg', 2.449489742783178), ('images_test/442.jpg', 2.449489742783178), ('images_test/1228.jpg', 2.449489742783178), ('images_test/401.jpg', 2.449489742783178), ('images_test/529.jpg', 2.449489742783178), ('images_test/876.jpg', 2.449489742783178), ('images_test/1762.jpg', 2.449489742783178), ('images_test/160.jpg', 2.449489742783178), ('images_test/461.jpg', 2.449489742783178), ('images_test/238.jpg', 2.449489742783178), ('images_test/1822.jpg', 2.6457513110645907), ('images_test/1462.jpg', 2.6457513110645907), ('images_test/366.jpg', 2.6457513110645907), ('images_test/1184.jpg', 2.6457513110645907), ('images_test/1281.jpg', 2.6457513110645907), ('images_test/1742.jpg', 2.6457513110645907), ('images_test/1141.jpg', 2.6457513110645907), ('images_test/1647.jpg', 2.6457513110645907), ('images_test/348.jpg', 2.6457513110645907), ('images_test/310.jpg', 2.6457513110645907), ('images_test/444.jpg', 2.6457513110645907), ('images_test/1649.jpg', 2.6457513110645907), ('images_test/525.jpg', 2.6457513110645907), ('images_test/1561.jpg', 2.6457513110645907), ('images_test/1332.jpg', 2.6457513110645907), ('images_test/974.jpg', 2.6457513110645907), ('images_test/480.jpg', 2.6457513110645907), ('images_test/916.jpg', 2.6457513110645907), ('images_test/11.jpg', 2.6457513110645907), ('images_test/387.jpg', 2.6457513110645907), ('images_test/510.jpg', 2.6457513110645907), ('images_test/193.jpg', 2.6457513110645907), ('images_test/39.jpg', 2.6457513110645907), ('images_test/1090.jpg', 2.6457513110645907), ('images_test/1881.jpg', 2.6457513110645907), ('images_test/927.jpg', 2.6457513110645907), ('images_test/868.jpg', 2.6457513110645907), ('images_test/1519.jpg', 2.6457513110645907), ('images_test/428.jpg', 2.6457513110645907), ('images_test/1172.jpg', 2.6457513110645907), ('images_test/1773.jpg', 2.6457513110645907), ('images_test/873.jpg', 2.6457513110645907), ('images_test/107.jpg', 2.6457513110645907), ('images_test/365.jpg', 2.6457513110645907), ('images_test/1737.jpg', 2.6457513110645907), ('images_test/1999.jpg', 2.6457513110645907), ('images_test/1099.jpg', 2.6457513110645907), ('images_test/1733.jpg', 2.6457513110645907), ('images_test/1284.jpg', 2.6457513110645907), ('images_test/754.jpg', 2.6457513110645907), ('images_test/889.jpg', 2.6457513110645907), ('images_test/1800.jpg', 2.6457513110645907), ('images_test/1839.jpg', 2.6457513110645907), ('images_test/1411.jpg', 2.6457513110645907), ('images_test/1055.jpg', 2.6457513110645907), ('images_test/130.jpg', 2.6457513110645907), ('images_test/1219.jpg', 2.6457513110645907), ('images_test/34.jpg', 2.6457513110645907), ('images_test/1114.jpg', 2.6457513110645907), ('images_test/178.jpg', 2.6457513110645907), ('images_test/820.jpg', 2.6457513110645907), ('images_test/1876.jpg', 2.6457513110645907), ('images_test/1570.jpg', 2.6457513110645907), ('images_test/863.jpg', 2.6457513110645907), ('images_test/1836.jpg', 2.6457513110645907), ('images_test/1809.jpg', 2.6457513110645907), ('images_test/1631.jpg', 2.6457513110645907), ('images_test/1615.jpg', 2.6457513110645907), ('images_test/1102.jpg', 2.6457513110645907), ('images_test/1170.jpg', 2.6457513110645907), ('images_test/671.jpg', 2.6457513110645907), ('images_test/1120.jpg', 2.6457513110645907), ('images_test/1259.jpg', 2.6457513110645907), ('images_test/1963.jpg', 2.6457513110645907), ('images_test/1119.jpg', 2.6457513110645907), ('images_test/1935.jpg', 2.6457513110645907), ('images_test/505.jpg', 2.6457513110645907), ('images_test/782.jpg', 2.6457513110645907), ('images_test/965.jpg', 2.6457513110645907), ('images_test/163.jpg', 2.6457513110645907), ('images_test/1934.jpg', 2.6457513110645907), ('images_test/839.jpg', 2.6457513110645907), ('images_test/959.jpg', 2.6457513110645907), ('images_test/1707.jpg', 2.6457513110645907), ('images_test/917.jpg', 2.6457513110645907), ('images_test/225.jpg', 2.6457513110645907), ('images_test/1564.jpg', 2.6457513110645907), ('images_test/587.jpg', 2.6457513110645907), ('images_test/1673.jpg', 2.6457513110645907), ('images_test/386.jpg', 2.6457513110645907), ('images_test/219.jpg', 2.6457513110645907), ('images_test/106.jpg', 2.6457513110645907), ('images_test/1565.jpg', 2.6457513110645907), ('images_test/1959.jpg', 2.6457513110645907), ('images_test/608.jpg', 2.6457513110645907), ('images_test/1494.jpg', 2.6457513110645907), ('images_test/76.jpg', 2.6457513110645907), ('images_test/1958.jpg', 2.6457513110645907), ('images_test/1516.jpg', 2.6457513110645907), ('images_test/1546.jpg', 2.6457513110645907), ('images_test/1221.jpg', 2.6457513110645907), ('images_test/1262.jpg', 2.6457513110645907), ('images_test/1597.jpg', 2.8284271247461903), ('images_test/1941.jpg', 2.8284271247461903), ('images_test/473.jpg', 2.8284271247461903), ('images_test/490.jpg', 2.8284271247461903), ('images_test/596.jpg', 2.8284271247461903), ('images_test/1735.jpg', 2.8284271247461903), ('images_test/1029.jpg', 2.8284271247461903), ('images_test/1034.jpg', 2.8284271247461903), ('images_test/1408.jpg', 2.8284271247461903), ('images_test/1175.jpg', 2.8284271247461903), ('images_test/1979.jpg', 2.8284271247461903), ('images_test/1146.jpg', 2.8284271247461903), ('images_test/702.jpg', 2.8284271247461903), ('images_test/850.jpg', 2.8284271247461903), ('images_test/1985.jpg', 2.8284271247461903), ('images_test/520.jpg', 2.8284271247461903), ('images_test/1113.jpg', 2.8284271247461903), ('images_test/1781.jpg', 2.8284271247461903), ('images_test/855.jpg', 2.8284271247461903), ('images_test/341.jpg', 2.8284271247461903), ('images_test/108.jpg', 2.8284271247461903), ('images_test/1550.jpg', 2.8284271247461903), ('images_test/1293.jpg', 2.8284271247461903), ('images_test/1353.jpg', 2.8284271247461903), ('images_test/1075.jpg', 2.8284271247461903), ('images_test/1419.jpg', 2.8284271247461903), ('images_test/1912.jpg', 2.8284271247461903), ('images_test/1750.jpg', 2.8284271247461903), ('images_test/1061.jpg', 2.8284271247461903), ('images_test/877.jpg', 2.8284271247461903), ('images_test/1003.jpg', 3.0), ('images_test/179.jpg', 3.0), ('images_test/232.jpg', 3.0), ('images_test/1883.jpg', 3.0), ('images_test/564.jpg', 3.0), ('images_test/635.jpg', 3.0), ('images_test/282.jpg', 3.0), ('images_test/1015.jpg', 3.0), ('images_test/1914.jpg', 3.0), ('images_test/1751.jpg', 3.0), ('images_test/1770.jpg', 3.0), ('images_test/888.jpg', 3.0), ('images_test/789.jpg', 3.0), ('images_test/252.jpg', 3.0), ('images_test/1828.jpg', 3.0), ('images_test/638.jpg', 3.0), ('images_test/1399.jpg', 3.0), ('images_test/1142.jpg', 3.0), ('images_test/209.jpg', 3.0), ('images_test/360.jpg', 3.0), ('images_test/1068.jpg', 3.0), ('images_test/242.jpg', 3.0), ('images_test/533.jpg', 3.0), ('images_test/1174.jpg', 3.0), ('images_test/858.jpg', 3.1622776601683795), ('images_test/1548.jpg', 3.1622776601683795), ('images_test/1201.jpg', 3.1622776601683795), ('images_test/1559.jpg', 3.1622776601683795), ('images_test/313.jpg', 3.1622776601683795), ('images_test/100.jpg', 3.1622776601683795), ('images_test/1317.jpg', 3.1622776601683795), ('images_test/1316.jpg', 3.1622776601683795), ('images_test/102.jpg', 3.1622776601683795), ('images_test/27.jpg', 3.1622776601683795), ('images_test/812.jpg', 3.1622776601683795), ('images_test/40.jpg', 3.3166247903554), ('images_test/86.jpg', 3.3166247903554), ('images_test/524.jpg', 3.3166247903554), ('images_test/1871.jpg', 3.3166247903554), ('images_test/1692.jpg', 3.3166247903554), ('images_test/1824.jpg', 3.3166247903554), ('images_test/1843.jpg', 3.3166247903554), ('images_test/204.jpg', 3.3166247903554), ('images_test/462.jpg', 3.4641016151377544), ('images_test/1314.jpg', 3.4641016151377544), ('images_test/1981.jpg', 3.4641016151377544), ('images_test/1474.jpg', 3.605551275463989)]\n"
     ]
    }
   ],
   "source": [
    "print(predictions[1])"
   ]
  },
  {
   "cell_type": "code",
   "execution_count": 20,
   "metadata": {},
   "outputs": [],
   "source": [
    "train_to_test_dict = {}\n",
    "for idx, image_file in enumerate(df_train['image_file'].tolist()):\n",
    "    train_to_test_dict[image_file] = predictions[idx]"
   ]
  },
  {
   "cell_type": "code",
   "execution_count": null,
   "metadata": {},
   "outputs": [],
   "source": []
  }
 ],
 "metadata": {
  "kernelspec": {
   "display_name": "Python 3",
   "language": "python",
   "name": "python3"
  },
  "language_info": {
   "codemirror_mode": {
    "name": "ipython",
    "version": 3
   },
   "file_extension": ".py",
   "mimetype": "text/x-python",
   "name": "python",
   "nbconvert_exporter": "python",
   "pygments_lexer": "ipython3",
   "version": "3.6.5"
  }
 },
 "nbformat": 4,
 "nbformat_minor": 2
}
