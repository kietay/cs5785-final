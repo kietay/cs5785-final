{
 "cells": [
  {
   "cell_type": "code",
   "execution_count": 167,
   "metadata": {},
   "outputs": [
    {
     "name": "stdout",
     "output_type": "stream",
     "text": [
      "\u001b[34mdescriptions_test\u001b[m\u001b[m     \u001b[34mfeatures_train\u001b[m\u001b[m        sample_submission.csv\r\n",
      "\u001b[34mdescriptions_train\u001b[m\u001b[m    \u001b[34mimages_test\u001b[m\u001b[m           \u001b[34mtags_test\u001b[m\u001b[m\r\n",
      "\u001b[34mfeatures_test\u001b[m\u001b[m         \u001b[34mimages_train\u001b[m\u001b[m          \u001b[34mtags_train\u001b[m\u001b[m\r\n"
     ]
    }
   ],
   "source": [
    "!ls data"
   ]
  },
  {
   "cell_type": "code",
   "execution_count": 176,
   "metadata": {},
   "outputs": [],
   "source": [
    "import numpy as np\n",
    "import pandas as pd\n",
    "\n",
    "import sklearn as sk\n",
    "from sklearn.model_selection import train_test_split\n",
    "from sklearn.model_selection import cross_val_score as cv\n",
    "from sklearn.naive_bayes import BernoulliNB\n",
    "from sklearn.preprocessing import MultiLabelBinarizer\n",
    "\n",
    "import gensim\n",
    "\n",
    "from utils.data_parsers import load_dataframe as ld"
   ]
  },
  {
   "cell_type": "code",
   "execution_count": 177,
   "metadata": {},
   "outputs": [
    {
     "ename": "TypeError",
     "evalue": "list indices must be integers or slices, not str",
     "output_type": "error",
     "traceback": [
      "\u001b[0;31m---------------------------------------------------------------------------\u001b[0m",
      "\u001b[0;31mTypeError\u001b[0m                                 Traceback (most recent call last)",
      "\u001b[0;32m<ipython-input-177-4d56680d778b>\u001b[0m in \u001b[0;36m<module>\u001b[0;34m\u001b[0m\n\u001b[0;32m----> 1\u001b[0;31m \u001b[0mdff\u001b[0m \u001b[0;34m=\u001b[0m \u001b[0mld\u001b[0m\u001b[0;34m(\u001b[0m\u001b[0;34m)\u001b[0m\u001b[0;34m\u001b[0m\u001b[0;34m\u001b[0m\u001b[0m\n\u001b[0m",
      "\u001b[0;32m~/projects/cs5785-final/utils/data_parsers.py\u001b[0m in \u001b[0;36mload_dataframe\u001b[0;34m(train_or_test)\u001b[0m\n\u001b[1;32m     16\u001b[0m     \u001b[0mdf\u001b[0m \u001b[0;34m=\u001b[0m \u001b[0mpd\u001b[0m\u001b[0;34m.\u001b[0m\u001b[0mDataFrame\u001b[0m\u001b[0;34m(\u001b[0m\u001b[0mget_resnet_features\u001b[0m\u001b[0;34m(\u001b[0m\u001b[0mtrain_or_test\u001b[0m\u001b[0;34m=\u001b[0m\u001b[0mtrain_or_test\u001b[0m\u001b[0;34m)\u001b[0m\u001b[0;34m)\u001b[0m\u001b[0;34m\u001b[0m\u001b[0;34m\u001b[0m\u001b[0m\n\u001b[1;32m     17\u001b[0m \u001b[0;34m\u001b[0m\u001b[0m\n\u001b[0;32m---> 18\u001b[0;31m     \u001b[0mprint\u001b[0m\u001b[0;34m(\u001b[0m\u001b[0mdf\u001b[0m\u001b[0;34m.\u001b[0m\u001b[0mhead\u001b[0m\u001b[0;34m(\u001b[0m\u001b[0;34m)\u001b[0m\u001b[0;34m)\u001b[0m\u001b[0;34m\u001b[0m\u001b[0;34m\u001b[0m\u001b[0m\n\u001b[0m\u001b[1;32m     19\u001b[0m \u001b[0;34m\u001b[0m\u001b[0m\n\u001b[1;32m     20\u001b[0m     \u001b[0mdf\u001b[0m\u001b[0;34m[\u001b[0m\u001b[0;34m'descriptions'\u001b[0m\u001b[0;34m]\u001b[0m \u001b[0;34m=\u001b[0m \u001b[0mget_descriptions\u001b[0m\u001b[0;34m(\u001b[0m\u001b[0mdf\u001b[0m\u001b[0;34m,\u001b[0m \u001b[0mtrain_or_test\u001b[0m\u001b[0;34m=\u001b[0m\u001b[0mtrain_or_test\u001b[0m\u001b[0;34m)\u001b[0m\u001b[0;34m\u001b[0m\u001b[0;34m\u001b[0m\u001b[0m\n",
      "\u001b[0;32m~/projects/cs5785-final/utils/data_parsers.py\u001b[0m in \u001b[0;36mget_descriptions\u001b[0;34m(df, train_or_test, imfile_column)\u001b[0m\n\u001b[1;32m     65\u001b[0m     \u001b[0;32mreturn\u001b[0m \u001b[0mdescriptions\u001b[0m\u001b[0;34m\u001b[0m\u001b[0;34m\u001b[0m\u001b[0m\n\u001b[1;32m     66\u001b[0m \u001b[0;34m\u001b[0m\u001b[0m\n\u001b[0;32m---> 67\u001b[0;31m \u001b[0;32mdef\u001b[0m \u001b[0mget_descriptions\u001b[0m\u001b[0;34m(\u001b[0m\u001b[0mdf\u001b[0m\u001b[0;34m,\u001b[0m \u001b[0mtrain_or_test\u001b[0m\u001b[0;34m=\u001b[0m\u001b[0;34m'train'\u001b[0m\u001b[0;34m,\u001b[0m \u001b[0mimfile_column\u001b[0m\u001b[0;34m=\u001b[0m\u001b[0;34m'image_file'\u001b[0m\u001b[0;34m)\u001b[0m\u001b[0;34m:\u001b[0m\u001b[0;34m\u001b[0m\u001b[0;34m\u001b[0m\u001b[0m\n\u001b[0m\u001b[1;32m     68\u001b[0m     \u001b[0;34m\"\"\"Descriptions are independant lists of line by line description\"\"\"\u001b[0m\u001b[0;34m\u001b[0m\u001b[0;34m\u001b[0m\u001b[0m\n\u001b[1;32m     69\u001b[0m     return df[imfile_column].apply(\n",
      "\u001b[0;31mTypeError\u001b[0m: list indices must be integers or slices, not str"
     ]
    }
   ],
   "source": [
    "dff = ld()"
   ]
  },
  {
   "cell_type": "code",
   "execution_count": null,
   "metadata": {},
   "outputs": [],
   "source": [
    "dff.head()"
   ]
  },
  {
   "cell_type": "code",
   "execution_count": 107,
   "metadata": {},
   "outputs": [],
   "source": [
    "def extract_tags_to_list(fp):\n",
    "    \n",
    "    with open(fp) as f:\n",
    "        tags = f.readlines()\n",
    "\n",
    "    return [tag.strip() for tag in tags]\n",
    "\n",
    "\n",
    "def get_tags(df, train_or_test='train', imfile_column='image_file'):\n",
    "    \"\"\"Returns pandas series of image tags\"\"\"\n",
    "    \n",
    "    return df[imfile_column].apply(\n",
    "        lambda x: extract_tags_to_list(\n",
    "            f'data/tags_{train_or_test}/' + x.split('/')[-1].replace('jpg', 'txt')\n",
    "        )\n",
    "    )\n",
    "\n",
    "\n",
    "\n",
    "def extract_tags_to_list_split(fp):\n",
    "    \n",
    "    with open(fp) as f:\n",
    "        tags = f.readlines()\n",
    "        \n",
    "    tag_pairs = [tag.strip().split(':') for tag in tags]\n",
    "    \n",
    "    higher_cat = [x[0] for x in tag_pairs]\n",
    "    lower_cat = [x[0] for x in tag_pairs]\n",
    "\n",
    "    return higher_cat, lower_cat\n",
    "\n",
    "\n",
    "def get_tags_split(df, train_or_test='train', imfile_column='image_file'):\n",
    "    \"\"\"Returns two pandas series of image tags, higher and lower category\"\"\"\n",
    "    \n",
    "    return zip(*df[imfile_column].map(\n",
    "        lambda x: extract_tags_to_list_split(\n",
    "            f'data/tags_{train_or_test}/' + x.split('/')[-1].replace('jpg', 'txt')\n",
    "        )\n",
    "    ))"
   ]
  },
  {
   "cell_type": "code",
   "execution_count": 114,
   "metadata": {},
   "outputs": [],
   "source": [
    "with open('data/descriptions_train/0.txt') as f:\n",
    "    x = f.readlines()"
   ]
  },
  {
   "cell_type": "code",
   "execution_count": 162,
   "metadata": {},
   "outputs": [],
   "source": [
    "def open_description(fp):\n",
    "    with open(fp) as f:\n",
    "        descriptions = [x.strip() for x in f.readlines()]\n",
    "        \n",
    "    return descriptions\n",
    "\n",
    "def get_descriptions(df, train_or_test='train', imfile_column='image_file'):\n",
    "    \"\"\"Descriptions are independant? lists of line by line description\"\"\"\n",
    "    return df[imfile_column].apply(\n",
    "        lambda x: open_description(f'data/descriptions_{train_or_test}/' + x.split('/')[-1].replace('jpg', 'txt'))\n",
    "    )"
   ]
  },
  {
   "cell_type": "code",
   "execution_count": 164,
   "metadata": {},
   "outputs": [],
   "source": [
    "descs = get_descriptions(df)"
   ]
  },
  {
   "cell_type": "code",
   "execution_count": 73,
   "metadata": {},
   "outputs": [],
   "source": [
    "def get_resnet_features(train_or_test='train'):\n",
    "    \"\"\"Gets image_id -> 1000 dim feature vector\"\"\"\n",
    "    \n",
    "    fp = f'data/features_{train_or_test}/features_resnet1000_{train_or_test}.csv'\n",
    "    lines = []\n",
    "    \n",
    "    with open(fp) as f:\n",
    "        line = f.readline()\n",
    "        while line:\n",
    "            line = line.split(',')\n",
    "            lines.append({\"image_file\": line[0], \"resnet_vector\": np.array([np.double(x.strip()) for x in line[1:]])})\n",
    "            line = f.readline()\n",
    "            \n",
    "    return lines\n",
    "\n",
    "\n",
    "def get_resnet_intermediate_features(train_or_test='train'):\n",
    "    \"\"\"Gets image_id -> 2048 dim intermediate feature vector\"\"\"\n",
    "    \n",
    "    fp = f'data/features_{train_or_test}/features_resnet1000intermediate_{train_or_test}.csv'\n",
    "    lines = []\n",
    "\n",
    "    with open(fp) as f:\n",
    "        line = f.readline()\n",
    "        while line:\n",
    "            line = line.split(',')\n",
    "            lines.append({\"image_file\": line[0], \"resnet_vector\": np.array([np.double(x.strip()) for x in line[1:]])})\n",
    "            line = f.readline()\n",
    "            \n",
    "    return lines"
   ]
  },
  {
   "cell_type": "code",
   "execution_count": 74,
   "metadata": {},
   "outputs": [],
   "source": [
    "features = get_resnet_features()\n",
    "features_int = get_resnet_intermediate_features()"
   ]
  },
  {
   "cell_type": "code",
   "execution_count": 75,
   "metadata": {},
   "outputs": [],
   "source": [
    "df = pd.DataFrame(features)"
   ]
  },
  {
   "cell_type": "code",
   "execution_count": 100,
   "metadata": {},
   "outputs": [
    {
     "data": {
      "text/plain": [
       "0       [vehicle:train, person:person, indoor:clock, a...\n",
       "1                    [person:person, sports:baseball bat]\n",
       "2       [appliance:refrigerator, appliance:oven, appli...\n",
       "3                              [animal:dog, animal:sheep]\n",
       "4                                           [animal:bear]\n",
       "                              ...                        \n",
       "9995                      [sports:frisbee, person:person]\n",
       "9996    [vehicle:car, vehicle:bus, person:person, acce...\n",
       "9997                         [person:person, sports:skis]\n",
       "9998                       [food:broccoli, food:sandwich]\n",
       "9999         [person:person, animal:giraffe, animal:bird]\n",
       "Name: image_file, Length: 10000, dtype: object"
      ]
     },
     "execution_count": 100,
     "metadata": {},
     "output_type": "execute_result"
    }
   ],
   "source": [
    "get_tags(df)"
   ]
  },
  {
   "cell_type": "code",
   "execution_count": 134,
   "metadata": {},
   "outputs": [],
   "source": [
    "model = gensim.models.KeyedVectors.load_word2vec_format('./models/GoogleNews-vectors-negative300.bin', binary=True)"
   ]
  },
  {
   "cell_type": "code",
   "execution_count": null,
   "metadata": {},
   "outputs": [],
   "source": [
    "def get_word2vec(df, model, desc_column='descriptions'):\n",
    "    vecs = df[desc_column].apply(\n",
    "        lambda x: model.get_vector(x)\n",
    "    )"
   ]
  },
  {
   "cell_type": "code",
   "execution_count": 165,
   "metadata": {},
   "outputs": [],
   "source": [
    "desc_join = descs.apply(lambda x: \" \".join(x))"
   ]
  },
  {
   "cell_type": "code",
   "execution_count": 166,
   "metadata": {},
   "outputs": [
    {
     "data": {
      "text/plain": [
       "0       a red train is docked at the station Several p...\n",
       "1       A man with blue jersey holding a baseball bat....\n",
       "2       A kitchen decorated in red and white with acce...\n",
       "3       A black and white dog chasing sheep in a field...\n",
       "4       Two bears with their mouths open in the water....\n",
       "                              ...                        \n",
       "9995    an image  of people outside playing frisbee a ...\n",
       "9996    A red double decker bus driving down a city st...\n",
       "9997    A man riding skis down a snow covered slope. a...\n",
       "9998    a close up of a plate with broccoli a red plat...\n",
       "9999    A large giraffe standing next to a man pushing...\n",
       "Name: image_file, Length: 10000, dtype: object"
      ]
     },
     "execution_count": 166,
     "metadata": {},
     "output_type": "execute_result"
    }
   ],
   "source": [
    "desc_join"
   ]
  },
  {
   "cell_type": "markdown",
   "metadata": {},
   "source": [
    "### Applying naive bayes to BOW representation of description"
   ]
  },
  {
   "cell_type": "code",
   "execution_count": 169,
   "metadata": {},
   "outputs": [
    {
     "data": {
      "text/html": [
       "<div>\n",
       "<style scoped>\n",
       "    .dataframe tbody tr th:only-of-type {\n",
       "        vertical-align: middle;\n",
       "    }\n",
       "\n",
       "    .dataframe tbody tr th {\n",
       "        vertical-align: top;\n",
       "    }\n",
       "\n",
       "    .dataframe thead th {\n",
       "        text-align: right;\n",
       "    }\n",
       "</style>\n",
       "<table border=\"1\" class=\"dataframe\">\n",
       "  <thead>\n",
       "    <tr style=\"text-align: right;\">\n",
       "      <th></th>\n",
       "      <th>image_file</th>\n",
       "      <th>resnet_vector</th>\n",
       "      <th></th>\n",
       "      <th>!</th>\n",
       "      <th>\"</th>\n",
       "      <th>#</th>\n",
       "      <th>&amp;</th>\n",
       "      <th>'</th>\n",
       "      <th>(</th>\n",
       "      <th>)</th>\n",
       "      <th>...</th>\n",
       "      <th>q</th>\n",
       "      <th>r</th>\n",
       "      <th>s</th>\n",
       "      <th>t</th>\n",
       "      <th>u</th>\n",
       "      <th>v</th>\n",
       "      <th>w</th>\n",
       "      <th>x</th>\n",
       "      <th>y</th>\n",
       "      <th>z</th>\n",
       "    </tr>\n",
       "  </thead>\n",
       "  <tbody>\n",
       "    <tr>\n",
       "      <td>0</td>\n",
       "      <td>images_train/5373.jpg</td>\n",
       "      <td>[-0.8994496464729309, -0.9304700493812561, -2....</td>\n",
       "      <td>1</td>\n",
       "      <td>0</td>\n",
       "      <td>0</td>\n",
       "      <td>0</td>\n",
       "      <td>0</td>\n",
       "      <td>0</td>\n",
       "      <td>0</td>\n",
       "      <td>0</td>\n",
       "      <td>...</td>\n",
       "      <td>0</td>\n",
       "      <td>1</td>\n",
       "      <td>1</td>\n",
       "      <td>1</td>\n",
       "      <td>0</td>\n",
       "      <td>1</td>\n",
       "      <td>1</td>\n",
       "      <td>0</td>\n",
       "      <td>1</td>\n",
       "      <td>0</td>\n",
       "    </tr>\n",
       "    <tr>\n",
       "      <td>1</td>\n",
       "      <td>images_train/984.jpg</td>\n",
       "      <td>[-1.3469539880752563, -3.1194605827331543, -0....</td>\n",
       "      <td>1</td>\n",
       "      <td>0</td>\n",
       "      <td>0</td>\n",
       "      <td>0</td>\n",
       "      <td>0</td>\n",
       "      <td>0</td>\n",
       "      <td>0</td>\n",
       "      <td>0</td>\n",
       "      <td>...</td>\n",
       "      <td>0</td>\n",
       "      <td>1</td>\n",
       "      <td>1</td>\n",
       "      <td>1</td>\n",
       "      <td>1</td>\n",
       "      <td>0</td>\n",
       "      <td>1</td>\n",
       "      <td>1</td>\n",
       "      <td>1</td>\n",
       "      <td>0</td>\n",
       "    </tr>\n",
       "    <tr>\n",
       "      <td>2</td>\n",
       "      <td>images_train/7127.jpg</td>\n",
       "      <td>[-3.44549822807312, -1.5245732069015503, -1.00...</td>\n",
       "      <td>1</td>\n",
       "      <td>0</td>\n",
       "      <td>0</td>\n",
       "      <td>0</td>\n",
       "      <td>0</td>\n",
       "      <td>0</td>\n",
       "      <td>0</td>\n",
       "      <td>0</td>\n",
       "      <td>...</td>\n",
       "      <td>0</td>\n",
       "      <td>1</td>\n",
       "      <td>1</td>\n",
       "      <td>1</td>\n",
       "      <td>1</td>\n",
       "      <td>1</td>\n",
       "      <td>1</td>\n",
       "      <td>0</td>\n",
       "      <td>1</td>\n",
       "      <td>0</td>\n",
       "    </tr>\n",
       "    <tr>\n",
       "      <td>3</td>\n",
       "      <td>images_train/9609.jpg</td>\n",
       "      <td>[1.1146496534347534, -2.1671018600463867, 0.09...</td>\n",
       "      <td>1</td>\n",
       "      <td>0</td>\n",
       "      <td>0</td>\n",
       "      <td>0</td>\n",
       "      <td>0</td>\n",
       "      <td>0</td>\n",
       "      <td>0</td>\n",
       "      <td>0</td>\n",
       "      <td>...</td>\n",
       "      <td>0</td>\n",
       "      <td>1</td>\n",
       "      <td>1</td>\n",
       "      <td>1</td>\n",
       "      <td>1</td>\n",
       "      <td>0</td>\n",
       "      <td>1</td>\n",
       "      <td>0</td>\n",
       "      <td>1</td>\n",
       "      <td>0</td>\n",
       "    </tr>\n",
       "    <tr>\n",
       "      <td>4</td>\n",
       "      <td>images_train/5293.jpg</td>\n",
       "      <td>[1.6026496887207031, -1.5058174133300781, 3.02...</td>\n",
       "      <td>1</td>\n",
       "      <td>0</td>\n",
       "      <td>0</td>\n",
       "      <td>0</td>\n",
       "      <td>0</td>\n",
       "      <td>0</td>\n",
       "      <td>0</td>\n",
       "      <td>0</td>\n",
       "      <td>...</td>\n",
       "      <td>0</td>\n",
       "      <td>1</td>\n",
       "      <td>1</td>\n",
       "      <td>1</td>\n",
       "      <td>1</td>\n",
       "      <td>0</td>\n",
       "      <td>1</td>\n",
       "      <td>0</td>\n",
       "      <td>1</td>\n",
       "      <td>0</td>\n",
       "    </tr>\n",
       "  </tbody>\n",
       "</table>\n",
       "<p>5 rows × 79 columns</p>\n",
       "</div>"
      ],
      "text/plain": [
       "              image_file                                      resnet_vector  \\\n",
       "0  images_train/5373.jpg  [-0.8994496464729309, -0.9304700493812561, -2....   \n",
       "1   images_train/984.jpg  [-1.3469539880752563, -3.1194605827331543, -0....   \n",
       "2  images_train/7127.jpg  [-3.44549822807312, -1.5245732069015503, -1.00...   \n",
       "3  images_train/9609.jpg  [1.1146496534347534, -2.1671018600463867, 0.09...   \n",
       "4  images_train/5293.jpg  [1.6026496887207031, -1.5058174133300781, 3.02...   \n",
       "\n",
       "      !  \"  #  &  '  (  )  ...  q  r  s  t  u  v  w  x  y  z  \n",
       "0  1  0  0  0  0  0  0  0  ...  0  1  1  1  0  1  1  0  1  0  \n",
       "1  1  0  0  0  0  0  0  0  ...  0  1  1  1  1  0  1  1  1  0  \n",
       "2  1  0  0  0  0  0  0  0  ...  0  1  1  1  1  1  1  0  1  0  \n",
       "3  1  0  0  0  0  0  0  0  ...  0  1  1  1  1  0  1  0  1  0  \n",
       "4  1  0  0  0  0  0  0  0  ...  0  1  1  1  1  0  1  0  1  0  \n",
       "\n",
       "[5 rows x 79 columns]"
      ]
     },
     "execution_count": 169,
     "metadata": {},
     "output_type": "execute_result"
    }
   ],
   "source": [
    "mlb = MultiLabelBinarizer()\n",
    "one_hot_encodings = mlb.fit_transform(desc_join)\n",
    "one_hot_columns = mlb.classes_\n",
    "\n",
    "train_one_hot = df.join(\n",
    "    pd.DataFrame(\n",
    "        one_hot_encodings,\n",
    "        columns=one_hot_columns,\n",
    "        index=df.index\n",
    "    ))\n",
    "\n",
    "train_one_hot = train_one_hot\n",
    "\n",
    "train_one_hot.head()"
   ]
  },
  {
   "cell_type": "code",
   "execution_count": null,
   "metadata": {},
   "outputs": [],
   "source": []
  }
 ],
 "metadata": {
  "kernelspec": {
   "display_name": "Python 3",
   "language": "python",
   "name": "python3"
  },
  "language_info": {
   "codemirror_mode": {
    "name": "ipython",
    "version": 3
   },
   "file_extension": ".py",
   "mimetype": "text/x-python",
   "name": "python",
   "nbconvert_exporter": "python",
   "pygments_lexer": "ipython3",
   "version": "3.7.5"
  }
 },
 "nbformat": 4,
 "nbformat_minor": 2
}
