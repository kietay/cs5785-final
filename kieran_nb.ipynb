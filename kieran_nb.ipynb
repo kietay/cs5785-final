{
 "cells": [
  {
   "cell_type": "code",
   "execution_count": 167,
   "metadata": {},
   "outputs": [
    {
     "name": "stdout",
     "output_type": "stream",
     "text": [
      "\u001b[34mdescriptions_test\u001b[m\u001b[m     \u001b[34mfeatures_train\u001b[m\u001b[m        sample_submission.csv\r\n",
      "\u001b[34mdescriptions_train\u001b[m\u001b[m    \u001b[34mimages_test\u001b[m\u001b[m           \u001b[34mtags_test\u001b[m\u001b[m\r\n",
      "\u001b[34mfeatures_test\u001b[m\u001b[m         \u001b[34mimages_train\u001b[m\u001b[m          \u001b[34mtags_train\u001b[m\u001b[m\r\n"
     ]
    }
   ],
   "source": [
    "!ls data"
   ]
  },
  {
   "cell_type": "code",
   "execution_count": 58,
   "metadata": {},
   "outputs": [],
   "source": [
    "import numpy as np\n",
    "import pandas as pd\n",
    "\n",
    "import sklearn as sk\n",
    "from sklearn.model_selection import train_test_split\n",
    "from sklearn.model_selection import cross_val_score as cv\n",
    "from sklearn.naive_bayes import BernoulliNB\n",
    "from sklearn.preprocessing import MultiLabelBinarizer\n",
    "from sklearn.linear_model import LogisticRegression as Logit\n",
    "\n",
    "import gensim\n",
    "from gensim.models.doc2vec import Doc2Vec, TaggedDocument\n",
    "\n",
    "import utils.data_parsers as dp\n",
    "\n",
    "import random"
   ]
  },
  {
   "cell_type": "code",
   "execution_count": 2,
   "metadata": {},
   "outputs": [],
   "source": [
    "df = dp.load_dataframe()"
   ]
  },
  {
   "cell_type": "code",
   "execution_count": 13,
   "metadata": {},
   "outputs": [],
   "source": [
    "df['desc_joined'] = df['descriptions'].apply(lambda x: \" \".join(x).split(\" \"))\n",
    "df['desc_joined'] = df['desc_joined'].apply(lambda x: [word for word in x if word not in df.columns])"
   ]
  },
  {
   "cell_type": "code",
   "execution_count": 134,
   "metadata": {},
   "outputs": [],
   "source": [
    "model = gensim.models.KeyedVectors.load_word2vec_format('./models/GoogleNews-vectors-negative300.bin', binary=True)"
   ]
  },
  {
   "cell_type": "code",
   "execution_count": null,
   "metadata": {},
   "outputs": [],
   "source": [
    "def get_word2vec(df, model, desc_column='descriptions'):\n",
    "    vecs = df[desc_column].apply(\n",
    "        lambda x: model.get_vector(x)\n",
    "    )"
   ]
  },
  {
   "cell_type": "markdown",
   "metadata": {},
   "source": [
    "### Applying naive bayes to BOW representation of description"
   ]
  },
  {
   "cell_type": "code",
   "execution_count": 14,
   "metadata": {},
   "outputs": [
    {
     "data": {
      "text/html": [
       "<div>\n",
       "<style scoped>\n",
       "    .dataframe tbody tr th:only-of-type {\n",
       "        vertical-align: middle;\n",
       "    }\n",
       "\n",
       "    .dataframe tbody tr th {\n",
       "        vertical-align: top;\n",
       "    }\n",
       "\n",
       "    .dataframe thead th {\n",
       "        text-align: right;\n",
       "    }\n",
       "</style>\n",
       "<table border=\"1\" class=\"dataframe\">\n",
       "  <thead>\n",
       "    <tr style=\"text-align: right;\">\n",
       "      <th></th>\n",
       "      <th>image_file</th>\n",
       "      <th>resnet_vector</th>\n",
       "      <th>descriptions</th>\n",
       "      <th>tags</th>\n",
       "      <th>desc_joined</th>\n",
       "      <th></th>\n",
       "      <th>\"</th>\n",
       "      <th>\"1802\".</th>\n",
       "      <th>\"3-way\"</th>\n",
       "      <th>\"30</th>\n",
       "      <th>...</th>\n",
       "      <th>zoo</th>\n",
       "      <th>zoo,</th>\n",
       "      <th>zoo.</th>\n",
       "      <th>zoo..</th>\n",
       "      <th>zookeeper</th>\n",
       "      <th>zoom</th>\n",
       "      <th>zucchini</th>\n",
       "      <th>zucchini,</th>\n",
       "      <th>zucchini.</th>\n",
       "      <th>zucchinis,</th>\n",
       "    </tr>\n",
       "  </thead>\n",
       "  <tbody>\n",
       "    <tr>\n",
       "      <td>0</td>\n",
       "      <td>images_train/5373.jpg</td>\n",
       "      <td>[-0.8994496464729309, -0.9304700493812561, -2....</td>\n",
       "      <td>[a red train is docked at the station, Several...</td>\n",
       "      <td>[vehicle:train, person:person, indoor:clock, a...</td>\n",
       "      <td>[a, red, train, is, docked, at, the, station, ...</td>\n",
       "      <td>0</td>\n",
       "      <td>0</td>\n",
       "      <td>0</td>\n",
       "      <td>0</td>\n",
       "      <td>0</td>\n",
       "      <td>...</td>\n",
       "      <td>0</td>\n",
       "      <td>0</td>\n",
       "      <td>0</td>\n",
       "      <td>0</td>\n",
       "      <td>0</td>\n",
       "      <td>0</td>\n",
       "      <td>0</td>\n",
       "      <td>0</td>\n",
       "      <td>0</td>\n",
       "      <td>0</td>\n",
       "    </tr>\n",
       "    <tr>\n",
       "      <td>1</td>\n",
       "      <td>images_train/984.jpg</td>\n",
       "      <td>[-1.3469539880752563, -3.1194605827331543, -0....</td>\n",
       "      <td>[A man with blue jersey holding a baseball bat...</td>\n",
       "      <td>[person:person, sports:baseball bat]</td>\n",
       "      <td>[A, man, with, blue, jersey, holding, a, baseb...</td>\n",
       "      <td>0</td>\n",
       "      <td>0</td>\n",
       "      <td>0</td>\n",
       "      <td>0</td>\n",
       "      <td>0</td>\n",
       "      <td>...</td>\n",
       "      <td>0</td>\n",
       "      <td>0</td>\n",
       "      <td>0</td>\n",
       "      <td>0</td>\n",
       "      <td>0</td>\n",
       "      <td>0</td>\n",
       "      <td>0</td>\n",
       "      <td>0</td>\n",
       "      <td>0</td>\n",
       "      <td>0</td>\n",
       "    </tr>\n",
       "    <tr>\n",
       "      <td>2</td>\n",
       "      <td>images_train/7127.jpg</td>\n",
       "      <td>[-3.44549822807312, -1.5245732069015503, -1.00...</td>\n",
       "      <td>[A kitchen decorated in red and white with acc...</td>\n",
       "      <td>[appliance:refrigerator, appliance:oven, appli...</td>\n",
       "      <td>[A, kitchen, decorated, in, red, and, white, w...</td>\n",
       "      <td>0</td>\n",
       "      <td>0</td>\n",
       "      <td>0</td>\n",
       "      <td>0</td>\n",
       "      <td>0</td>\n",
       "      <td>...</td>\n",
       "      <td>0</td>\n",
       "      <td>0</td>\n",
       "      <td>0</td>\n",
       "      <td>0</td>\n",
       "      <td>0</td>\n",
       "      <td>0</td>\n",
       "      <td>0</td>\n",
       "      <td>0</td>\n",
       "      <td>0</td>\n",
       "      <td>0</td>\n",
       "    </tr>\n",
       "    <tr>\n",
       "      <td>3</td>\n",
       "      <td>images_train/9609.jpg</td>\n",
       "      <td>[1.1146496534347534, -2.1671018600463867, 0.09...</td>\n",
       "      <td>[A black and white dog chasing sheep in a fiel...</td>\n",
       "      <td>[animal:dog, animal:sheep]</td>\n",
       "      <td>[A, black, and, white, dog, chasing, sheep, in...</td>\n",
       "      <td>0</td>\n",
       "      <td>0</td>\n",
       "      <td>0</td>\n",
       "      <td>0</td>\n",
       "      <td>0</td>\n",
       "      <td>...</td>\n",
       "      <td>0</td>\n",
       "      <td>0</td>\n",
       "      <td>0</td>\n",
       "      <td>0</td>\n",
       "      <td>0</td>\n",
       "      <td>0</td>\n",
       "      <td>0</td>\n",
       "      <td>0</td>\n",
       "      <td>0</td>\n",
       "      <td>0</td>\n",
       "    </tr>\n",
       "    <tr>\n",
       "      <td>4</td>\n",
       "      <td>images_train/5293.jpg</td>\n",
       "      <td>[1.6026496887207031, -1.5058174133300781, 3.02...</td>\n",
       "      <td>[Two bears with their mouths open in the water...</td>\n",
       "      <td>[animal:bear]</td>\n",
       "      <td>[Two, bears, with, their, mouths, open, in, th...</td>\n",
       "      <td>0</td>\n",
       "      <td>0</td>\n",
       "      <td>0</td>\n",
       "      <td>0</td>\n",
       "      <td>0</td>\n",
       "      <td>...</td>\n",
       "      <td>0</td>\n",
       "      <td>0</td>\n",
       "      <td>0</td>\n",
       "      <td>0</td>\n",
       "      <td>0</td>\n",
       "      <td>0</td>\n",
       "      <td>0</td>\n",
       "      <td>0</td>\n",
       "      <td>0</td>\n",
       "      <td>0</td>\n",
       "    </tr>\n",
       "  </tbody>\n",
       "</table>\n",
       "<p>5 rows × 15866 columns</p>\n",
       "</div>"
      ],
      "text/plain": [
       "              image_file                                      resnet_vector  \\\n",
       "0  images_train/5373.jpg  [-0.8994496464729309, -0.9304700493812561, -2....   \n",
       "1   images_train/984.jpg  [-1.3469539880752563, -3.1194605827331543, -0....   \n",
       "2  images_train/7127.jpg  [-3.44549822807312, -1.5245732069015503, -1.00...   \n",
       "3  images_train/9609.jpg  [1.1146496534347534, -2.1671018600463867, 0.09...   \n",
       "4  images_train/5293.jpg  [1.6026496887207031, -1.5058174133300781, 3.02...   \n",
       "\n",
       "                                        descriptions  \\\n",
       "0  [a red train is docked at the station, Several...   \n",
       "1  [A man with blue jersey holding a baseball bat...   \n",
       "2  [A kitchen decorated in red and white with acc...   \n",
       "3  [A black and white dog chasing sheep in a fiel...   \n",
       "4  [Two bears with their mouths open in the water...   \n",
       "\n",
       "                                                tags  \\\n",
       "0  [vehicle:train, person:person, indoor:clock, a...   \n",
       "1               [person:person, sports:baseball bat]   \n",
       "2  [appliance:refrigerator, appliance:oven, appli...   \n",
       "3                         [animal:dog, animal:sheep]   \n",
       "4                                      [animal:bear]   \n",
       "\n",
       "                                         desc_joined     \"  \"1802\".  \"3-way\"  \\\n",
       "0  [a, red, train, is, docked, at, the, station, ...  0  0        0        0   \n",
       "1  [A, man, with, blue, jersey, holding, a, baseb...  0  0        0        0   \n",
       "2  [A, kitchen, decorated, in, red, and, white, w...  0  0        0        0   \n",
       "3  [A, black, and, white, dog, chasing, sheep, in...  0  0        0        0   \n",
       "4  [Two, bears, with, their, mouths, open, in, th...  0  0        0        0   \n",
       "\n",
       "   \"30  ...  zoo  zoo,  zoo.  zoo..  zookeeper  zoom  zucchini  zucchini,  \\\n",
       "0    0  ...    0     0     0      0          0     0         0          0   \n",
       "1    0  ...    0     0     0      0          0     0         0          0   \n",
       "2    0  ...    0     0     0      0          0     0         0          0   \n",
       "3    0  ...    0     0     0      0          0     0         0          0   \n",
       "4    0  ...    0     0     0      0          0     0         0          0   \n",
       "\n",
       "   zucchini.  zucchinis,  \n",
       "0          0           0  \n",
       "1          0           0  \n",
       "2          0           0  \n",
       "3          0           0  \n",
       "4          0           0  \n",
       "\n",
       "[5 rows x 15866 columns]"
      ]
     },
     "execution_count": 14,
     "metadata": {},
     "output_type": "execute_result"
    }
   ],
   "source": [
    "mlb = MultiLabelBinarizer()\n",
    "one_hot_encodings = mlb.fit_transform(df['desc_joined'])\n",
    "one_hot_columns = mlb.classes_\n",
    "\n",
    "train_one_hot = df.join(\n",
    "    pd.DataFrame(\n",
    "        one_hot_encodings,\n",
    "        columns=one_hot_columns,\n",
    "        index=df.index\n",
    "    ))\n",
    "\n",
    "train_one_hot = train_one_hot\n",
    "\n",
    "train_one_hot.head()"
   ]
  },
  {
   "cell_type": "markdown",
   "metadata": {},
   "source": [
    "### Doc2Vec"
   ]
  },
  {
   "cell_type": "code",
   "execution_count": 38,
   "metadata": {},
   "outputs": [],
   "source": [
    "descriptions_flattened = [doc.split(\" \") for i, docs in enumerate(df['descriptions']) for doc in docs]"
   ]
  },
  {
   "cell_type": "code",
   "execution_count": 56,
   "metadata": {},
   "outputs": [
    {
     "name": "stdout",
     "output_type": "stream",
     "text": [
      "Epoch #1 is complete.\n",
      "Epoch #2 is complete.\n",
      "Epoch #3 is complete.\n"
     ]
    }
   ],
   "source": [
    "train_desc, test_desc = train_test_split(descriptions_flattened)\n",
    "\n",
    "train_docs = [TaggedDocument(doc, [i]) for i, doc in enumerate(train_desc)]\n",
    "test_docs = [TaggedDocument(doc, [i]) for i, doc in enumerate(test_desc)]\n",
    "\n",
    "model = Doc2Vec(vector_size=50, min_count=1, epochs=40)\n",
    "\n",
    "model.build_vocab(train_docs)\n",
    "\n",
    "# increase epochs\n",
    "for epoch in range(3):\n",
    "    model.train(train_docs, epochs=model.epochs, total_examples=model.corpus_count)\n",
    "    print(\"Epoch #{} is complete.\".format(epoch+1))"
   ]
  },
  {
   "cell_type": "code",
   "execution_count": 57,
   "metadata": {},
   "outputs": [],
   "source": [
    "test_documents = [TaggedDocument(doc, [i]) for i, doc in enumerate(test_docs)]"
   ]
  },
  {
   "cell_type": "code",
   "execution_count": 70,
   "metadata": {},
   "outputs": [
    {
     "name": "stdout",
     "output_type": "stream",
     "text": [
      "Test Document (3051): «A river with a red brick bridge over it.»\n",
      "\n",
      "SIMILAR/DISSIMILAR DOCS PER MODEL Doc2Vec(dm/m,d50,n5,w5,s0.001,t3):\n",
      "\n",
      "MOST (32146, 0.6554316878318787): «A baby putting it's hand in a blue and white cake.»\n",
      "\n",
      "MEDIAN (2612, 0.04442016780376434): «Two men who are skateboarding down a street.»\n",
      "\n",
      "LEAST (30545, -0.4891502261161804): «A cat wearing a tie, laying on a large soft surface.»\n",
      "\n"
     ]
    }
   ],
   "source": [
    "# Pick a random document from the test corpus and infer a vector from the model\n",
    "doc_id = random.randint(0, len(test_docs) - 1)\n",
    "inferred_vector = model.infer_vector(test_docs[doc_id])\n",
    "sims = model.docvecs.most_similar([inferred_vector], topn=len(model.docvecs))\n",
    "\n",
    "# Compare and print the most/median/least similar documents from the train corpus\n",
    "print('Test Document ({}): «{}»\\n'.format(doc_id, ' '.join(test_docs[doc_id])))\n",
    "print(u'SIMILAR/DISSIMILAR DOCS PER MODEL %s:\\n' % model)\n",
    "for label, index in [('MOST', 0), ('MEDIAN', len(sims)//2), ('LEAST', len(sims) - 1)]:\n",
    "    print(u'%s %s: «%s»\\n' % (label, sims[index], ' '.join(train_docs[sims[index][0]])))"
   ]
  }
 ],
 "metadata": {
  "kernelspec": {
   "display_name": "Python 3",
   "language": "python",
   "name": "python3"
  },
  "language_info": {
   "codemirror_mode": {
    "name": "ipython",
    "version": 3
   },
   "file_extension": ".py",
   "mimetype": "text/x-python",
   "name": "python",
   "nbconvert_exporter": "python",
   "pygments_lexer": "ipython3",
   "version": "3.7.5"
  }
 },
 "nbformat": 4,
 "nbformat_minor": 2
}
