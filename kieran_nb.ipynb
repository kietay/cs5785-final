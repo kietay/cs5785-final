{
 "cells": [
  {
   "cell_type": "code",
   "execution_count": 2,
   "metadata": {},
   "outputs": [
    {
     "name": "stdout",
     "output_type": "stream",
     "text": [
      "\u001b[34mdescriptions_test\u001b[m\u001b[m     \u001b[34mfeatures_train\u001b[m\u001b[m        sample_submission.csv\r\n",
      "\u001b[34mdescriptions_train\u001b[m\u001b[m    \u001b[34mimages_test\u001b[m\u001b[m           \u001b[34mtags_test\u001b[m\u001b[m\r\n",
      "\u001b[34mfeatures_test\u001b[m\u001b[m         \u001b[34mimages_train\u001b[m\u001b[m          \u001b[34mtags_train\u001b[m\u001b[m\r\n"
     ]
    }
   ],
   "source": [
    "!ls data"
   ]
  },
  {
   "cell_type": "code",
   "execution_count": null,
   "metadata": {},
   "outputs": [],
   "source": []
  }
 ],
 "metadata": {
  "kernelspec": {
   "display_name": "Python 3",
   "language": "python",
   "name": "python3"
  },
  "language_info": {
   "codemirror_mode": {
    "name": "ipython",
    "version": 3
   },
   "file_extension": ".py",
   "mimetype": "text/x-python",
   "name": "python",
   "nbconvert_exporter": "python",
   "pygments_lexer": "ipython3",
   "version": "3.7.5"
  }
 },
 "nbformat": 4,
 "nbformat_minor": 2
}
