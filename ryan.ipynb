{
 "cells": [
  {
   "cell_type": "code",
   "execution_count": 1,
   "metadata": {},
   "outputs": [],
   "source": [
    "from torch.utils.data import Dataset, DataLoader\n",
    "from matplotlib import pyplot as plt\n",
    "from PIL import Image\n",
    "import pandas as pd\n",
    "import numpy as np\n",
    "import torch\n",
    "import os"
   ]
  },
  {
   "cell_type": "code",
   "execution_count": 2,
   "metadata": {},
   "outputs": [],
   "source": [
    "class wordpicDataset(Dataset):\n",
    "    \n",
    "    def __init__(self, root_dir, train=True, transform=None):\n",
    "        \"\"\"\n",
    "        read csv's and descriptions directory to extract\n",
    "        raw data in (description, resnet_embedding, image_label) format\n",
    "        \"\"\"\n",
    "        \n",
    "        self.transform = transform\n",
    "\n",
    "        if train:\n",
    "            resnet = pd.read_csv(os.path.join(root_dir, \\\n",
    "                                'features_train/features_resnet1000_train.csv'),header=None)\n",
    "            \n",
    "            # strip file directory and .jpg extension, extract only image number for indexing\n",
    "            idx = resnet.iloc[:,0].str.split('/')[:].apply(pd.Series).iloc[:,1] \\\n",
    "                        .str.split('.').apply(pd.Series).iloc[:,0].astype('int32')\n",
    "            resnet.iloc[:,0] = idx\n",
    "            resnet = resnet.sort_values(by=0)\n",
    "            self.resnet = resnet\n",
    "            \n",
    "            # TODO: explore intermediate resnet feature map\n",
    "            self.resnet_inter = pd.read_csv(os.path.join(root_dir, \\\n",
    "                                'features_train/features_resnet1000intermediate_train.csv'),header=None)\n",
    "            \n",
    "            # os.walk doesn't supply texts in numeric order\n",
    "            texts = ['None']*10000\n",
    "            for root, directory, files in os.walk(os.path.join(root_dir,'descriptions_train')):\n",
    "                for file in files:\n",
    "                    d = os.path.join(root_dir,'descriptions_train')\n",
    "                    with open(os.path.join(d,file),'r') as f:\n",
    "                        text = f.read().replace('\\n','')\n",
    "                        txt_loc = int(file.split('.')[0])\n",
    "                        texts[txt_loc] = text\n",
    "                        \n",
    "            # return (description, resnet_embedding, image_label) \n",
    "            self.raw_data = []\n",
    "                    \n",
    "            for i in range(10000):\n",
    "                # store image label as int \n",
    "                # TODO: is image file path more convenient?\n",
    "                self.raw_data.append((texts[i],self.resnet.iloc[i,1:],i))\n",
    "\n",
    "        else:\n",
    "            \n",
    "            resnet = pd.read_csv(os.path.join(root_dir, \\\n",
    "                                'features_test/features_resnet1000_test.csv'),header=None)\n",
    "            \n",
    "            idx = resnet.iloc[:,0].str.split('/')[:].apply(pd.Series).iloc[:,1] \\\n",
    "                        .str.split('.').apply(pd.Series).iloc[:,0].astype('int32')\n",
    "            resnet.iloc[:,0] = idx\n",
    "            resnet = resnet.sort_values(by=0)\n",
    "            self.resnet = resnet\n",
    "            \n",
    "            self.resnet_inter = pd.read_csv(os.path.join(root_dir, \\\n",
    "                                'features_test/features_resnet1000intermediate_test.csv'),header=None)\n",
    "            self.transform = transform\n",
    "            \n",
    "            texts = ['None']*2000\n",
    "            for root, directory, files in os.walk(os.path.join(root_dir,'descriptions_test')):\n",
    "                for file in files:\n",
    "                    d = os.path.join(root_dir,'descriptions_test')\n",
    "                    with open(os.path.join(d,file),'r') as f:\n",
    "                        text = f.read().replace('\\n','')\n",
    "                        txt_loc = int(file.split('.')[0])\n",
    "                        texts[txt_loc] = text\n",
    "            \n",
    "            # return (description, resnet_embedding) \n",
    "            self.raw_data = []\n",
    "\n",
    "            for i in range(2000):\n",
    "                self.raw_data.append((texts[i],self.resnet.iloc[i,1:]))\n",
    "        \n",
    "        \n",
    "    def __len__(self):\n",
    "        return len(self.raw_data)\n",
    "    \n",
    "    \n",
    "    def __getitem__(self,idx):\n",
    "        \n",
    "        if type(idx) == torch.tensor:\n",
    "            idx = idx.item()\n",
    "            \n",
    "        # TODO: embedding transforms\n",
    "        if self.transform:\n",
    "            pass\n",
    "        \n",
    "        # check resnet dim\n",
    "        assert self.raw_data[idx][1].shape == (1000,), self.raw_data[idx][1].shape\n",
    "        return self.raw_data[idx]"
   ]
  },
  {
   "cell_type": "code",
   "execution_count": null,
   "metadata": {
    "scrolled": true
   },
   "outputs": [],
   "source": [
    "train = wordpicDataset('data/')\n",
    "test = wordpicDataset('data/',train=False)"
   ]
  },
  {
   "cell_type": "code",
   "execution_count": null,
   "metadata": {
    "scrolled": false
   },
   "outputs": [],
   "source": [
    "# see if the data is formatted correctly\n",
    "print(train[0][0])\n",
    "display(Image.open('data/images_train/0.jpg'))\n",
    "\n",
    "# find first resnet feature vector to compare\n",
    "resnet = pd.read_csv(os.path.join('data/', \\\n",
    "                                'features_train/features_resnet1000_train.csv'),header=None)\n",
    "idx = resnet.iloc[:,0].str.split('/')[:].apply(pd.Series).iloc[:,1] \\\n",
    "            .str.split('.').apply(pd.Series).iloc[:,0].astype('int32')\n",
    "resnet.iloc[:,0] = idx\n",
    "resnet = resnet.sort_values(by=0)\n",
    "print(\"\\ncorrect resnet feature: \" + str(np.array_equal(resnet.iloc[0,1:],train[0][1])))"
   ]
  },
  {
   "cell_type": "code",
   "execution_count": null,
   "metadata": {},
   "outputs": [],
   "source": [
    "# check test data\n",
    "print(test[0][0])\n",
    "print(test[0][1].shape)"
   ]
  },
  {
   "cell_type": "code",
   "execution_count": null,
   "metadata": {},
   "outputs": [],
   "source": [
    "torch.manual_seed(0)\n",
    "\n",
    "BATCH_SIZE = 128"
   ]
  }
 ],
 "metadata": {
  "kernelspec": {
   "display_name": "Python 3",
   "language": "python",
   "name": "python3"
  },
  "language_info": {
   "codemirror_mode": {
    "name": "ipython",
    "version": 3
   },
   "file_extension": ".py",
   "mimetype": "text/x-python",
   "name": "python",
   "nbconvert_exporter": "python",
   "pygments_lexer": "ipython3",
   "version": "3.7.3"
  }
 },
 "nbformat": 4,
 "nbformat_minor": 2
}
